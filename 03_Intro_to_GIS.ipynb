{
 "cells": [
  {
   "cell_type": "markdown",
   "metadata": {
    "colab_type": "text",
    "id": "EfKSXVSMZgh3"
   },
   "source": [
    "# Intro to GIS with Python\n",
    "## What is GIS?\n",
    "GIS stands for _geographic information system_. Colloquially, it's the process of presenting and analyzing data on maps. GIS allows us to visualize and characterize the nature of spatially distributed data, including weather, infrastructure, and populations. As you can imagine, this is key for disaster response scenarios for both diagnosing the situation, as well as planning and monitoring the response.\n",
    "\n",
    "There are dozens of different GIS software options, both free and commercial. In this course, we will focus on free, python-based tools and packages. The principles taught in this course should carry over to most common GIS implementations. \n",
    "\n",
    "In particular, we will be using:\n",
    "- GDAL\n",
    "- geopandas\n",
    "\n",
    "This content is based off of the [Automating GIS Processes course](https://automating-gis-processes.github.io/2018/) from the University of Helsinki"
   ]
  },
  {
   "cell_type": "code",
   "execution_count": 186,
   "metadata": {
    "colab": {},
    "colab_type": "code",
    "id": "U1VkoUkxZVeg"
   },
   "outputs": [],
   "source": [
    "try: # try the following block of code\n",
    "  import geopandas as gpd\n",
    "except: # if the try block throws an error, run the following\n",
    "  !pip install geopandas # install geopandas\n",
    "  import geopandas as gpd\n",
    "\n",
    "try:\n",
    "  import contextily as ctx # import\n",
    "except:\n",
    "  !apt install libproj-dev proj-data proj-bin\n",
    "  !apt install libgeos-dev\n",
    "  !pip install cython\n",
    "  !pip install cartopy\n",
    "  !pip install contextily==1.0rc1 --no-use-pep517 --no-cache-dir\n",
    "import contextily as ctx # library for providing background maps\n",
    "import fiona # library for reading/writing GIS files, comes w/ geopandas\n",
    "from shapely.geometry import Point, LineString, Polygon\n",
    "from matplotlib import pyplot as plt\n",
    "import pandas as pd"
   ]
  },
  {
   "cell_type": "markdown",
   "metadata": {
    "colab_type": "text",
    "id": "I4FdxWjGoa3Q"
   },
   "source": [
    "## Reading in GIS data\n",
    "For this lesson we are using data in Shapefile format representing distributions of specific beautifully colored fish species called Damselfish and the country borders of Europe.\n",
    "\n",
    "We're going to use the `wget` terminal command to download a file from a url.\n",
    "We then use `unzip` to unzip the archive into a folder of the same name. The `-o` option is used to overwrite the folder if it already exists\n",
    "We then us `ls` to see the contents of the folder"
   ]
  },
  {
   "cell_type": "code",
   "execution_count": 119,
   "metadata": {
    "colab": {
     "base_uri": "https://localhost:8080/",
     "height": 610
    },
    "colab_type": "code",
    "id": "ul2tHaBOn7xt",
    "outputId": "6e0fb5ec-21ca-44d9-e254-44e2bc4f18b1"
   },
   "outputs": [
    {
     "name": "stdout",
     "output_type": "stream",
     "text": [
      "--2020-07-13 12:50:11--  https://github.com/Automating-GIS-processes/Lesson-2-Geo-DataFrames/raw/master/data/Data.zip\n",
      "Resolving github.com (github.com)... 140.82.112.3\n",
      "Connecting to github.com (github.com)|140.82.112.3|:443... connected.\n",
      "HTTP request sent, awaiting response... 302 Found\n",
      "Location: https://raw.githubusercontent.com/Automating-GIS-processes/Lesson-2-Geo-DataFrames/master/data/Data.zip [following]\n",
      "--2020-07-13 12:50:11--  https://raw.githubusercontent.com/Automating-GIS-processes/Lesson-2-Geo-DataFrames/master/data/Data.zip\n",
      "Resolving raw.githubusercontent.com (raw.githubusercontent.com)... 199.232.64.133\n",
      "Connecting to raw.githubusercontent.com (raw.githubusercontent.com)|199.232.64.133|:443... connected.\n",
      "HTTP request sent, awaiting response... 200 OK\n",
      "Length: 12436106 (12M) [application/zip]\n",
      "Saving to: ‘fish_data.zip’\n",
      "\n",
      "fish_data.zip       100%[===================>]  11.86M  31.2MB/s    in 0.4s    \n",
      "\n",
      "2020-07-13 12:50:12 (31.2 MB/s) - ‘fish_data.zip’ saved [12436106/12436106]\n",
      "\n",
      "Archive:  fish_data.zip\n",
      " extracting: Data/DAMSELFISH_distributions.cpg  \n",
      "  inflating: Data/DAMSELFISH_distributions.dbf  \n",
      "  inflating: Data/DAMSELFISH_distributions.prj  \n",
      "  inflating: Data/DAMSELFISH_distributions.shp  \n",
      "  inflating: Data/DAMSELFISH_distributions.shx  \n",
      "Europe_borders.cpg  Europe_borders.sbn\tEurope_borders.shx\n",
      "Europe_borders.dbf  Europe_borders.sbx\tne_110m_admin_0_countries\n",
      "Europe_borders.prj  Europe_borders.shp\tNLS\n"
     ]
    }
   ],
   "source": [
    "!wget https://github.com/Automating-GIS-processes/Lesson-2-Geo-DataFrames/raw/master/data/Data.zip -O fish_data.zip\n",
    "!unzip -o fish_data.zip \n",
    "!ls L2_data"
   ]
  },
  {
   "cell_type": "markdown",
   "metadata": {
    "colab_type": "text",
    "id": "jTVbTuHmpQc2"
   },
   "source": [
    "Typically reading the data into Python is the first step of the analysis pipeline. In GIS, there exists various dataformats such as [Shapefile](https://en.wikipedia.org/wiki/Shapefile), [GeoJSON](https://en.wikipedia.org/wiki/GeoJSON), [KML](https://en.wikipedia.org/wiki/Keyhole_Markup_Language), and [GPKG](https://en.wikipedia.org/wiki/GeoPackage) that are probably the most common vector data formats. Geopandas is capable of reading data from all of these formats (plus many more). Reading spatial data can be done easily with geopandas using `gpd.from_file()` -function:"
   ]
  },
  {
   "cell_type": "code",
   "execution_count": 120,
   "metadata": {
    "colab": {},
    "colab_type": "code",
    "id": "SIt2VIrloies"
   },
   "outputs": [],
   "source": [
    "# path to shapefile\n",
    "filepath = \"Data/DAMSELFISH_distributions.shp\"\n",
    "\n",
    "# Read file using gpd.read_file()\n",
    "data = gpd.read_file(filepath)"
   ]
  },
  {
   "cell_type": "code",
   "execution_count": 121,
   "metadata": {
    "colab": {
     "base_uri": "https://localhost:8080/",
     "height": 487
    },
    "colab_type": "code",
    "id": "uSY2yeJupiBZ",
    "outputId": "fb033a3b-fba1-4fcb-d483-3b91079c5e20"
   },
   "outputs": [
    {
     "data": {
      "text/html": [
       "<div>\n",
       "<style scoped>\n",
       "    .dataframe tbody tr th:only-of-type {\n",
       "        vertical-align: middle;\n",
       "    }\n",
       "\n",
       "    .dataframe tbody tr th {\n",
       "        vertical-align: top;\n",
       "    }\n",
       "\n",
       "    .dataframe thead th {\n",
       "        text-align: right;\n",
       "    }\n",
       "</style>\n",
       "<table border=\"1\" class=\"dataframe\">\n",
       "  <thead>\n",
       "    <tr style=\"text-align: right;\">\n",
       "      <th></th>\n",
       "      <th>ID_NO</th>\n",
       "      <th>BINOMIAL</th>\n",
       "      <th>ORIGIN</th>\n",
       "      <th>COMPILER</th>\n",
       "      <th>YEAR</th>\n",
       "      <th>CITATION</th>\n",
       "      <th>SOURCE</th>\n",
       "      <th>DIST_COMM</th>\n",
       "      <th>ISLAND</th>\n",
       "      <th>SUBSPECIES</th>\n",
       "      <th>...</th>\n",
       "      <th>RL_UPDATE</th>\n",
       "      <th>KINGDOM_NA</th>\n",
       "      <th>PHYLUM_NAM</th>\n",
       "      <th>CLASS_NAME</th>\n",
       "      <th>ORDER_NAME</th>\n",
       "      <th>FAMILY_NAM</th>\n",
       "      <th>GENUS_NAME</th>\n",
       "      <th>SPECIES_NA</th>\n",
       "      <th>CATEGORY</th>\n",
       "      <th>geometry</th>\n",
       "    </tr>\n",
       "  </thead>\n",
       "  <tbody>\n",
       "    <tr>\n",
       "      <th>0</th>\n",
       "      <td>183963.0</td>\n",
       "      <td>Stegastes leucorus</td>\n",
       "      <td>1</td>\n",
       "      <td>IUCN</td>\n",
       "      <td>2010</td>\n",
       "      <td>International Union for Conservation of Nature...</td>\n",
       "      <td>None</td>\n",
       "      <td>None</td>\n",
       "      <td>None</td>\n",
       "      <td>None</td>\n",
       "      <td>...</td>\n",
       "      <td>2012.1</td>\n",
       "      <td>ANIMALIA</td>\n",
       "      <td>CHORDATA</td>\n",
       "      <td>ACTINOPTERYGII</td>\n",
       "      <td>PERCIFORMES</td>\n",
       "      <td>POMACENTRIDAE</td>\n",
       "      <td>Stegastes</td>\n",
       "      <td>leucorus</td>\n",
       "      <td>VU</td>\n",
       "      <td>POLYGON ((-115.64375 29.71392, -115.61585 29.6...</td>\n",
       "    </tr>\n",
       "    <tr>\n",
       "      <th>1</th>\n",
       "      <td>183963.0</td>\n",
       "      <td>Stegastes leucorus</td>\n",
       "      <td>1</td>\n",
       "      <td>IUCN</td>\n",
       "      <td>2010</td>\n",
       "      <td>International Union for Conservation of Nature...</td>\n",
       "      <td>None</td>\n",
       "      <td>None</td>\n",
       "      <td>None</td>\n",
       "      <td>None</td>\n",
       "      <td>...</td>\n",
       "      <td>2012.1</td>\n",
       "      <td>ANIMALIA</td>\n",
       "      <td>CHORDATA</td>\n",
       "      <td>ACTINOPTERYGII</td>\n",
       "      <td>PERCIFORMES</td>\n",
       "      <td>POMACENTRIDAE</td>\n",
       "      <td>Stegastes</td>\n",
       "      <td>leucorus</td>\n",
       "      <td>VU</td>\n",
       "      <td>POLYGON ((-105.58995 21.89340, -105.56483 21.8...</td>\n",
       "    </tr>\n",
       "    <tr>\n",
       "      <th>2</th>\n",
       "      <td>183963.0</td>\n",
       "      <td>Stegastes leucorus</td>\n",
       "      <td>1</td>\n",
       "      <td>IUCN</td>\n",
       "      <td>2010</td>\n",
       "      <td>International Union for Conservation of Nature...</td>\n",
       "      <td>None</td>\n",
       "      <td>None</td>\n",
       "      <td>None</td>\n",
       "      <td>None</td>\n",
       "      <td>...</td>\n",
       "      <td>2012.1</td>\n",
       "      <td>ANIMALIA</td>\n",
       "      <td>CHORDATA</td>\n",
       "      <td>ACTINOPTERYGII</td>\n",
       "      <td>PERCIFORMES</td>\n",
       "      <td>POMACENTRIDAE</td>\n",
       "      <td>Stegastes</td>\n",
       "      <td>leucorus</td>\n",
       "      <td>VU</td>\n",
       "      <td>POLYGON ((-111.15962 19.01536, -111.15948 18.9...</td>\n",
       "    </tr>\n",
       "    <tr>\n",
       "      <th>3</th>\n",
       "      <td>183793.0</td>\n",
       "      <td>Chromis intercrusma</td>\n",
       "      <td>1</td>\n",
       "      <td>IUCN</td>\n",
       "      <td>2010</td>\n",
       "      <td>International Union for Conservation of Nature...</td>\n",
       "      <td>None</td>\n",
       "      <td>None</td>\n",
       "      <td>None</td>\n",
       "      <td>None</td>\n",
       "      <td>...</td>\n",
       "      <td>2012.1</td>\n",
       "      <td>ANIMALIA</td>\n",
       "      <td>CHORDATA</td>\n",
       "      <td>ACTINOPTERYGII</td>\n",
       "      <td>PERCIFORMES</td>\n",
       "      <td>POMACENTRIDAE</td>\n",
       "      <td>Chromis</td>\n",
       "      <td>intercrusma</td>\n",
       "      <td>LC</td>\n",
       "      <td>POLYGON ((-80.86500 -0.77894, -80.75930 -0.833...</td>\n",
       "    </tr>\n",
       "    <tr>\n",
       "      <th>4</th>\n",
       "      <td>183793.0</td>\n",
       "      <td>Chromis intercrusma</td>\n",
       "      <td>1</td>\n",
       "      <td>IUCN</td>\n",
       "      <td>2010</td>\n",
       "      <td>International Union for Conservation of Nature...</td>\n",
       "      <td>None</td>\n",
       "      <td>None</td>\n",
       "      <td>None</td>\n",
       "      <td>None</td>\n",
       "      <td>...</td>\n",
       "      <td>2012.1</td>\n",
       "      <td>ANIMALIA</td>\n",
       "      <td>CHORDATA</td>\n",
       "      <td>ACTINOPTERYGII</td>\n",
       "      <td>PERCIFORMES</td>\n",
       "      <td>POMACENTRIDAE</td>\n",
       "      <td>Chromis</td>\n",
       "      <td>intercrusma</td>\n",
       "      <td>LC</td>\n",
       "      <td>POLYGON ((-67.33922 -55.67610, -67.33755 -55.6...</td>\n",
       "    </tr>\n",
       "  </tbody>\n",
       "</table>\n",
       "<p>5 rows × 24 columns</p>\n",
       "</div>"
      ],
      "text/plain": [
       "      ID_NO             BINOMIAL  ORIGIN COMPILER  YEAR  \\\n",
       "0  183963.0   Stegastes leucorus       1     IUCN  2010   \n",
       "1  183963.0   Stegastes leucorus       1     IUCN  2010   \n",
       "2  183963.0   Stegastes leucorus       1     IUCN  2010   \n",
       "3  183793.0  Chromis intercrusma       1     IUCN  2010   \n",
       "4  183793.0  Chromis intercrusma       1     IUCN  2010   \n",
       "\n",
       "                                            CITATION SOURCE DIST_COMM ISLAND  \\\n",
       "0  International Union for Conservation of Nature...   None      None   None   \n",
       "1  International Union for Conservation of Nature...   None      None   None   \n",
       "2  International Union for Conservation of Nature...   None      None   None   \n",
       "3  International Union for Conservation of Nature...   None      None   None   \n",
       "4  International Union for Conservation of Nature...   None      None   None   \n",
       "\n",
       "  SUBSPECIES  ... RL_UPDATE KINGDOM_NA  PHYLUM_NAM      CLASS_NAME  \\\n",
       "0       None  ...    2012.1   ANIMALIA    CHORDATA  ACTINOPTERYGII   \n",
       "1       None  ...    2012.1   ANIMALIA    CHORDATA  ACTINOPTERYGII   \n",
       "2       None  ...    2012.1   ANIMALIA    CHORDATA  ACTINOPTERYGII   \n",
       "3       None  ...    2012.1   ANIMALIA    CHORDATA  ACTINOPTERYGII   \n",
       "4       None  ...    2012.1   ANIMALIA    CHORDATA  ACTINOPTERYGII   \n",
       "\n",
       "    ORDER_NAME     FAMILY_NAM GENUS_NAME   SPECIES_NA CATEGORY  \\\n",
       "0  PERCIFORMES  POMACENTRIDAE  Stegastes     leucorus       VU   \n",
       "1  PERCIFORMES  POMACENTRIDAE  Stegastes     leucorus       VU   \n",
       "2  PERCIFORMES  POMACENTRIDAE  Stegastes     leucorus       VU   \n",
       "3  PERCIFORMES  POMACENTRIDAE    Chromis  intercrusma       LC   \n",
       "4  PERCIFORMES  POMACENTRIDAE    Chromis  intercrusma       LC   \n",
       "\n",
       "                                            geometry  \n",
       "0  POLYGON ((-115.64375 29.71392, -115.61585 29.6...  \n",
       "1  POLYGON ((-105.58995 21.89340, -105.56483 21.8...  \n",
       "2  POLYGON ((-111.15962 19.01536, -111.15948 18.9...  \n",
       "3  POLYGON ((-80.86500 -0.77894, -80.75930 -0.833...  \n",
       "4  POLYGON ((-67.33922 -55.67610, -67.33755 -55.6...  \n",
       "\n",
       "[5 rows x 24 columns]"
      ]
     },
     "execution_count": 121,
     "metadata": {},
     "output_type": "execute_result"
    }
   ],
   "source": [
    "data.head() #look at top entries - looks like a pandas dataframe"
   ]
  },
  {
   "cell_type": "code",
   "execution_count": 122,
   "metadata": {
    "colab": {
     "base_uri": "https://localhost:8080/",
     "height": 34
    },
    "colab_type": "code",
    "id": "nVgTgQ1fpjue",
    "outputId": "4f9ef7d2-f5e6-428f-9b83-03d580c2fdc2"
   },
   "outputs": [
    {
     "data": {
      "text/plain": [
       "shapely.geometry.polygon.Polygon"
      ]
     },
     "execution_count": 122,
     "metadata": {},
     "output_type": "execute_result"
    }
   ],
   "source": [
    "# Note the column 'geometry' is full of shapely Polygon objects\n",
    "type(data['geometry'].iloc[0])"
   ]
  },
  {
   "cell_type": "code",
   "execution_count": 123,
   "metadata": {
    "colab": {
     "base_uri": "https://localhost:8080/",
     "height": 1000
    },
    "colab_type": "code",
    "id": "8N1mjrnqkrZY",
    "outputId": "6947c138-a01f-408e-ce54-c57fcd27ab63"
   },
   "outputs": [
    {
     "data": {
      "text/html": [
       "<div>\n",
       "<style scoped>\n",
       "    .dataframe tbody tr th:only-of-type {\n",
       "        vertical-align: middle;\n",
       "    }\n",
       "\n",
       "    .dataframe tbody tr th {\n",
       "        vertical-align: top;\n",
       "    }\n",
       "\n",
       "    .dataframe thead th {\n",
       "        text-align: right;\n",
       "    }\n",
       "</style>\n",
       "<table border=\"1\" class=\"dataframe\">\n",
       "  <thead>\n",
       "    <tr style=\"text-align: right;\">\n",
       "      <th></th>\n",
       "      <th>minx</th>\n",
       "      <th>miny</th>\n",
       "      <th>maxx</th>\n",
       "      <th>maxy</th>\n",
       "    </tr>\n",
       "  </thead>\n",
       "  <tbody>\n",
       "    <tr>\n",
       "      <th>0</th>\n",
       "      <td>-116.222084</td>\n",
       "      <td>21.890988</td>\n",
       "      <td>-108.497261</td>\n",
       "      <td>29.767482</td>\n",
       "    </tr>\n",
       "    <tr>\n",
       "      <th>1</th>\n",
       "      <td>-107.594206</td>\n",
       "      <td>18.358633</td>\n",
       "      <td>-103.606827</td>\n",
       "      <td>22.256010</td>\n",
       "    </tr>\n",
       "    <tr>\n",
       "      <th>2</th>\n",
       "      <td>-112.956729</td>\n",
       "      <td>18.045856</td>\n",
       "      <td>-111.159482</td>\n",
       "      <td>19.956861</td>\n",
       "    </tr>\n",
       "    <tr>\n",
       "      <th>3</th>\n",
       "      <td>-82.225059</td>\n",
       "      <td>-57.388035</td>\n",
       "      <td>-67.241505</td>\n",
       "      <td>-0.692622</td>\n",
       "    </tr>\n",
       "    <tr>\n",
       "      <th>4</th>\n",
       "      <td>-67.356079</td>\n",
       "      <td>-55.719820</td>\n",
       "      <td>-67.318440</td>\n",
       "      <td>-55.663008</td>\n",
       "    </tr>\n",
       "    <tr>\n",
       "      <th>...</th>\n",
       "      <td>...</td>\n",
       "      <td>...</td>\n",
       "      <td>...</td>\n",
       "      <td>...</td>\n",
       "    </tr>\n",
       "    <tr>\n",
       "      <th>226</th>\n",
       "      <td>-120.491194</td>\n",
       "      <td>31.735737</td>\n",
       "      <td>-117.143276</td>\n",
       "      <td>34.476475</td>\n",
       "    </tr>\n",
       "    <tr>\n",
       "      <th>227</th>\n",
       "      <td>-119.352264</td>\n",
       "      <td>27.831807</td>\n",
       "      <td>-117.397705</td>\n",
       "      <td>30.225376</td>\n",
       "    </tr>\n",
       "    <tr>\n",
       "      <th>228</th>\n",
       "      <td>-116.439015</td>\n",
       "      <td>27.239447</td>\n",
       "      <td>-114.631652</td>\n",
       "      <td>29.299307</td>\n",
       "    </tr>\n",
       "    <tr>\n",
       "      <th>229</th>\n",
       "      <td>-112.956729</td>\n",
       "      <td>18.045856</td>\n",
       "      <td>-111.159482</td>\n",
       "      <td>19.956861</td>\n",
       "    </tr>\n",
       "    <tr>\n",
       "      <th>230</th>\n",
       "      <td>-115.054175</td>\n",
       "      <td>22.711310</td>\n",
       "      <td>-113.442188</td>\n",
       "      <td>24.478484</td>\n",
       "    </tr>\n",
       "  </tbody>\n",
       "</table>\n",
       "<p>231 rows × 4 columns</p>\n",
       "</div>"
      ],
      "text/plain": [
       "           minx       miny        maxx       maxy\n",
       "0   -116.222084  21.890988 -108.497261  29.767482\n",
       "1   -107.594206  18.358633 -103.606827  22.256010\n",
       "2   -112.956729  18.045856 -111.159482  19.956861\n",
       "3    -82.225059 -57.388035  -67.241505  -0.692622\n",
       "4    -67.356079 -55.719820  -67.318440 -55.663008\n",
       "..          ...        ...         ...        ...\n",
       "226 -120.491194  31.735737 -117.143276  34.476475\n",
       "227 -119.352264  27.831807 -117.397705  30.225376\n",
       "228 -116.439015  27.239447 -114.631652  29.299307\n",
       "229 -112.956729  18.045856 -111.159482  19.956861\n",
       "230 -115.054175  22.711310 -113.442188  24.478484\n",
       "\n",
       "[231 rows x 4 columns]"
      ]
     },
     "execution_count": 123,
     "metadata": {},
     "output_type": "execute_result"
    }
   ],
   "source": [
    "# geopandas adds useful attributes to the geodataframe, such as the ability to get bounds\n",
    "# of all the geometry data\n",
    "data.bounds"
   ]
  },
  {
   "cell_type": "code",
   "execution_count": 124,
   "metadata": {
    "colab": {
     "base_uri": "https://localhost:8080/",
     "height": 1000
    },
    "colab_type": "code",
    "id": "aoPpzP7BlBso",
    "outputId": "f0b529ae-6b9a-477b-9187-717914df4171"
   },
   "outputs": [
    {
     "data": {
      "text/plain": [
       "0      MULTILINESTRING ((-115.64375 29.71392, -115.61...\n",
       "1      MULTILINESTRING ((-105.58995 21.89340, -105.56...\n",
       "2      MULTILINESTRING ((-111.15962 19.01536, -111.15...\n",
       "3      MULTILINESTRING ((-80.86500 -0.77894, -80.7593...\n",
       "4      LINESTRING (-67.33922 -55.67610, -67.33755 -55...\n",
       "                             ...                        \n",
       "226    MULTILINESTRING ((-120.11829 34.47283, -120.10...\n",
       "227    MULTILINESTRING ((-117.41363 29.18823, -117.40...\n",
       "228    MULTILINESTRING ((-114.63839 28.39008, -114.63...\n",
       "229    MULTILINESTRING ((-111.15962 19.01536, -111.15...\n",
       "230    LINESTRING (-114.24428 22.71135, -114.24818 22...\n",
       "Length: 231, dtype: geometry"
      ]
     },
     "execution_count": 124,
     "metadata": {},
     "output_type": "execute_result"
    }
   ],
   "source": [
    "# similary, we can get attributes such as boundary\n",
    "data.boundary"
   ]
  },
  {
   "cell_type": "code",
   "execution_count": 125,
   "metadata": {
    "colab": {
     "base_uri": "https://localhost:8080/",
     "height": 1000
    },
    "colab_type": "code",
    "id": "UTexsk7ElMV6",
    "outputId": "c0b7e2c3-b710-4c09-919b-0dc2906b8866"
   },
   "outputs": [
    {
     "name": "stderr",
     "output_type": "stream",
     "text": [
      "/opt/conda/lib/python3.7/site-packages/ipykernel_launcher.py:2: UserWarning: Geometry is in a geographic CRS. Results from 'area' are likely incorrect. Use 'GeoSeries.to_crs()' to re-project geometries to a projected CRS before this operation.\n",
      "\n",
      "  \n"
     ]
    },
    {
     "data": {
      "text/plain": [
       "0      19.396254\n",
       "1       6.145902\n",
       "2       2.697207\n",
       "3      87.460621\n",
       "4       0.000918\n",
       "         ...    \n",
       "226     5.990467\n",
       "227     3.638651\n",
       "228     2.849025\n",
       "229     2.697207\n",
       "230     2.237186\n",
       "Length: 231, dtype: float64"
      ]
     },
     "execution_count": 125,
     "metadata": {},
     "output_type": "execute_result"
    }
   ],
   "source": [
    "# area\n",
    "data.area"
   ]
  },
  {
   "cell_type": "code",
   "execution_count": 126,
   "metadata": {},
   "outputs": [
    {
     "data": {
      "text/plain": [
       "<matplotlib.axes._subplots.AxesSubplot at 0x7fd8ebfb0890>"
      ]
     },
     "execution_count": 126,
     "metadata": {},
     "output_type": "execute_result"
    },
    {
     "data": {
      "image/png": "[encoded data removed]",
      "text/plain": [
       "<Figure size 432x288 with 1 Axes>"
      ]
     },
     "metadata": {
      "needs_background": "light"
     },
     "output_type": "display_data"
    }
   ],
   "source": [
    "data.plot()"
   ]
  },
  {
   "cell_type": "code",
   "execution_count": 127,
   "metadata": {
    "colab": {
     "base_uri": "https://localhost:8080/",
     "height": 1000
    },
    "colab_type": "code",
    "id": "Lu41lvu3lRJR",
    "outputId": "8e9dd195-1d8c-4cbc-800c-57a40901d707"
   },
   "outputs": [
    {
     "data": {
      "text/plain": [
       "0      False\n",
       "1       True\n",
       "2       True\n",
       "3      False\n",
       "4      False\n",
       "       ...  \n",
       "226    False\n",
       "227    False\n",
       "228    False\n",
       "229     True\n",
       "230    False\n",
       "Length: 231, dtype: bool"
      ]
     },
     "execution_count": 127,
     "metadata": {},
     "output_type": "execute_result"
    }
   ],
   "source": [
    "# we can check which species can be found between latitudes 10 and 20 degrees north\n",
    "data.intersects(Polygon([(-180,10),(180,10),(180,20),(-180,20)]))"
   ]
  },
  {
   "cell_type": "markdown",
   "metadata": {
    "colab_type": "text",
    "id": "d5qkO9zEry4x"
   },
   "source": [
    "## Exercises\n",
    "Using the polygon objects in the `geometry` column of the data frame:\n",
    "- create a new column called `area` which represent the areas of each row in the shapefile\n",
    "- What are the max, min, median, and quartiles values of the areas?\n",
    "- What fraction of the areas are greater than 25 square degrees?\n",
    "- What species has the largest total area?"
   ]
  },
  {
   "cell_type": "code",
   "execution_count": 184,
   "metadata": {
    "colab": {},
    "colab_type": "code",
    "id": "JGQZFmrIs6d8"
   },
   "outputs": [
    {
     "name": "stderr",
     "output_type": "stream",
     "text": [
      "/opt/conda/lib/python3.7/site-packages/ipykernel_launcher.py:3: UserWarning: Geometry is in a geographic CRS. Results from 'area' are likely incorrect. Use 'GeoSeries.to_crs()' to re-project geometries to a projected CRS before this operation.\n",
      "\n",
      "  This is separate from the ipykernel package so we can avoid doing imports until\n"
     ]
    }
   ],
   "source": [
    "import pandas as pd\n",
    "\n",
    "data['area'] = data.area\n",
    "max_area = data['area'].max()\n",
    "min_area = data['area'].min()\n",
    "med_area = data['area'].median()\n",
    "up_quart = (max_area + med_area) / 2\n",
    "lo_quart = (min_area + med_area) / 2\n",
    "stat_area = pd.DataFrame({'Max':[max_area],\n",
    "                       'Min':[min_area],\n",
    "                         'Med':[med_area],\n",
    "                         'Q3':[up_quart],\n",
    "                         'Q1':[lo_quart]})\n",
    "frac_area = (len(data.loc[data['area'] > 25]) / len(data['area'])) * 100\n",
    "max_area_all = data.loc[data['area'].idxmax(), 'BINOMIAL']"
   ]
  },
  {
   "cell_type": "code",
   "execution_count": 177,
   "metadata": {
    "colab": {
     "base_uri": "https://localhost:8080/",
     "height": 224
    },
    "colab_type": "code",
    "id": "R_x4EWFgp3fH",
    "outputId": "879774cd-ef72-458d-bc54-f92a73fd9f03"
   },
   "outputs": [
    {
     "data": {
      "image/png": "[encoded data removed]",
      "text/plain": [
       "<Figure size 720x360 with 1 Axes>"
      ]
     },
     "metadata": {
      "needs_background": "light"
     },
     "output_type": "display_data"
    }
   ],
   "source": [
    "# we can use the built-in geopandas plot function to visualize\n",
    "ax = data.plot(figsize=(10,5), alpha=0.6, cmap='Set2')"
   ]
  },
  {
   "cell_type": "markdown",
   "metadata": {
    "colab_type": "text",
    "id": "wE97qBNR29Em"
   },
   "source": [
    "currently the colors are assigned arbitrarily. However, we can also use colors to encode information. \n",
    "\n",
    "Let's first use colors to categorize by endangerment status. To do so, we pass the `column` argument to `plot()`. For reference, we also set `legend=True`"
   ]
  },
  {
   "cell_type": "code",
   "execution_count": 130,
   "metadata": {
    "colab": {
     "base_uri": "https://localhost:8080/",
     "height": 224
    },
    "colab_type": "code",
    "id": "m0ybkz_d23BY",
    "outputId": "d6005970-8615-404c-a820-f2e04030c5db"
   },
   "outputs": [
    {
     "data": {
      "image/png": "[encoded data removed]",
      "text/plain": [
       "<Figure size 720x360 with 1 Axes>"
      ]
     },
     "metadata": {
      "needs_background": "light"
     },
     "output_type": "display_data"
    }
   ],
   "source": [
    "ax = data.plot(figsize=(10,5), alpha=0.6, cmap='Set2', column='CATEGORY', legend=True)"
   ]
  },
  {
   "cell_type": "markdown",
   "metadata": {
    "colab_type": "text",
    "id": "BVQ8tF1q3d7L"
   },
   "source": [
    "Another common use of colors to encode data is to represent numerical data in an area with colors. This is known as a [choropleth](https://en.wikipedia.org/wiki/Choropleth_map).\n",
    "\n",
    "Let's use this to encode the areas of each region"
   ]
  },
  {
   "cell_type": "code",
   "execution_count": 131,
   "metadata": {
    "colab": {
     "base_uri": "https://localhost:8080/",
     "height": 312
    },
    "colab_type": "code",
    "id": "ptYUTftF3cHz",
    "outputId": "ac65bfd7-aae2-4d2d-a3db-8d768dc79372"
   },
   "outputs": [
    {
     "name": "stderr",
     "output_type": "stream",
     "text": [
      "/opt/conda/lib/python3.7/site-packages/ipykernel_launcher.py:2: UserWarning: Geometry is in a geographic CRS. Results from 'area' are likely incorrect. Use 'GeoSeries.to_crs()' to re-project geometries to a projected CRS before this operation.\n",
      "\n",
      "  \n"
     ]
    },
    {
     "data": {
      "image/png": "[encoded data removed]",
      "text/plain": [
       "<Figure size 720x360 with 2 Axes>"
      ]
     },
     "metadata": {
      "needs_background": "light"
     },
     "output_type": "display_data"
    }
   ],
   "source": [
    "#first create a column of areas\n",
    "data['area'] = data.area\n",
    "\n",
    "#then pass the area column as an argument\n",
    "ax = data.plot(figsize=(10,5), alpha=0.6, column='area', legend=True)"
   ]
  },
  {
   "cell_type": "markdown",
   "metadata": {
    "colab_type": "text",
    "id": "fEbqROlx4tTH"
   },
   "source": [
    "The colorbar legend is too big relative to the figure. We'll have to do some manual adjustments. There are tools to create axes grids for colorbars available in:\n",
    "https://matplotlib.org/3.1.0/tutorials/toolkits/axes_grid.html"
   ]
  },
  {
   "cell_type": "code",
   "execution_count": 132,
   "metadata": {
    "colab": {
     "base_uri": "https://localhost:8080/",
     "height": 154
    },
    "colab_type": "code",
    "id": "_kpaq1NY4QQ7",
    "outputId": "03d4e922-a54d-43ef-8748-bd5006f4300d"
   },
   "outputs": [
    {
     "data": {
      "text/plain": [
       "<matplotlib.axes._subplots.AxesSubplot at 0x7fd8ec8f6e90>"
      ]
     },
     "execution_count": 132,
     "metadata": {},
     "output_type": "execute_result"
    },
    {
     "data": {
      "image/png": "[encoded data removed]",
      "text/plain": [
       "<Figure size 432x288 with 2 Axes>"
      ]
     },
     "metadata": {
      "needs_background": "light"
     },
     "output_type": "display_data"
    }
   ],
   "source": [
    "from mpl_toolkits.axes_grid1 import make_axes_locatable\n",
    "fig, ax = plt.subplots(1, 1)\n",
    "divider = make_axes_locatable(ax) #makes it so you can append to the axes\n",
    "\n",
    "#put another axes to the right of it, at 5% of the total width with 0.1 points of padding in between\n",
    "cax = divider.append_axes(\"right\", size=\"5%\", pad=0.1) \n",
    "# note that you have to specify both ax and cax as arguments for it to work\n",
    "data.plot(figsize=(10,5), alpha=0.6, column='area', \n",
    "          legend=True, ax=ax, cax=cax)"
   ]
  },
  {
   "cell_type": "markdown",
   "metadata": {
    "colab_type": "text",
    "id": "7nNv0NL2jXLf"
   },
   "source": [
    "The data by itself looks just like a bunch of blobs. Let's put it on a map for context\n",
    "\n",
    "GeoDataFrame has an attribute called `.crs` that shows the coordinate system of the data which is empty (None) in our case since we are creating the data from the scratch. \n",
    "\n",
    "We will not go into depth about projections, which are a deep topic in and of themselves. For reference, see [this lecture](https://automating-gis-processes.github.io/2018/notebooks/L2/projections.html) from the University of Helsinki Automating GIS Processes course. In short, there are many ways to flatten the globe, each with its own benefits and issues. \n",
    "\n",
    "Two of the common ones we'll be using are [Web Mercator](https://en.wikipedia.org/wiki/Web_Mercator_projection), which is common in web applications, and [WGS84](https://en.wikipedia.org/wiki/World_Geodetic_System), which is the reference coordinate system used by GPS. Each has a EPSG (European Petroleum Survey Group) code associated with it. Web Mercator is EPSG 3857, and WGS84 is 4326.\n",
    "\n",
    "[Contextily](https://github.com/darribas/contextily) is a library for creating basemaps. It pulls the data from [OpenStreetMap](https://www.openstreetmap.org), a free and excellent wiki google-maps-style service.\n"
   ]
  },
  {
   "cell_type": "code",
   "execution_count": 133,
   "metadata": {
    "colab": {
     "base_uri": "https://localhost:8080/",
     "height": 34
    },
    "colab_type": "code",
    "id": "mt9Avb0q0IuC",
    "outputId": "de741a50-5aea-4049-d92c-8422298b30f4"
   },
   "outputs": [
    {
     "data": {
      "text/plain": [
       "<Geographic 2D CRS: EPSG:4326>\n",
       "Name: WGS 84\n",
       "Axis Info [ellipsoidal]:\n",
       "- Lat[north]: Geodetic latitude (degree)\n",
       "- Lon[east]: Geodetic longitude (degree)\n",
       "Area of Use:\n",
       "- name: World\n",
       "- bounds: (-180.0, -90.0, 180.0, 90.0)\n",
       "Datum: World Geodetic System 1984\n",
       "- Ellipsoid: WGS 84\n",
       "- Prime Meridian: Greenwich"
      ]
     },
     "execution_count": 133,
     "metadata": {},
     "output_type": "execute_result"
    }
   ],
   "source": [
    "# the data is currently in WGS84\n",
    "data.crs"
   ]
  },
  {
   "cell_type": "code",
   "execution_count": 134,
   "metadata": {
    "colab": {
     "base_uri": "https://localhost:8080/",
     "height": 364
    },
    "colab_type": "code",
    "id": "DCYVcUxTh3F-",
    "outputId": "1b8cb404-7783-4b23-c84e-ec88ed62a354"
   },
   "outputs": [
    {
     "data": {
      "image/png": "[encoded data removed]",
      "text/plain": [
       "<Figure size 720x360 with 1 Axes>"
      ]
     },
     "metadata": {
      "needs_background": "light"
     },
     "output_type": "display_data"
    }
   ],
   "source": [
    "ax = data.to_crs(epsg=3857).plot(figsize=(10,5), alpha=0.6, cmap='Set2')\n",
    "# now we add a basemap. ctx finds a basemap for a background from\n",
    "# an online repository\n",
    "ctx.add_basemap(ax)"
   ]
  },
  {
   "cell_type": "markdown",
   "metadata": {
    "colab_type": "text",
    "id": "QyvB6AAbp3Gu"
   },
   "source": [
    "We can use different background styles:\n",
    "![tile styles](https://raw.githubusercontent.com/darribas/contextily/master/tiles.png).\n",
    "\n",
    "Note that some styles only contain labels or lines."
   ]
  },
  {
   "cell_type": "code",
   "execution_count": 135,
   "metadata": {
    "colab": {
     "base_uri": "https://localhost:8080/",
     "height": 260
    },
    "colab_type": "code",
    "id": "7HGDXxwgp2Fm",
    "outputId": "f0ba1fc7-c2a0-47d2-edf4-bbd69a2cd786"
   },
   "outputs": [
    {
     "data": {
      "text/plain": [
       "['deprecated_sources', 'sys', 'warnings']"
      ]
     },
     "execution_count": 135,
     "metadata": {},
     "output_type": "execute_result"
    }
   ],
   "source": [
    "sources = [i for i in dir(ctx.tile_providers) if i[0]!='_']\n",
    "sources"
   ]
  },
  {
   "cell_type": "code",
   "execution_count": 136,
   "metadata": {},
   "outputs": [
    {
     "data": {
      "text/plain": [
       "{'OpenStreetMap': {'Mapnik': {'url': 'https://{s}.tile.openstreetmap.org/{z}/{x}/{y}.png',\n",
       "   'max_zoom': 19,\n",
       "   'attribution': '(C) OpenStreetMap contributors',\n",
       "   'name': 'OpenStreetMap.Mapnik'},\n",
       "  'DE': {'url': 'https://{s}.tile.openstreetmap.de/tiles/osmde/{z}/{x}/{y}.png',\n",
       "   'max_zoom': 18,\n",
       "   'attribution': '(C) OpenStreetMap contributors',\n",
       "   'name': 'OpenStreetMap.DE'},\n",
       "  'CH': {'url': 'https://tile.osm.ch/switzerland/{z}/{x}/{y}.png',\n",
       "   'max_zoom': 18,\n",
       "   'attribution': '(C) OpenStreetMap contributors',\n",
       "   'bounds': [[45, 5], [48, 11]],\n",
       "   'name': 'OpenStreetMap.CH'},\n",
       "  'France': {'url': 'https://{s}.tile.openstreetmap.fr/osmfr/{z}/{x}/{y}.png',\n",
       "   'max_zoom': 20,\n",
       "   'attribution': '(C) Openstreetmap France | (C) OpenStreetMap contributors',\n",
       "   'name': 'OpenStreetMap.France'},\n",
       "  'HOT': {'url': 'https://{s}.tile.openstreetmap.fr/hot/{z}/{x}/{y}.png',\n",
       "   'max_zoom': 19,\n",
       "   'attribution': '(C) OpenStreetMap contributors, Tiles style by Humanitarian OpenStreetMap Team hosted by OpenStreetMap France',\n",
       "   'name': 'OpenStreetMap.HOT'},\n",
       "  'BZH': {'url': 'https://tile.openstreetmap.bzh/br/{z}/{x}/{y}.png',\n",
       "   'max_zoom': 19,\n",
       "   'attribution': '(C) OpenStreetMap contributors, Tiles courtesy of Breton OpenStreetMap Team',\n",
       "   'bounds': [[46.2, -5.5], [50, 0.7]],\n",
       "   'name': 'OpenStreetMap.BZH'}},\n",
       " 'OpenSeaMap': {'url': 'https://tiles.openseamap.org/seamark/{z}/{x}/{y}.png',\n",
       "  'attribution': 'Map data: (C) OpenSeaMap contributors',\n",
       "  'name': 'OpenSeaMap'},\n",
       " 'OpenPtMap': {'url': 'http://openptmap.org/tiles/{z}/{x}/{y}.png',\n",
       "  'max_zoom': 17,\n",
       "  'attribution': 'Map data: (C) OpenPtMap contributors',\n",
       "  'name': 'OpenPtMap'},\n",
       " 'OpenTopoMap': {'url': 'https://{s}.tile.opentopomap.org/{z}/{x}/{y}.png',\n",
       "  'max_zoom': 17,\n",
       "  'attribution': 'Map data: (C) OpenStreetMap contributors, SRTM | Map style: (C) OpenTopoMap (CC-BY-SA)',\n",
       "  'name': 'OpenTopoMap'},\n",
       " 'OpenRailwayMap': {'url': 'https://{s}.tiles.openrailwaymap.org/standard/{z}/{x}/{y}.png',\n",
       "  'max_zoom': 19,\n",
       "  'attribution': 'Map data: (C) OpenStreetMap contributors | Map style: (C) OpenRailwayMap (CC-BY-SA)',\n",
       "  'name': 'OpenRailwayMap'},\n",
       " 'OpenFireMap': {'url': 'http://openfiremap.org/hytiles/{z}/{x}/{y}.png',\n",
       "  'max_zoom': 19,\n",
       "  'attribution': 'Map data: (C) OpenStreetMap contributors | Map style: (C) OpenFireMap (CC-BY-SA)',\n",
       "  'name': 'OpenFireMap'},\n",
       " 'SafeCast': {'url': 'https://s3.amazonaws.com/te512.safecast.org/{z}/{x}/{y}.png',\n",
       "  'max_zoom': 16,\n",
       "  'attribution': 'Map data: (C) OpenStreetMap contributors | Map style: (C) SafeCast (CC-BY-SA)',\n",
       "  'name': 'SafeCast'},\n",
       " 'Thunderforest': {'OpenCycleMap': {'url': 'https://{s}.tile.thunderforest.com/{variant}/{z}/{x}/{y}.png?apikey={apikey}',\n",
       "   'attribution': '(C) Thunderforest, (C) OpenStreetMap contributors',\n",
       "   'variant': 'cycle',\n",
       "   'apikey': '<insert your api key here>',\n",
       "   'max_zoom': 22,\n",
       "   'name': 'Thunderforest.OpenCycleMap'},\n",
       "  'Transport': {'url': 'https://{s}.tile.thunderforest.com/{variant}/{z}/{x}/{y}.png?apikey={apikey}',\n",
       "   'attribution': '(C) Thunderforest, (C) OpenStreetMap contributors',\n",
       "   'variant': 'transport',\n",
       "   'apikey': '<insert your api key here>',\n",
       "   'max_zoom': 22,\n",
       "   'name': 'Thunderforest.Transport'},\n",
       "  'TransportDark': {'url': 'https://{s}.tile.thunderforest.com/{variant}/{z}/{x}/{y}.png?apikey={apikey}',\n",
       "   'attribution': '(C) Thunderforest, (C) OpenStreetMap contributors',\n",
       "   'variant': 'transport-dark',\n",
       "   'apikey': '<insert your api key here>',\n",
       "   'max_zoom': 22,\n",
       "   'name': 'Thunderforest.TransportDark'},\n",
       "  'SpinalMap': {'url': 'https://{s}.tile.thunderforest.com/{variant}/{z}/{x}/{y}.png?apikey={apikey}',\n",
       "   'attribution': '(C) Thunderforest, (C) OpenStreetMap contributors',\n",
       "   'variant': 'spinal-map',\n",
       "   'apikey': '<insert your api key here>',\n",
       "   'max_zoom': 22,\n",
       "   'name': 'Thunderforest.SpinalMap'},\n",
       "  'Landscape': {'url': 'https://{s}.tile.thunderforest.com/{variant}/{z}/{x}/{y}.png?apikey={apikey}',\n",
       "   'attribution': '(C) Thunderforest, (C) OpenStreetMap contributors',\n",
       "   'variant': 'landscape',\n",
       "   'apikey': '<insert your api key here>',\n",
       "   'max_zoom': 22,\n",
       "   'name': 'Thunderforest.Landscape'},\n",
       "  'Outdoors': {'url': 'https://{s}.tile.thunderforest.com/{variant}/{z}/{x}/{y}.png?apikey={apikey}',\n",
       "   'attribution': '(C) Thunderforest, (C) OpenStreetMap contributors',\n",
       "   'variant': 'outdoors',\n",
       "   'apikey': '<insert your api key here>',\n",
       "   'max_zoom': 22,\n",
       "   'name': 'Thunderforest.Outdoors'},\n",
       "  'Pioneer': {'url': 'https://{s}.tile.thunderforest.com/{variant}/{z}/{x}/{y}.png?apikey={apikey}',\n",
       "   'attribution': '(C) Thunderforest, (C) OpenStreetMap contributors',\n",
       "   'variant': 'pioneer',\n",
       "   'apikey': '<insert your api key here>',\n",
       "   'max_zoom': 22,\n",
       "   'name': 'Thunderforest.Pioneer'},\n",
       "  'MobileAtlas': {'url': 'https://{s}.tile.thunderforest.com/{variant}/{z}/{x}/{y}.png?apikey={apikey}',\n",
       "   'attribution': '(C) Thunderforest, (C) OpenStreetMap contributors',\n",
       "   'variant': 'mobile-atlas',\n",
       "   'apikey': '<insert your api key here>',\n",
       "   'max_zoom': 22,\n",
       "   'name': 'Thunderforest.MobileAtlas'},\n",
       "  'Neighbourhood': {'url': 'https://{s}.tile.thunderforest.com/{variant}/{z}/{x}/{y}.png?apikey={apikey}',\n",
       "   'attribution': '(C) Thunderforest, (C) OpenStreetMap contributors',\n",
       "   'variant': 'neighbourhood',\n",
       "   'apikey': '<insert your api key here>',\n",
       "   'max_zoom': 22,\n",
       "   'name': 'Thunderforest.Neighbourhood'}},\n",
       " 'OpenMapSurfer': {'Roads': {'url': 'https://maps.heigit.org/openmapsurfer/tiles/{variant}/webmercator/{z}/{x}/{y}.png',\n",
       "   'max_zoom': 19,\n",
       "   'variant': 'roads',\n",
       "   'attribution': 'Imagery from GIScience Research Group @ University of Heidelberg | Map data (C) OpenStreetMap contributors',\n",
       "   'name': 'OpenMapSurfer.Roads'},\n",
       "  'Hybrid': {'url': 'https://maps.heigit.org/openmapsurfer/tiles/{variant}/webmercator/{z}/{x}/{y}.png',\n",
       "   'max_zoom': 19,\n",
       "   'variant': 'hybrid',\n",
       "   'attribution': 'Imagery from GIScience Research Group @ University of Heidelberg | Map data (C) OpenStreetMap contributors',\n",
       "   'name': 'OpenMapSurfer.Hybrid'},\n",
       "  'AdminBounds': {'url': 'https://maps.heigit.org/openmapsurfer/tiles/{variant}/webmercator/{z}/{x}/{y}.png',\n",
       "   'max_zoom': 18,\n",
       "   'variant': 'adminb',\n",
       "   'attribution': 'Imagery from GIScience Research Group @ University of Heidelberg | Map data (C) OpenStreetMap contributors',\n",
       "   'name': 'OpenMapSurfer.AdminBounds'},\n",
       "  'ContourLines': {'url': 'https://maps.heigit.org/openmapsurfer/tiles/{variant}/webmercator/{z}/{x}/{y}.png',\n",
       "   'max_zoom': 18,\n",
       "   'variant': 'asterc',\n",
       "   'attribution': 'Imagery from GIScience Research Group @ University of Heidelberg | Map data ASTER GDEM',\n",
       "   'min_zoom': 13,\n",
       "   'name': 'OpenMapSurfer.ContourLines'},\n",
       "  'Hillshade': {'url': 'https://maps.heigit.org/openmapsurfer/tiles/{variant}/webmercator/{z}/{x}/{y}.png',\n",
       "   'max_zoom': 18,\n",
       "   'variant': 'asterh',\n",
       "   'attribution': 'Imagery from GIScience Research Group @ University of Heidelberg | Map data ASTER GDEM, SRTM',\n",
       "   'name': 'OpenMapSurfer.Hillshade'},\n",
       "  'ElementsAtRisk': {'url': 'https://maps.heigit.org/openmapsurfer/tiles/{variant}/webmercator/{z}/{x}/{y}.png',\n",
       "   'max_zoom': 19,\n",
       "   'variant': 'elements_at_risk',\n",
       "   'attribution': 'Imagery from GIScience Research Group @ University of Heidelberg | Map data (C) OpenStreetMap contributors',\n",
       "   'name': 'OpenMapSurfer.ElementsAtRisk'}},\n",
       " 'Hydda': {'Full': {'url': 'https://{s}.tile.openstreetmap.se/hydda/{variant}/{z}/{x}/{y}.png',\n",
       "   'max_zoom': 18,\n",
       "   'variant': 'full',\n",
       "   'attribution': 'Tiles courtesy of OpenStreetMap Sweden -- Map data (C) OpenStreetMap contributors',\n",
       "   'name': 'Hydda.Full'},\n",
       "  'Base': {'url': 'https://{s}.tile.openstreetmap.se/hydda/{variant}/{z}/{x}/{y}.png',\n",
       "   'max_zoom': 18,\n",
       "   'variant': 'base',\n",
       "   'attribution': 'Tiles courtesy of OpenStreetMap Sweden -- Map data (C) OpenStreetMap contributors',\n",
       "   'name': 'Hydda.Base'},\n",
       "  'RoadsAndLabels': {'url': 'https://{s}.tile.openstreetmap.se/hydda/{variant}/{z}/{x}/{y}.png',\n",
       "   'max_zoom': 18,\n",
       "   'variant': 'roads_and_labels',\n",
       "   'attribution': 'Tiles courtesy of OpenStreetMap Sweden -- Map data (C) OpenStreetMap contributors',\n",
       "   'name': 'Hydda.RoadsAndLabels'}},\n",
       " 'MapBox': {'url': 'https://api.tiles.mapbox.com/v4/{id}/{z}/{x}/{y}{r}.png?access_token={accessToken}',\n",
       "  'attribution': '(C) Mapbox (C) OpenStreetMap contributors Improve this map',\n",
       "  'subdomains': 'abcd',\n",
       "  'id': 'mapbox.streets',\n",
       "  'accessToken': '<insert your access token here>',\n",
       "  'name': 'MapBox'},\n",
       " 'Stamen': {'Toner': {'url': 'https://stamen-tiles-{s}.a.ssl.fastly.net/{variant}/{z}/{x}/{y}{r}.{ext}',\n",
       "   'attribution': 'Map tiles by Stamen Design, CC BY 3.0 -- Map data (C) OpenStreetMap contributors',\n",
       "   'subdomains': 'abcd',\n",
       "   'min_zoom': 0,\n",
       "   'max_zoom': 20,\n",
       "   'variant': 'toner',\n",
       "   'ext': 'png',\n",
       "   'name': 'Stamen.Toner'},\n",
       "  'TonerBackground': {'url': 'https://stamen-tiles-{s}.a.ssl.fastly.net/{variant}/{z}/{x}/{y}{r}.{ext}',\n",
       "   'attribution': 'Map tiles by Stamen Design, CC BY 3.0 -- Map data (C) OpenStreetMap contributors',\n",
       "   'subdomains': 'abcd',\n",
       "   'min_zoom': 0,\n",
       "   'max_zoom': 20,\n",
       "   'variant': 'toner-background',\n",
       "   'ext': 'png',\n",
       "   'name': 'Stamen.TonerBackground'},\n",
       "  'TonerHybrid': {'url': 'https://stamen-tiles-{s}.a.ssl.fastly.net/{variant}/{z}/{x}/{y}{r}.{ext}',\n",
       "   'attribution': 'Map tiles by Stamen Design, CC BY 3.0 -- Map data (C) OpenStreetMap contributors',\n",
       "   'subdomains': 'abcd',\n",
       "   'min_zoom': 0,\n",
       "   'max_zoom': 20,\n",
       "   'variant': 'toner-hybrid',\n",
       "   'ext': 'png',\n",
       "   'name': 'Stamen.TonerHybrid'},\n",
       "  'TonerLines': {'url': 'https://stamen-tiles-{s}.a.ssl.fastly.net/{variant}/{z}/{x}/{y}{r}.{ext}',\n",
       "   'attribution': 'Map tiles by Stamen Design, CC BY 3.0 -- Map data (C) OpenStreetMap contributors',\n",
       "   'subdomains': 'abcd',\n",
       "   'min_zoom': 0,\n",
       "   'max_zoom': 20,\n",
       "   'variant': 'toner-lines',\n",
       "   'ext': 'png',\n",
       "   'name': 'Stamen.TonerLines'},\n",
       "  'TonerLabels': {'url': 'https://stamen-tiles-{s}.a.ssl.fastly.net/{variant}/{z}/{x}/{y}{r}.{ext}',\n",
       "   'attribution': 'Map tiles by Stamen Design, CC BY 3.0 -- Map data (C) OpenStreetMap contributors',\n",
       "   'subdomains': 'abcd',\n",
       "   'min_zoom': 0,\n",
       "   'max_zoom': 20,\n",
       "   'variant': 'toner-labels',\n",
       "   'ext': 'png',\n",
       "   'name': 'Stamen.TonerLabels'},\n",
       "  'TonerLite': {'url': 'https://stamen-tiles-{s}.a.ssl.fastly.net/{variant}/{z}/{x}/{y}{r}.{ext}',\n",
       "   'attribution': 'Map tiles by Stamen Design, CC BY 3.0 -- Map data (C) OpenStreetMap contributors',\n",
       "   'subdomains': 'abcd',\n",
       "   'min_zoom': 0,\n",
       "   'max_zoom': 20,\n",
       "   'variant': 'toner-lite',\n",
       "   'ext': 'png',\n",
       "   'name': 'Stamen.TonerLite'},\n",
       "  'Watercolor': {'url': 'https://stamen-tiles-{s}.a.ssl.fastly.net/{variant}/{z}/{x}/{y}.{ext}',\n",
       "   'attribution': 'Map tiles by Stamen Design, CC BY 3.0 -- Map data (C) OpenStreetMap contributors',\n",
       "   'subdomains': 'abcd',\n",
       "   'min_zoom': 1,\n",
       "   'max_zoom': 16,\n",
       "   'variant': 'watercolor',\n",
       "   'ext': 'jpg',\n",
       "   'name': 'Stamen.Watercolor'},\n",
       "  'Terrain': {'url': 'https://stamen-tiles-{s}.a.ssl.fastly.net/{variant}/{z}/{x}/{y}{r}.{ext}',\n",
       "   'attribution': 'Map tiles by Stamen Design, CC BY 3.0 -- Map data (C) OpenStreetMap contributors',\n",
       "   'subdomains': 'abcd',\n",
       "   'min_zoom': 0,\n",
       "   'max_zoom': 18,\n",
       "   'variant': 'terrain',\n",
       "   'ext': 'png',\n",
       "   'name': 'Stamen.Terrain'},\n",
       "  'TerrainBackground': {'url': 'https://stamen-tiles-{s}.a.ssl.fastly.net/{variant}/{z}/{x}/{y}{r}.{ext}',\n",
       "   'attribution': 'Map tiles by Stamen Design, CC BY 3.0 -- Map data (C) OpenStreetMap contributors',\n",
       "   'subdomains': 'abcd',\n",
       "   'min_zoom': 0,\n",
       "   'max_zoom': 18,\n",
       "   'variant': 'terrain-background',\n",
       "   'ext': 'png',\n",
       "   'name': 'Stamen.TerrainBackground'},\n",
       "  'TopOSMRelief': {'url': 'https://stamen-tiles-{s}.a.ssl.fastly.net/{variant}/{z}/{x}/{y}.{ext}',\n",
       "   'attribution': 'Map tiles by Stamen Design, CC BY 3.0 -- Map data (C) OpenStreetMap contributors',\n",
       "   'subdomains': 'abcd',\n",
       "   'min_zoom': 0,\n",
       "   'max_zoom': 20,\n",
       "   'variant': 'toposm-color-relief',\n",
       "   'ext': 'jpg',\n",
       "   'bounds': [[22, -132], [51, -56]],\n",
       "   'name': 'Stamen.TopOSMRelief'},\n",
       "  'TopOSMFeatures': {'url': 'https://stamen-tiles-{s}.a.ssl.fastly.net/{variant}/{z}/{x}/{y}{r}.{ext}',\n",
       "   'attribution': 'Map tiles by Stamen Design, CC BY 3.0 -- Map data (C) OpenStreetMap contributors',\n",
       "   'subdomains': 'abcd',\n",
       "   'min_zoom': 0,\n",
       "   'max_zoom': 20,\n",
       "   'variant': 'toposm-features',\n",
       "   'ext': 'png',\n",
       "   'bounds': [[22, -132], [51, -56]],\n",
       "   'opacity': 0.9,\n",
       "   'name': 'Stamen.TopOSMFeatures'}},\n",
       " 'Esri': {'WorldStreetMap': {'url': 'https://server.arcgisonline.com/ArcGIS/rest/services/{variant}/MapServer/tile/{z}/{y}/{x}',\n",
       "   'variant': 'World_Street_Map',\n",
       "   'attribution': 'Tiles (C) Esri -- Source: Esri, DeLorme, NAVTEQ, USGS, Intermap, iPC, NRCAN, Esri Japan, METI, Esri China (Hong Kong), Esri (Thailand), TomTom, 2012',\n",
       "   'name': 'Esri.WorldStreetMap'},\n",
       "  'DeLorme': {'url': 'https://server.arcgisonline.com/ArcGIS/rest/services/{variant}/MapServer/tile/{z}/{y}/{x}',\n",
       "   'variant': 'Specialty/DeLorme_World_Base_Map',\n",
       "   'attribution': 'Tiles (C) Esri -- Copyright: (C)2012 DeLorme',\n",
       "   'min_zoom': 1,\n",
       "   'max_zoom': 11,\n",
       "   'name': 'Esri.DeLorme'},\n",
       "  'WorldTopoMap': {'url': 'https://server.arcgisonline.com/ArcGIS/rest/services/{variant}/MapServer/tile/{z}/{y}/{x}',\n",
       "   'variant': 'World_Topo_Map',\n",
       "   'attribution': 'Tiles (C) Esri -- Esri, DeLorme, NAVTEQ, TomTom, Intermap, iPC, USGS, FAO, NPS, NRCAN, GeoBase, Kadaster NL, Ordnance Survey, Esri Japan, METI, Esri China (Hong Kong), and the GIS User Community',\n",
       "   'name': 'Esri.WorldTopoMap'},\n",
       "  'WorldImagery': {'url': 'https://server.arcgisonline.com/ArcGIS/rest/services/{variant}/MapServer/tile/{z}/{y}/{x}',\n",
       "   'variant': 'World_Imagery',\n",
       "   'attribution': 'Tiles (C) Esri -- Source: Esri, i-cubed, USDA, USGS, AEX, GeoEye, Getmapping, Aerogrid, IGN, IGP, UPR-EGP, and the GIS User Community',\n",
       "   'name': 'Esri.WorldImagery'},\n",
       "  'WorldTerrain': {'url': 'https://server.arcgisonline.com/ArcGIS/rest/services/{variant}/MapServer/tile/{z}/{y}/{x}',\n",
       "   'variant': 'World_Terrain_Base',\n",
       "   'attribution': 'Tiles (C) Esri -- Source: USGS, Esri, TANA, DeLorme, and NPS',\n",
       "   'max_zoom': 13,\n",
       "   'name': 'Esri.WorldTerrain'},\n",
       "  'WorldShadedRelief': {'url': 'https://server.arcgisonline.com/ArcGIS/rest/services/{variant}/MapServer/tile/{z}/{y}/{x}',\n",
       "   'variant': 'World_Shaded_Relief',\n",
       "   'attribution': 'Tiles (C) Esri -- Source: Esri',\n",
       "   'max_zoom': 13,\n",
       "   'name': 'Esri.WorldShadedRelief'},\n",
       "  'WorldPhysical': {'url': 'https://server.arcgisonline.com/ArcGIS/rest/services/{variant}/MapServer/tile/{z}/{y}/{x}',\n",
       "   'variant': 'World_Physical_Map',\n",
       "   'attribution': 'Tiles (C) Esri -- Source: US National Park Service',\n",
       "   'max_zoom': 8,\n",
       "   'name': 'Esri.WorldPhysical'},\n",
       "  'OceanBasemap': {'url': 'https://server.arcgisonline.com/ArcGIS/rest/services/{variant}/MapServer/tile/{z}/{y}/{x}',\n",
       "   'variant': 'Ocean_Basemap',\n",
       "   'attribution': 'Tiles (C) Esri -- Sources: GEBCO, NOAA, CHS, OSU, UNH, CSUMB, National Geographic, DeLorme, NAVTEQ, and Esri',\n",
       "   'max_zoom': 13,\n",
       "   'name': 'Esri.OceanBasemap'},\n",
       "  'NatGeoWorldMap': {'url': 'https://server.arcgisonline.com/ArcGIS/rest/services/{variant}/MapServer/tile/{z}/{y}/{x}',\n",
       "   'variant': 'NatGeo_World_Map',\n",
       "   'attribution': 'Tiles (C) Esri -- National Geographic, Esri, DeLorme, NAVTEQ, UNEP-WCMC, USGS, NASA, ESA, METI, NRCAN, GEBCO, NOAA, iPC',\n",
       "   'max_zoom': 16,\n",
       "   'name': 'Esri.NatGeoWorldMap'},\n",
       "  'WorldGrayCanvas': {'url': 'https://server.arcgisonline.com/ArcGIS/rest/services/{variant}/MapServer/tile/{z}/{y}/{x}',\n",
       "   'variant': 'Canvas/World_Light_Gray_Base',\n",
       "   'attribution': 'Tiles (C) Esri -- Esri, DeLorme, NAVTEQ',\n",
       "   'max_zoom': 16,\n",
       "   'name': 'Esri.WorldGrayCanvas'}},\n",
       " 'OpenWeatherMap': {'Clouds': {'url': 'http://{s}.tile.openweathermap.org/map/{variant}/{z}/{x}/{y}.png?appid={apiKey}',\n",
       "   'max_zoom': 19,\n",
       "   'attribution': 'Map data (C) OpenWeatherMap',\n",
       "   'apiKey': '<insert your api key here>',\n",
       "   'opacity': 0.5,\n",
       "   'variant': 'clouds',\n",
       "   'name': 'OpenWeatherMap.Clouds'},\n",
       "  'CloudsClassic': {'url': 'http://{s}.tile.openweathermap.org/map/{variant}/{z}/{x}/{y}.png?appid={apiKey}',\n",
       "   'max_zoom': 19,\n",
       "   'attribution': 'Map data (C) OpenWeatherMap',\n",
       "   'apiKey': '<insert your api key here>',\n",
       "   'opacity': 0.5,\n",
       "   'variant': 'clouds_cls',\n",
       "   'name': 'OpenWeatherMap.CloudsClassic'},\n",
       "  'Precipitation': {'url': 'http://{s}.tile.openweathermap.org/map/{variant}/{z}/{x}/{y}.png?appid={apiKey}',\n",
       "   'max_zoom': 19,\n",
       "   'attribution': 'Map data (C) OpenWeatherMap',\n",
       "   'apiKey': '<insert your api key here>',\n",
       "   'opacity': 0.5,\n",
       "   'variant': 'precipitation',\n",
       "   'name': 'OpenWeatherMap.Precipitation'},\n",
       "  'PrecipitationClassic': {'url': 'http://{s}.tile.openweathermap.org/map/{variant}/{z}/{x}/{y}.png?appid={apiKey}',\n",
       "   'max_zoom': 19,\n",
       "   'attribution': 'Map data (C) OpenWeatherMap',\n",
       "   'apiKey': '<insert your api key here>',\n",
       "   'opacity': 0.5,\n",
       "   'variant': 'precipitation_cls',\n",
       "   'name': 'OpenWeatherMap.PrecipitationClassic'},\n",
       "  'Rain': {'url': 'http://{s}.tile.openweathermap.org/map/{variant}/{z}/{x}/{y}.png?appid={apiKey}',\n",
       "   'max_zoom': 19,\n",
       "   'attribution': 'Map data (C) OpenWeatherMap',\n",
       "   'apiKey': '<insert your api key here>',\n",
       "   'opacity': 0.5,\n",
       "   'variant': 'rain',\n",
       "   'name': 'OpenWeatherMap.Rain'},\n",
       "  'RainClassic': {'url': 'http://{s}.tile.openweathermap.org/map/{variant}/{z}/{x}/{y}.png?appid={apiKey}',\n",
       "   'max_zoom': 19,\n",
       "   'attribution': 'Map data (C) OpenWeatherMap',\n",
       "   'apiKey': '<insert your api key here>',\n",
       "   'opacity': 0.5,\n",
       "   'variant': 'rain_cls',\n",
       "   'name': 'OpenWeatherMap.RainClassic'},\n",
       "  'Pressure': {'url': 'http://{s}.tile.openweathermap.org/map/{variant}/{z}/{x}/{y}.png?appid={apiKey}',\n",
       "   'max_zoom': 19,\n",
       "   'attribution': 'Map data (C) OpenWeatherMap',\n",
       "   'apiKey': '<insert your api key here>',\n",
       "   'opacity': 0.5,\n",
       "   'variant': 'pressure',\n",
       "   'name': 'OpenWeatherMap.Pressure'},\n",
       "  'PressureContour': {'url': 'http://{s}.tile.openweathermap.org/map/{variant}/{z}/{x}/{y}.png?appid={apiKey}',\n",
       "   'max_zoom': 19,\n",
       "   'attribution': 'Map data (C) OpenWeatherMap',\n",
       "   'apiKey': '<insert your api key here>',\n",
       "   'opacity': 0.5,\n",
       "   'variant': 'pressure_cntr',\n",
       "   'name': 'OpenWeatherMap.PressureContour'},\n",
       "  'Wind': {'url': 'http://{s}.tile.openweathermap.org/map/{variant}/{z}/{x}/{y}.png?appid={apiKey}',\n",
       "   'max_zoom': 19,\n",
       "   'attribution': 'Map data (C) OpenWeatherMap',\n",
       "   'apiKey': '<insert your api key here>',\n",
       "   'opacity': 0.5,\n",
       "   'variant': 'wind',\n",
       "   'name': 'OpenWeatherMap.Wind'},\n",
       "  'Temperature': {'url': 'http://{s}.tile.openweathermap.org/map/{variant}/{z}/{x}/{y}.png?appid={apiKey}',\n",
       "   'max_zoom': 19,\n",
       "   'attribution': 'Map data (C) OpenWeatherMap',\n",
       "   'apiKey': '<insert your api key here>',\n",
       "   'opacity': 0.5,\n",
       "   'variant': 'temp',\n",
       "   'name': 'OpenWeatherMap.Temperature'},\n",
       "  'Snow': {'url': 'http://{s}.tile.openweathermap.org/map/{variant}/{z}/{x}/{y}.png?appid={apiKey}',\n",
       "   'max_zoom': 19,\n",
       "   'attribution': 'Map data (C) OpenWeatherMap',\n",
       "   'apiKey': '<insert your api key here>',\n",
       "   'opacity': 0.5,\n",
       "   'variant': 'snow',\n",
       "   'name': 'OpenWeatherMap.Snow'}},\n",
       " 'HERE': {'normalDay': {'url': 'https://{s}.{base}.maps.api.here.com/maptile/2.1/{type}/{mapID}/{variant}/{z}/{x}/{y}/{size}/{format}?app_id={app_id}&app_code={app_code}&lg={language}',\n",
       "   'attribution': 'Map (C) 1987-2019 HERE',\n",
       "   'subdomains': '1234',\n",
       "   'mapID': 'newest',\n",
       "   'app_id': '<insert your app_id here>',\n",
       "   'app_code': '<insert your app_code here>',\n",
       "   'base': 'base',\n",
       "   'variant': 'normal.day',\n",
       "   'max_zoom': 20,\n",
       "   'type': 'maptile',\n",
       "   'language': 'eng',\n",
       "   'format': 'png8',\n",
       "   'size': '256',\n",
       "   'name': 'HERE.normalDay'},\n",
       "  'normalDayCustom': {'url': 'https://{s}.{base}.maps.api.here.com/maptile/2.1/{type}/{mapID}/{variant}/{z}/{x}/{y}/{size}/{format}?app_id={app_id}&app_code={app_code}&lg={language}',\n",
       "   'attribution': 'Map (C) 1987-2019 HERE',\n",
       "   'subdomains': '1234',\n",
       "   'mapID': 'newest',\n",
       "   'app_id': '<insert your app_id here>',\n",
       "   'app_code': '<insert your app_code here>',\n",
       "   'base': 'base',\n",
       "   'variant': 'normal.day.custom',\n",
       "   'max_zoom': 20,\n",
       "   'type': 'maptile',\n",
       "   'language': 'eng',\n",
       "   'format': 'png8',\n",
       "   'size': '256',\n",
       "   'name': 'HERE.normalDayCustom'},\n",
       "  'normalDayGrey': {'url': 'https://{s}.{base}.maps.api.here.com/maptile/2.1/{type}/{mapID}/{variant}/{z}/{x}/{y}/{size}/{format}?app_id={app_id}&app_code={app_code}&lg={language}',\n",
       "   'attribution': 'Map (C) 1987-2019 HERE',\n",
       "   'subdomains': '1234',\n",
       "   'mapID': 'newest',\n",
       "   'app_id': '<insert your app_id here>',\n",
       "   'app_code': '<insert your app_code here>',\n",
       "   'base': 'base',\n",
       "   'variant': 'normal.day.grey',\n",
       "   'max_zoom': 20,\n",
       "   'type': 'maptile',\n",
       "   'language': 'eng',\n",
       "   'format': 'png8',\n",
       "   'size': '256',\n",
       "   'name': 'HERE.normalDayGrey'},\n",
       "  'normalDayMobile': {'url': 'https://{s}.{base}.maps.api.here.com/maptile/2.1/{type}/{mapID}/{variant}/{z}/{x}/{y}/{size}/{format}?app_id={app_id}&app_code={app_code}&lg={language}',\n",
       "   'attribution': 'Map (C) 1987-2019 HERE',\n",
       "   'subdomains': '1234',\n",
       "   'mapID': 'newest',\n",
       "   'app_id': '<insert your app_id here>',\n",
       "   'app_code': '<insert your app_code here>',\n",
       "   'base': 'base',\n",
       "   'variant': 'normal.day.mobile',\n",
       "   'max_zoom': 20,\n",
       "   'type': 'maptile',\n",
       "   'language': 'eng',\n",
       "   'format': 'png8',\n",
       "   'size': '256',\n",
       "   'name': 'HERE.normalDayMobile'},\n",
       "  'normalDayGreyMobile': {'url': 'https://{s}.{base}.maps.api.here.com/maptile/2.1/{type}/{mapID}/{variant}/{z}/{x}/{y}/{size}/{format}?app_id={app_id}&app_code={app_code}&lg={language}',\n",
       "   'attribution': 'Map (C) 1987-2019 HERE',\n",
       "   'subdomains': '1234',\n",
       "   'mapID': 'newest',\n",
       "   'app_id': '<insert your app_id here>',\n",
       "   'app_code': '<insert your app_code here>',\n",
       "   'base': 'base',\n",
       "   'variant': 'normal.day.grey.mobile',\n",
       "   'max_zoom': 20,\n",
       "   'type': 'maptile',\n",
       "   'language': 'eng',\n",
       "   'format': 'png8',\n",
       "   'size': '256',\n",
       "   'name': 'HERE.normalDayGreyMobile'},\n",
       "  'normalDayTransit': {'url': 'https://{s}.{base}.maps.api.here.com/maptile/2.1/{type}/{mapID}/{variant}/{z}/{x}/{y}/{size}/{format}?app_id={app_id}&app_code={app_code}&lg={language}',\n",
       "   'attribution': 'Map (C) 1987-2019 HERE',\n",
       "   'subdomains': '1234',\n",
       "   'mapID': 'newest',\n",
       "   'app_id': '<insert your app_id here>',\n",
       "   'app_code': '<insert your app_code here>',\n",
       "   'base': 'base',\n",
       "   'variant': 'normal.day.transit',\n",
       "   'max_zoom': 20,\n",
       "   'type': 'maptile',\n",
       "   'language': 'eng',\n",
       "   'format': 'png8',\n",
       "   'size': '256',\n",
       "   'name': 'HERE.normalDayTransit'},\n",
       "  'normalDayTransitMobile': {'url': 'https://{s}.{base}.maps.api.here.com/maptile/2.1/{type}/{mapID}/{variant}/{z}/{x}/{y}/{size}/{format}?app_id={app_id}&app_code={app_code}&lg={language}',\n",
       "   'attribution': 'Map (C) 1987-2019 HERE',\n",
       "   'subdomains': '1234',\n",
       "   'mapID': 'newest',\n",
       "   'app_id': '<insert your app_id here>',\n",
       "   'app_code': '<insert your app_code here>',\n",
       "   'base': 'base',\n",
       "   'variant': 'normal.day.transit.mobile',\n",
       "   'max_zoom': 20,\n",
       "   'type': 'maptile',\n",
       "   'language': 'eng',\n",
       "   'format': 'png8',\n",
       "   'size': '256',\n",
       "   'name': 'HERE.normalDayTransitMobile'},\n",
       "  'normalNight': {'url': 'https://{s}.{base}.maps.api.here.com/maptile/2.1/{type}/{mapID}/{variant}/{z}/{x}/{y}/{size}/{format}?app_id={app_id}&app_code={app_code}&lg={language}',\n",
       "   'attribution': 'Map (C) 1987-2019 HERE',\n",
       "   'subdomains': '1234',\n",
       "   'mapID': 'newest',\n",
       "   'app_id': '<insert your app_id here>',\n",
       "   'app_code': '<insert your app_code here>',\n",
       "   'base': 'base',\n",
       "   'variant': 'normal.night',\n",
       "   'max_zoom': 20,\n",
       "   'type': 'maptile',\n",
       "   'language': 'eng',\n",
       "   'format': 'png8',\n",
       "   'size': '256',\n",
       "   'name': 'HERE.normalNight'},\n",
       "  'normalNightMobile': {'url': 'https://{s}.{base}.maps.api.here.com/maptile/2.1/{type}/{mapID}/{variant}/{z}/{x}/{y}/{size}/{format}?app_id={app_id}&app_code={app_code}&lg={language}',\n",
       "   'attribution': 'Map (C) 1987-2019 HERE',\n",
       "   'subdomains': '1234',\n",
       "   'mapID': 'newest',\n",
       "   'app_id': '<insert your app_id here>',\n",
       "   'app_code': '<insert your app_code here>',\n",
       "   'base': 'base',\n",
       "   'variant': 'normal.night.mobile',\n",
       "   'max_zoom': 20,\n",
       "   'type': 'maptile',\n",
       "   'language': 'eng',\n",
       "   'format': 'png8',\n",
       "   'size': '256',\n",
       "   'name': 'HERE.normalNightMobile'},\n",
       "  'normalNightGrey': {'url': 'https://{s}.{base}.maps.api.here.com/maptile/2.1/{type}/{mapID}/{variant}/{z}/{x}/{y}/{size}/{format}?app_id={app_id}&app_code={app_code}&lg={language}',\n",
       "   'attribution': 'Map (C) 1987-2019 HERE',\n",
       "   'subdomains': '1234',\n",
       "   'mapID': 'newest',\n",
       "   'app_id': '<insert your app_id here>',\n",
       "   'app_code': '<insert your app_code here>',\n",
       "   'base': 'base',\n",
       "   'variant': 'normal.night.grey',\n",
       "   'max_zoom': 20,\n",
       "   'type': 'maptile',\n",
       "   'language': 'eng',\n",
       "   'format': 'png8',\n",
       "   'size': '256',\n",
       "   'name': 'HERE.normalNightGrey'},\n",
       "  'normalNightGreyMobile': {'url': 'https://{s}.{base}.maps.api.here.com/maptile/2.1/{type}/{mapID}/{variant}/{z}/{x}/{y}/{size}/{format}?app_id={app_id}&app_code={app_code}&lg={language}',\n",
       "   'attribution': 'Map (C) 1987-2019 HERE',\n",
       "   'subdomains': '1234',\n",
       "   'mapID': 'newest',\n",
       "   'app_id': '<insert your app_id here>',\n",
       "   'app_code': '<insert your app_code here>',\n",
       "   'base': 'base',\n",
       "   'variant': 'normal.night.grey.mobile',\n",
       "   'max_zoom': 20,\n",
       "   'type': 'maptile',\n",
       "   'language': 'eng',\n",
       "   'format': 'png8',\n",
       "   'size': '256',\n",
       "   'name': 'HERE.normalNightGreyMobile'},\n",
       "  'normalNightTransit': {'url': 'https://{s}.{base}.maps.api.here.com/maptile/2.1/{type}/{mapID}/{variant}/{z}/{x}/{y}/{size}/{format}?app_id={app_id}&app_code={app_code}&lg={language}',\n",
       "   'attribution': 'Map (C) 1987-2019 HERE',\n",
       "   'subdomains': '1234',\n",
       "   'mapID': 'newest',\n",
       "   'app_id': '<insert your app_id here>',\n",
       "   'app_code': '<insert your app_code here>',\n",
       "   'base': 'base',\n",
       "   'variant': 'normal.night.transit',\n",
       "   'max_zoom': 20,\n",
       "   'type': 'maptile',\n",
       "   'language': 'eng',\n",
       "   'format': 'png8',\n",
       "   'size': '256',\n",
       "   'name': 'HERE.normalNightTransit'},\n",
       "  'normalNightTransitMobile': {'url': 'https://{s}.{base}.maps.api.here.com/maptile/2.1/{type}/{mapID}/{variant}/{z}/{x}/{y}/{size}/{format}?app_id={app_id}&app_code={app_code}&lg={language}',\n",
       "   'attribution': 'Map (C) 1987-2019 HERE',\n",
       "   'subdomains': '1234',\n",
       "   'mapID': 'newest',\n",
       "   'app_id': '<insert your app_id here>',\n",
       "   'app_code': '<insert your app_code here>',\n",
       "   'base': 'base',\n",
       "   'variant': 'normal.night.transit.mobile',\n",
       "   'max_zoom': 20,\n",
       "   'type': 'maptile',\n",
       "   'language': 'eng',\n",
       "   'format': 'png8',\n",
       "   'size': '256',\n",
       "   'name': 'HERE.normalNightTransitMobile'},\n",
       "  'reducedDay': {'url': 'https://{s}.{base}.maps.api.here.com/maptile/2.1/{type}/{mapID}/{variant}/{z}/{x}/{y}/{size}/{format}?app_id={app_id}&app_code={app_code}&lg={language}',\n",
       "   'attribution': 'Map (C) 1987-2019 HERE',\n",
       "   'subdomains': '1234',\n",
       "   'mapID': 'newest',\n",
       "   'app_id': '<insert your app_id here>',\n",
       "   'app_code': '<insert your app_code here>',\n",
       "   'base': 'base',\n",
       "   'variant': 'reduced.day',\n",
       "   'max_zoom': 20,\n",
       "   'type': 'maptile',\n",
       "   'language': 'eng',\n",
       "   'format': 'png8',\n",
       "   'size': '256',\n",
       "   'name': 'HERE.reducedDay'},\n",
       "  'reducedNight': {'url': 'https://{s}.{base}.maps.api.here.com/maptile/2.1/{type}/{mapID}/{variant}/{z}/{x}/{y}/{size}/{format}?app_id={app_id}&app_code={app_code}&lg={language}',\n",
       "   'attribution': 'Map (C) 1987-2019 HERE',\n",
       "   'subdomains': '1234',\n",
       "   'mapID': 'newest',\n",
       "   'app_id': '<insert your app_id here>',\n",
       "   'app_code': '<insert your app_code here>',\n",
       "   'base': 'base',\n",
       "   'variant': 'reduced.night',\n",
       "   'max_zoom': 20,\n",
       "   'type': 'maptile',\n",
       "   'language': 'eng',\n",
       "   'format': 'png8',\n",
       "   'size': '256',\n",
       "   'name': 'HERE.reducedNight'},\n",
       "  'basicMap': {'url': 'https://{s}.{base}.maps.api.here.com/maptile/2.1/{type}/{mapID}/{variant}/{z}/{x}/{y}/{size}/{format}?app_id={app_id}&app_code={app_code}&lg={language}',\n",
       "   'attribution': 'Map (C) 1987-2019 HERE',\n",
       "   'subdomains': '1234',\n",
       "   'mapID': 'newest',\n",
       "   'app_id': '<insert your app_id here>',\n",
       "   'app_code': '<insert your app_code here>',\n",
       "   'base': 'base',\n",
       "   'variant': 'normal.day',\n",
       "   'max_zoom': 20,\n",
       "   'type': 'basetile',\n",
       "   'language': 'eng',\n",
       "   'format': 'png8',\n",
       "   'size': '256',\n",
       "   'name': 'HERE.basicMap'},\n",
       "  'mapLabels': {'url': 'https://{s}.{base}.maps.api.here.com/maptile/2.1/{type}/{mapID}/{variant}/{z}/{x}/{y}/{size}/{format}?app_id={app_id}&app_code={app_code}&lg={language}',\n",
       "   'attribution': 'Map (C) 1987-2019 HERE',\n",
       "   'subdomains': '1234',\n",
       "   'mapID': 'newest',\n",
       "   'app_id': '<insert your app_id here>',\n",
       "   'app_code': '<insert your app_code here>',\n",
       "   'base': 'base',\n",
       "   'variant': 'normal.day',\n",
       "   'max_zoom': 20,\n",
       "   'type': 'labeltile',\n",
       "   'language': 'eng',\n",
       "   'format': 'png',\n",
       "   'size': '256',\n",
       "   'name': 'HERE.mapLabels'},\n",
       "  'trafficFlow': {'url': 'https://{s}.{base}.maps.api.here.com/maptile/2.1/{type}/{mapID}/{variant}/{z}/{x}/{y}/{size}/{format}?app_id={app_id}&app_code={app_code}&lg={language}',\n",
       "   'attribution': 'Map (C) 1987-2019 HERE',\n",
       "   'subdomains': '1234',\n",
       "   'mapID': 'newest',\n",
       "   'app_id': '<insert your app_id here>',\n",
       "   'app_code': '<insert your app_code here>',\n",
       "   'base': 'traffic',\n",
       "   'variant': 'normal.day',\n",
       "   'max_zoom': 20,\n",
       "   'type': 'flowtile',\n",
       "   'language': 'eng',\n",
       "   'format': 'png8',\n",
       "   'size': '256',\n",
       "   'name': 'HERE.trafficFlow'},\n",
       "  'carnavDayGrey': {'url': 'https://{s}.{base}.maps.api.here.com/maptile/2.1/{type}/{mapID}/{variant}/{z}/{x}/{y}/{size}/{format}?app_id={app_id}&app_code={app_code}&lg={language}',\n",
       "   'attribution': 'Map (C) 1987-2019 HERE',\n",
       "   'subdomains': '1234',\n",
       "   'mapID': 'newest',\n",
       "   'app_id': '<insert your app_id here>',\n",
       "   'app_code': '<insert your app_code here>',\n",
       "   'base': 'base',\n",
       "   'variant': 'carnav.day.grey',\n",
       "   'max_zoom': 20,\n",
       "   'type': 'maptile',\n",
       "   'language': 'eng',\n",
       "   'format': 'png8',\n",
       "   'size': '256',\n",
       "   'name': 'HERE.carnavDayGrey'},\n",
       "  'hybridDay': {'url': 'https://{s}.{base}.maps.api.here.com/maptile/2.1/{type}/{mapID}/{variant}/{z}/{x}/{y}/{size}/{format}?app_id={app_id}&app_code={app_code}&lg={language}',\n",
       "   'attribution': 'Map (C) 1987-2019 HERE',\n",
       "   'subdomains': '1234',\n",
       "   'mapID': 'newest',\n",
       "   'app_id': '<insert your app_id here>',\n",
       "   'app_code': '<insert your app_code here>',\n",
       "   'base': 'aerial',\n",
       "   'variant': 'hybrid.day',\n",
       "   'max_zoom': 20,\n",
       "   'type': 'maptile',\n",
       "   'language': 'eng',\n",
       "   'format': 'png8',\n",
       "   'size': '256',\n",
       "   'name': 'HERE.hybridDay'},\n",
       "  'hybridDayMobile': {'url': 'https://{s}.{base}.maps.api.here.com/maptile/2.1/{type}/{mapID}/{variant}/{z}/{x}/{y}/{size}/{format}?app_id={app_id}&app_code={app_code}&lg={language}',\n",
       "   'attribution': 'Map (C) 1987-2019 HERE',\n",
       "   'subdomains': '1234',\n",
       "   'mapID': 'newest',\n",
       "   'app_id': '<insert your app_id here>',\n",
       "   'app_code': '<insert your app_code here>',\n",
       "   'base': 'aerial',\n",
       "   'variant': 'hybrid.day.mobile',\n",
       "   'max_zoom': 20,\n",
       "   'type': 'maptile',\n",
       "   'language': 'eng',\n",
       "   'format': 'png8',\n",
       "   'size': '256',\n",
       "   'name': 'HERE.hybridDayMobile'},\n",
       "  'hybridDayTransit': {'url': 'https://{s}.{base}.maps.api.here.com/maptile/2.1/{type}/{mapID}/{variant}/{z}/{x}/{y}/{size}/{format}?app_id={app_id}&app_code={app_code}&lg={language}',\n",
       "   'attribution': 'Map (C) 1987-2019 HERE',\n",
       "   'subdomains': '1234',\n",
       "   'mapID': 'newest',\n",
       "   'app_id': '<insert your app_id here>',\n",
       "   'app_code': '<insert your app_code here>',\n",
       "   'base': 'aerial',\n",
       "   'variant': 'hybrid.day.transit',\n",
       "   'max_zoom': 20,\n",
       "   'type': 'maptile',\n",
       "   'language': 'eng',\n",
       "   'format': 'png8',\n",
       "   'size': '256',\n",
       "   'name': 'HERE.hybridDayTransit'},\n",
       "  'hybridDayGrey': {'url': 'https://{s}.{base}.maps.api.here.com/maptile/2.1/{type}/{mapID}/{variant}/{z}/{x}/{y}/{size}/{format}?app_id={app_id}&app_code={app_code}&lg={language}',\n",
       "   'attribution': 'Map (C) 1987-2019 HERE',\n",
       "   'subdomains': '1234',\n",
       "   'mapID': 'newest',\n",
       "   'app_id': '<insert your app_id here>',\n",
       "   'app_code': '<insert your app_code here>',\n",
       "   'base': 'aerial',\n",
       "   'variant': 'hybrid.grey.day',\n",
       "   'max_zoom': 20,\n",
       "   'type': 'maptile',\n",
       "   'language': 'eng',\n",
       "   'format': 'png8',\n",
       "   'size': '256',\n",
       "   'name': 'HERE.hybridDayGrey'},\n",
       "  'pedestrianDay': {'url': 'https://{s}.{base}.maps.api.here.com/maptile/2.1/{type}/{mapID}/{variant}/{z}/{x}/{y}/{size}/{format}?app_id={app_id}&app_code={app_code}&lg={language}',\n",
       "   'attribution': 'Map (C) 1987-2019 HERE',\n",
       "   'subdomains': '1234',\n",
       "   'mapID': 'newest',\n",
       "   'app_id': '<insert your app_id here>',\n",
       "   'app_code': '<insert your app_code here>',\n",
       "   'base': 'base',\n",
       "   'variant': 'pedestrian.day',\n",
       "   'max_zoom': 20,\n",
       "   'type': 'maptile',\n",
       "   'language': 'eng',\n",
       "   'format': 'png8',\n",
       "   'size': '256',\n",
       "   'name': 'HERE.pedestrianDay'},\n",
       "  'pedestrianNight': {'url': 'https://{s}.{base}.maps.api.here.com/maptile/2.1/{type}/{mapID}/{variant}/{z}/{x}/{y}/{size}/{format}?app_id={app_id}&app_code={app_code}&lg={language}',\n",
       "   'attribution': 'Map (C) 1987-2019 HERE',\n",
       "   'subdomains': '1234',\n",
       "   'mapID': 'newest',\n",
       "   'app_id': '<insert your app_id here>',\n",
       "   'app_code': '<insert your app_code here>',\n",
       "   'base': 'base',\n",
       "   'variant': 'pedestrian.night',\n",
       "   'max_zoom': 20,\n",
       "   'type': 'maptile',\n",
       "   'language': 'eng',\n",
       "   'format': 'png8',\n",
       "   'size': '256',\n",
       "   'name': 'HERE.pedestrianNight'},\n",
       "  'satelliteDay': {'url': 'https://{s}.{base}.maps.api.here.com/maptile/2.1/{type}/{mapID}/{variant}/{z}/{x}/{y}/{size}/{format}?app_id={app_id}&app_code={app_code}&lg={language}',\n",
       "   'attribution': 'Map (C) 1987-2019 HERE',\n",
       "   'subdomains': '1234',\n",
       "   'mapID': 'newest',\n",
       "   'app_id': '<insert your app_id here>',\n",
       "   'app_code': '<insert your app_code here>',\n",
       "   'base': 'aerial',\n",
       "   'variant': 'satellite.day',\n",
       "   'max_zoom': 20,\n",
       "   'type': 'maptile',\n",
       "   'language': 'eng',\n",
       "   'format': 'png8',\n",
       "   'size': '256',\n",
       "   'name': 'HERE.satelliteDay'},\n",
       "  'terrainDay': {'url': 'https://{s}.{base}.maps.api.here.com/maptile/2.1/{type}/{mapID}/{variant}/{z}/{x}/{y}/{size}/{format}?app_id={app_id}&app_code={app_code}&lg={language}',\n",
       "   'attribution': 'Map (C) 1987-2019 HERE',\n",
       "   'subdomains': '1234',\n",
       "   'mapID': 'newest',\n",
       "   'app_id': '<insert your app_id here>',\n",
       "   'app_code': '<insert your app_code here>',\n",
       "   'base': 'aerial',\n",
       "   'variant': 'terrain.day',\n",
       "   'max_zoom': 20,\n",
       "   'type': 'maptile',\n",
       "   'language': 'eng',\n",
       "   'format': 'png8',\n",
       "   'size': '256',\n",
       "   'name': 'HERE.terrainDay'},\n",
       "  'terrainDayMobile': {'url': 'https://{s}.{base}.maps.api.here.com/maptile/2.1/{type}/{mapID}/{variant}/{z}/{x}/{y}/{size}/{format}?app_id={app_id}&app_code={app_code}&lg={language}',\n",
       "   'attribution': 'Map (C) 1987-2019 HERE',\n",
       "   'subdomains': '1234',\n",
       "   'mapID': 'newest',\n",
       "   'app_id': '<insert your app_id here>',\n",
       "   'app_code': '<insert your app_code here>',\n",
       "   'base': 'aerial',\n",
       "   'variant': 'terrain.day.mobile',\n",
       "   'max_zoom': 20,\n",
       "   'type': 'maptile',\n",
       "   'language': 'eng',\n",
       "   'format': 'png8',\n",
       "   'size': '256',\n",
       "   'name': 'HERE.terrainDayMobile'}},\n",
       " 'FreeMapSK': {'url': 'http://t{s}.freemap.sk/T/{z}/{x}/{y}.jpeg',\n",
       "  'min_zoom': 8,\n",
       "  'max_zoom': 16,\n",
       "  'subdomains': '1234',\n",
       "  'bounds': [[47.204642, 15.996093], [49.830896, 22.576904]],\n",
       "  'attribution': '(C) OpenStreetMap contributors, vizualization CC-By-SA 2.0 Freemap.sk',\n",
       "  'name': 'FreeMapSK'},\n",
       " 'MtbMap': {'url': 'http://tile.mtbmap.cz/mtbmap_tiles/{z}/{x}/{y}.png',\n",
       "  'attribution': '(C) OpenStreetMap contributors & USGS',\n",
       "  'name': 'MtbMap'},\n",
       " 'CartoDB': {'Positron': {'url': 'https://{s}.basemaps.cartocdn.com/{variant}/{z}/{x}/{y}{r}.png',\n",
       "   'attribution': '(C) OpenStreetMap contributors (C) CARTO',\n",
       "   'subdomains': 'abcd',\n",
       "   'max_zoom': 19,\n",
       "   'variant': 'light_all',\n",
       "   'name': 'CartoDB.Positron'},\n",
       "  'PositronNoLabels': {'url': 'https://{s}.basemaps.cartocdn.com/{variant}/{z}/{x}/{y}{r}.png',\n",
       "   'attribution': '(C) OpenStreetMap contributors (C) CARTO',\n",
       "   'subdomains': 'abcd',\n",
       "   'max_zoom': 19,\n",
       "   'variant': 'light_nolabels',\n",
       "   'name': 'CartoDB.PositronNoLabels'},\n",
       "  'PositronOnlyLabels': {'url': 'https://{s}.basemaps.cartocdn.com/{variant}/{z}/{x}/{y}{r}.png',\n",
       "   'attribution': '(C) OpenStreetMap contributors (C) CARTO',\n",
       "   'subdomains': 'abcd',\n",
       "   'max_zoom': 19,\n",
       "   'variant': 'light_only_labels',\n",
       "   'name': 'CartoDB.PositronOnlyLabels'},\n",
       "  'DarkMatter': {'url': 'https://{s}.basemaps.cartocdn.com/{variant}/{z}/{x}/{y}{r}.png',\n",
       "   'attribution': '(C) OpenStreetMap contributors (C) CARTO',\n",
       "   'subdomains': 'abcd',\n",
       "   'max_zoom': 19,\n",
       "   'variant': 'dark_all',\n",
       "   'name': 'CartoDB.DarkMatter'},\n",
       "  'DarkMatterNoLabels': {'url': 'https://{s}.basemaps.cartocdn.com/{variant}/{z}/{x}/{y}{r}.png',\n",
       "   'attribution': '(C) OpenStreetMap contributors (C) CARTO',\n",
       "   'subdomains': 'abcd',\n",
       "   'max_zoom': 19,\n",
       "   'variant': 'dark_nolabels',\n",
       "   'name': 'CartoDB.DarkMatterNoLabels'},\n",
       "  'DarkMatterOnlyLabels': {'url': 'https://{s}.basemaps.cartocdn.com/{variant}/{z}/{x}/{y}{r}.png',\n",
       "   'attribution': '(C) OpenStreetMap contributors (C) CARTO',\n",
       "   'subdomains': 'abcd',\n",
       "   'max_zoom': 19,\n",
       "   'variant': 'dark_only_labels',\n",
       "   'name': 'CartoDB.DarkMatterOnlyLabels'},\n",
       "  'Voyager': {'url': 'https://{s}.basemaps.cartocdn.com/{variant}/{z}/{x}/{y}{r}.png',\n",
       "   'attribution': '(C) OpenStreetMap contributors (C) CARTO',\n",
       "   'subdomains': 'abcd',\n",
       "   'max_zoom': 19,\n",
       "   'variant': 'rastertiles/voyager',\n",
       "   'name': 'CartoDB.Voyager'},\n",
       "  'VoyagerNoLabels': {'url': 'https://{s}.basemaps.cartocdn.com/{variant}/{z}/{x}/{y}{r}.png',\n",
       "   'attribution': '(C) OpenStreetMap contributors (C) CARTO',\n",
       "   'subdomains': 'abcd',\n",
       "   'max_zoom': 19,\n",
       "   'variant': 'rastertiles/voyager_nolabels',\n",
       "   'name': 'CartoDB.VoyagerNoLabels'},\n",
       "  'VoyagerOnlyLabels': {'url': 'https://{s}.basemaps.cartocdn.com/{variant}/{z}/{x}/{y}{r}.png',\n",
       "   'attribution': '(C) OpenStreetMap contributors (C) CARTO',\n",
       "   'subdomains': 'abcd',\n",
       "   'max_zoom': 19,\n",
       "   'variant': 'rastertiles/voyager_only_labels',\n",
       "   'name': 'CartoDB.VoyagerOnlyLabels'},\n",
       "  'VoyagerLabelsUnder': {'url': 'https://{s}.basemaps.cartocdn.com/{variant}/{z}/{x}/{y}{r}.png',\n",
       "   'attribution': '(C) OpenStreetMap contributors (C) CARTO',\n",
       "   'subdomains': 'abcd',\n",
       "   'max_zoom': 19,\n",
       "   'variant': 'rastertiles/voyager_labels_under',\n",
       "   'name': 'CartoDB.VoyagerLabelsUnder'}},\n",
       " 'HikeBike': {'HikeBike': {'url': 'https://tiles.wmflabs.org/{variant}/{z}/{x}/{y}.png',\n",
       "   'max_zoom': 19,\n",
       "   'attribution': '(C) OpenStreetMap contributors',\n",
       "   'variant': 'hikebike',\n",
       "   'name': 'HikeBike.HikeBike'},\n",
       "  'HillShading': {'url': 'https://tiles.wmflabs.org/{variant}/{z}/{x}/{y}.png',\n",
       "   'max_zoom': 15,\n",
       "   'attribution': '(C) OpenStreetMap contributors',\n",
       "   'variant': 'hillshading',\n",
       "   'name': 'HikeBike.HillShading'}},\n",
       " 'BasemapAT': {'basemap': {'url': 'https://maps{s}.wien.gv.at/basemap/{variant}/normal/google3857/{z}/{y}/{x}.{format}',\n",
       "   'max_zoom': 20,\n",
       "   'attribution': 'Datenquelle: basemap.at',\n",
       "   'subdomains': ['', '1', '2', '3', '4'],\n",
       "   'format': 'png',\n",
       "   'bounds': [[46.35877, 8.782379], [49.037872, 17.189532]],\n",
       "   'variant': 'geolandbasemap',\n",
       "   'name': 'BasemapAT.basemap'},\n",
       "  'grau': {'url': 'https://maps{s}.wien.gv.at/basemap/{variant}/normal/google3857/{z}/{y}/{x}.{format}',\n",
       "   'max_zoom': 19,\n",
       "   'attribution': 'Datenquelle: basemap.at',\n",
       "   'subdomains': ['', '1', '2', '3', '4'],\n",
       "   'format': 'png',\n",
       "   'bounds': [[46.35877, 8.782379], [49.037872, 17.189532]],\n",
       "   'variant': 'bmapgrau',\n",
       "   'name': 'BasemapAT.grau'},\n",
       "  'overlay': {'url': 'https://maps{s}.wien.gv.at/basemap/{variant}/normal/google3857/{z}/{y}/{x}.{format}',\n",
       "   'max_zoom': 19,\n",
       "   'attribution': 'Datenquelle: basemap.at',\n",
       "   'subdomains': ['', '1', '2', '3', '4'],\n",
       "   'format': 'png',\n",
       "   'bounds': [[46.35877, 8.782379], [49.037872, 17.189532]],\n",
       "   'variant': 'bmapoverlay',\n",
       "   'name': 'BasemapAT.overlay'},\n",
       "  'highdpi': {'url': 'https://maps{s}.wien.gv.at/basemap/{variant}/normal/google3857/{z}/{y}/{x}.{format}',\n",
       "   'max_zoom': 19,\n",
       "   'attribution': 'Datenquelle: basemap.at',\n",
       "   'subdomains': ['', '1', '2', '3', '4'],\n",
       "   'format': 'jpeg',\n",
       "   'bounds': [[46.35877, 8.782379], [49.037872, 17.189532]],\n",
       "   'variant': 'bmaphidpi',\n",
       "   'name': 'BasemapAT.highdpi'},\n",
       "  'orthofoto': {'url': 'https://maps{s}.wien.gv.at/basemap/{variant}/normal/google3857/{z}/{y}/{x}.{format}',\n",
       "   'max_zoom': 20,\n",
       "   'attribution': 'Datenquelle: basemap.at',\n",
       "   'subdomains': ['', '1', '2', '3', '4'],\n",
       "   'format': 'jpeg',\n",
       "   'bounds': [[46.35877, 8.782379], [49.037872, 17.189532]],\n",
       "   'variant': 'bmaporthofoto30cm',\n",
       "   'name': 'BasemapAT.orthofoto'}},\n",
       " 'nlmaps': {'standaard': {'url': 'https://geodata.nationaalgeoregister.nl/tiles/service/wmts/{variant}/EPSG:3857/{z}/{x}/{y}.png',\n",
       "   'min_zoom': 6,\n",
       "   'max_zoom': 19,\n",
       "   'bounds': [[50.5, 3.25], [54, 7.6]],\n",
       "   'attribution': 'Kaartgegevens (C) Kadaster',\n",
       "   'variant': 'brtachtergrondkaart',\n",
       "   'name': 'nlmaps.standaard'},\n",
       "  'pastel': {'url': 'https://geodata.nationaalgeoregister.nl/tiles/service/wmts/{variant}/EPSG:3857/{z}/{x}/{y}.png',\n",
       "   'min_zoom': 6,\n",
       "   'max_zoom': 19,\n",
       "   'bounds': [[50.5, 3.25], [54, 7.6]],\n",
       "   'attribution': 'Kaartgegevens (C) Kadaster',\n",
       "   'variant': 'brtachtergrondkaartpastel',\n",
       "   'name': 'nlmaps.pastel'},\n",
       "  'grijs': {'url': 'https://geodata.nationaalgeoregister.nl/tiles/service/wmts/{variant}/EPSG:3857/{z}/{x}/{y}.png',\n",
       "   'min_zoom': 6,\n",
       "   'max_zoom': 19,\n",
       "   'bounds': [[50.5, 3.25], [54, 7.6]],\n",
       "   'attribution': 'Kaartgegevens (C) Kadaster',\n",
       "   'variant': 'brtachtergrondkaartgrijs',\n",
       "   'name': 'nlmaps.grijs'},\n",
       "  'luchtfoto': {'url': 'https://geodata.nationaalgeoregister.nl/luchtfoto/rgb/wmts/1.0.0/2016_ortho25/EPSG:3857/{z}/{x}/{y}.png',\n",
       "   'min_zoom': 6,\n",
       "   'max_zoom': 19,\n",
       "   'bounds': [[50.5, 3.25], [54, 7.6]],\n",
       "   'attribution': 'Kaartgegevens (C) Kadaster',\n",
       "   'name': 'nlmaps.luchtfoto'}},\n",
       " 'NASAGIBS': {'ModisTerraTrueColorCR': {'url': 'https://map1.vis.earthdata.nasa.gov/wmts-webmerc/{variant}/default/{time}/{tilematrixset}{max_zoom}/{z}/{y}/{x}.{format}',\n",
       "   'attribution': 'Imagery provided by services from the Global Imagery Browse Services (GIBS), operated by the NASA/GSFC/Earth Science Data and Information System (ESDIS) with funding provided by NASA/HQ.',\n",
       "   'bounds': [[-85.0511287776, -179.999999975],\n",
       "    [85.0511287776, 179.999999975]],\n",
       "   'min_zoom': 1,\n",
       "   'max_zoom': 9,\n",
       "   'format': 'jpg',\n",
       "   'time': '',\n",
       "   'tilematrixset': 'GoogleMapsCompatible_Level',\n",
       "   'variant': 'MODIS_Terra_CorrectedReflectance_TrueColor',\n",
       "   'name': 'NASAGIBS.ModisTerraTrueColorCR'},\n",
       "  'ModisTerraBands367CR': {'url': 'https://map1.vis.earthdata.nasa.gov/wmts-webmerc/{variant}/default/{time}/{tilematrixset}{max_zoom}/{z}/{y}/{x}.{format}',\n",
       "   'attribution': 'Imagery provided by services from the Global Imagery Browse Services (GIBS), operated by the NASA/GSFC/Earth Science Data and Information System (ESDIS) with funding provided by NASA/HQ.',\n",
       "   'bounds': [[-85.0511287776, -179.999999975],\n",
       "    [85.0511287776, 179.999999975]],\n",
       "   'min_zoom': 1,\n",
       "   'max_zoom': 9,\n",
       "   'format': 'jpg',\n",
       "   'time': '',\n",
       "   'tilematrixset': 'GoogleMapsCompatible_Level',\n",
       "   'variant': 'MODIS_Terra_CorrectedReflectance_Bands367',\n",
       "   'name': 'NASAGIBS.ModisTerraBands367CR'},\n",
       "  'ViirsEarthAtNight2012': {'url': 'https://map1.vis.earthdata.nasa.gov/wmts-webmerc/{variant}/default/{time}/{tilematrixset}{max_zoom}/{z}/{y}/{x}.{format}',\n",
       "   'attribution': 'Imagery provided by services from the Global Imagery Browse Services (GIBS), operated by the NASA/GSFC/Earth Science Data and Information System (ESDIS) with funding provided by NASA/HQ.',\n",
       "   'bounds': [[-85.0511287776, -179.999999975],\n",
       "    [85.0511287776, 179.999999975]],\n",
       "   'min_zoom': 1,\n",
       "   'max_zoom': 8,\n",
       "   'format': 'jpg',\n",
       "   'time': '',\n",
       "   'tilematrixset': 'GoogleMapsCompatible_Level',\n",
       "   'variant': 'VIIRS_CityLights_2012',\n",
       "   'name': 'NASAGIBS.ViirsEarthAtNight2012'},\n",
       "  'ModisTerraLSTDay': {'url': 'https://map1.vis.earthdata.nasa.gov/wmts-webmerc/{variant}/default/{time}/{tilematrixset}{max_zoom}/{z}/{y}/{x}.{format}',\n",
       "   'attribution': 'Imagery provided by services from the Global Imagery Browse Services (GIBS), operated by the NASA/GSFC/Earth Science Data and Information System (ESDIS) with funding provided by NASA/HQ.',\n",
       "   'bounds': [[-85.0511287776, -179.999999975],\n",
       "    [85.0511287776, 179.999999975]],\n",
       "   'min_zoom': 1,\n",
       "   'max_zoom': 7,\n",
       "   'format': 'png',\n",
       "   'time': '',\n",
       "   'tilematrixset': 'GoogleMapsCompatible_Level',\n",
       "   'variant': 'MODIS_Terra_Land_Surface_Temp_Day',\n",
       "   'opacity': 0.75,\n",
       "   'name': 'NASAGIBS.ModisTerraLSTDay'},\n",
       "  'ModisTerraSnowCover': {'url': 'https://map1.vis.earthdata.nasa.gov/wmts-webmerc/{variant}/default/{time}/{tilematrixset}{max_zoom}/{z}/{y}/{x}.{format}',\n",
       "   'attribution': 'Imagery provided by services from the Global Imagery Browse Services (GIBS), operated by the NASA/GSFC/Earth Science Data and Information System (ESDIS) with funding provided by NASA/HQ.',\n",
       "   'bounds': [[-85.0511287776, -179.999999975],\n",
       "    [85.0511287776, 179.999999975]],\n",
       "   'min_zoom': 1,\n",
       "   'max_zoom': 8,\n",
       "   'format': 'png',\n",
       "   'time': '',\n",
       "   'tilematrixset': 'GoogleMapsCompatible_Level',\n",
       "   'variant': 'MODIS_Terra_Snow_Cover',\n",
       "   'opacity': 0.75,\n",
       "   'name': 'NASAGIBS.ModisTerraSnowCover'},\n",
       "  'ModisTerraAOD': {'url': 'https://map1.vis.earthdata.nasa.gov/wmts-webmerc/{variant}/default/{time}/{tilematrixset}{max_zoom}/{z}/{y}/{x}.{format}',\n",
       "   'attribution': 'Imagery provided by services from the Global Imagery Browse Services (GIBS), operated by the NASA/GSFC/Earth Science Data and Information System (ESDIS) with funding provided by NASA/HQ.',\n",
       "   'bounds': [[-85.0511287776, -179.999999975],\n",
       "    [85.0511287776, 179.999999975]],\n",
       "   'min_zoom': 1,\n",
       "   'max_zoom': 6,\n",
       "   'format': 'png',\n",
       "   'time': '',\n",
       "   'tilematrixset': 'GoogleMapsCompatible_Level',\n",
       "   'variant': 'MODIS_Terra_Aerosol',\n",
       "   'opacity': 0.75,\n",
       "   'name': 'NASAGIBS.ModisTerraAOD'},\n",
       "  'ModisTerraChlorophyll': {'url': 'https://map1.vis.earthdata.nasa.gov/wmts-webmerc/{variant}/default/{time}/{tilematrixset}{max_zoom}/{z}/{y}/{x}.{format}',\n",
       "   'attribution': 'Imagery provided by services from the Global Imagery Browse Services (GIBS), operated by the NASA/GSFC/Earth Science Data and Information System (ESDIS) with funding provided by NASA/HQ.',\n",
       "   'bounds': [[-85.0511287776, -179.999999975],\n",
       "    [85.0511287776, 179.999999975]],\n",
       "   'min_zoom': 1,\n",
       "   'max_zoom': 7,\n",
       "   'format': 'png',\n",
       "   'time': '',\n",
       "   'tilematrixset': 'GoogleMapsCompatible_Level',\n",
       "   'variant': 'MODIS_Terra_Chlorophyll_A',\n",
       "   'opacity': 0.75,\n",
       "   'name': 'NASAGIBS.ModisTerraChlorophyll'}},\n",
       " 'NLS': {'url': 'https://nls-{s}.tileserver.com/nls/{z}/{x}/{y}.jpg',\n",
       "  'attribution': 'National Library of Scotland Historic Maps',\n",
       "  'bounds': [[49.6, -12], [61.7, 3]],\n",
       "  'min_zoom': 1,\n",
       "  'max_zoom': 18,\n",
       "  'subdomains': '0123',\n",
       "  'name': 'NLS'},\n",
       " 'JusticeMap': {'income': {'url': 'http://www.justicemap.org/tile/{size}/{variant}/{z}/{x}/{y}.png',\n",
       "   'attribution': 'Justice Map',\n",
       "   'size': 'county',\n",
       "   'bounds': [[14, -180], [72, -56]],\n",
       "   'variant': 'income',\n",
       "   'name': 'JusticeMap.income'},\n",
       "  'americanIndian': {'url': 'http://www.justicemap.org/tile/{size}/{variant}/{z}/{x}/{y}.png',\n",
       "   'attribution': 'Justice Map',\n",
       "   'size': 'county',\n",
       "   'bounds': [[14, -180], [72, -56]],\n",
       "   'variant': 'indian',\n",
       "   'name': 'JusticeMap.americanIndian'},\n",
       "  'asian': {'url': 'http://www.justicemap.org/tile/{size}/{variant}/{z}/{x}/{y}.png',\n",
       "   'attribution': 'Justice Map',\n",
       "   'size': 'county',\n",
       "   'bounds': [[14, -180], [72, -56]],\n",
       "   'variant': 'asian',\n",
       "   'name': 'JusticeMap.asian'},\n",
       "  'black': {'url': 'http://www.justicemap.org/tile/{size}/{variant}/{z}/{x}/{y}.png',\n",
       "   'attribution': 'Justice Map',\n",
       "   'size': 'county',\n",
       "   'bounds': [[14, -180], [72, -56]],\n",
       "   'variant': 'black',\n",
       "   'name': 'JusticeMap.black'},\n",
       "  'hispanic': {'url': 'http://www.justicemap.org/tile/{size}/{variant}/{z}/{x}/{y}.png',\n",
       "   'attribution': 'Justice Map',\n",
       "   'size': 'county',\n",
       "   'bounds': [[14, -180], [72, -56]],\n",
       "   'variant': 'hispanic',\n",
       "   'name': 'JusticeMap.hispanic'},\n",
       "  'multi': {'url': 'http://www.justicemap.org/tile/{size}/{variant}/{z}/{x}/{y}.png',\n",
       "   'attribution': 'Justice Map',\n",
       "   'size': 'county',\n",
       "   'bounds': [[14, -180], [72, -56]],\n",
       "   'variant': 'multi',\n",
       "   'name': 'JusticeMap.multi'},\n",
       "  'nonWhite': {'url': 'http://www.justicemap.org/tile/{size}/{variant}/{z}/{x}/{y}.png',\n",
       "   'attribution': 'Justice Map',\n",
       "   'size': 'county',\n",
       "   'bounds': [[14, -180], [72, -56]],\n",
       "   'variant': 'nonwhite',\n",
       "   'name': 'JusticeMap.nonWhite'},\n",
       "  'white': {'url': 'http://www.justicemap.org/tile/{size}/{variant}/{z}/{x}/{y}.png',\n",
       "   'attribution': 'Justice Map',\n",
       "   'size': 'county',\n",
       "   'bounds': [[14, -180], [72, -56]],\n",
       "   'variant': 'white',\n",
       "   'name': 'JusticeMap.white'},\n",
       "  'plurality': {'url': 'http://www.justicemap.org/tile/{size}/{variant}/{z}/{x}/{y}.png',\n",
       "   'attribution': 'Justice Map',\n",
       "   'size': 'county',\n",
       "   'bounds': [[14, -180], [72, -56]],\n",
       "   'variant': 'plural',\n",
       "   'name': 'JusticeMap.plurality'}},\n",
       " 'Wikimedia': {'url': 'https://maps.wikimedia.org/osm-intl/{z}/{x}/{y}{r}.png',\n",
       "  'attribution': 'Wikimedia',\n",
       "  'min_zoom': 1,\n",
       "  'max_zoom': 19,\n",
       "  'name': 'Wikimedia'},\n",
       " 'GeoportailFrance': {'parcels': {'url': 'https://wxs.ign.fr/{apikey}/geoportail/wmts?REQUEST=GetTile&SERVICE=WMTS&VERSION=1.0.0&STYLE={style}&TILEMATRIXSET=PM&FORMAT={format}&LAYER={variant}&TILEMATRIX={z}&TILEROW={y}&TILECOL={x}',\n",
       "   'attribution': 'Geoportail France',\n",
       "   'bounds': [[-75, -180], [81, 180]],\n",
       "   'min_zoom': 2,\n",
       "   'max_zoom': 20,\n",
       "   'apikey': 'choisirgeoportail',\n",
       "   'format': 'image/png',\n",
       "   'style': 'bdparcellaire',\n",
       "   'variant': 'CADASTRALPARCELS.PARCELS',\n",
       "   'name': 'GeoportailFrance.parcels'},\n",
       "  'ignMaps': {'url': 'https://wxs.ign.fr/{apikey}/geoportail/wmts?REQUEST=GetTile&SERVICE=WMTS&VERSION=1.0.0&STYLE={style}&TILEMATRIXSET=PM&FORMAT={format}&LAYER={variant}&TILEMATRIX={z}&TILEROW={y}&TILECOL={x}',\n",
       "   'attribution': 'Geoportail France',\n",
       "   'bounds': [[-75, -180], [81, 180]],\n",
       "   'min_zoom': 2,\n",
       "   'max_zoom': 18,\n",
       "   'apikey': 'choisirgeoportail',\n",
       "   'format': 'image/jpeg',\n",
       "   'style': 'normal',\n",
       "   'variant': 'GEOGRAPHICALGRIDSYSTEMS.MAPS',\n",
       "   'name': 'GeoportailFrance.ignMaps'},\n",
       "  'maps': {'url': 'https://wxs.ign.fr/{apikey}/geoportail/wmts?REQUEST=GetTile&SERVICE=WMTS&VERSION=1.0.0&STYLE={style}&TILEMATRIXSET=PM&FORMAT={format}&LAYER={variant}&TILEMATRIX={z}&TILEROW={y}&TILECOL={x}',\n",
       "   'attribution': 'Geoportail France',\n",
       "   'bounds': [[-75, -180], [81, 180]],\n",
       "   'min_zoom': 2,\n",
       "   'max_zoom': 18,\n",
       "   'apikey': 'choisirgeoportail',\n",
       "   'format': 'image/jpeg',\n",
       "   'style': 'normal',\n",
       "   'variant': 'GEOGRAPHICALGRIDSYSTEMS.MAPS.SCAN-EXPRESS.STANDARD',\n",
       "   'name': 'GeoportailFrance.maps'},\n",
       "  'orthos': {'url': 'https://wxs.ign.fr/{apikey}/geoportail/wmts?REQUEST=GetTile&SERVICE=WMTS&VERSION=1.0.0&STYLE={style}&TILEMATRIXSET=PM&FORMAT={format}&LAYER={variant}&TILEMATRIX={z}&TILEROW={y}&TILECOL={x}',\n",
       "   'attribution': 'Geoportail France',\n",
       "   'bounds': [[-75, -180], [81, 180]],\n",
       "   'min_zoom': 2,\n",
       "   'max_zoom': 19,\n",
       "   'apikey': 'choisirgeoportail',\n",
       "   'format': 'image/jpeg',\n",
       "   'style': 'normal',\n",
       "   'variant': 'ORTHOIMAGERY.ORTHOPHOTOS',\n",
       "   'name': 'GeoportailFrance.orthos'}},\n",
       " 'OneMapSG': {'Default': {'url': 'https://maps-{s}.onemap.sg/v3/{variant}/{z}/{x}/{y}.png',\n",
       "   'variant': 'Default',\n",
       "   'min_zoom': 11,\n",
       "   'max_zoom': 18,\n",
       "   'bounds': [[1.56073, 104.11475], [1.16, 103.502]],\n",
       "   'attribution': '![](https://docs.onemap.sg/maps/images/oneMap64-01.png) New OneMap | Map data (C) contributors, Singapore Land Authority',\n",
       "   'name': 'OneMapSG.Default'},\n",
       "  'Night': {'url': 'https://maps-{s}.onemap.sg/v3/{variant}/{z}/{x}/{y}.png',\n",
       "   'variant': 'Night',\n",
       "   'min_zoom': 11,\n",
       "   'max_zoom': 18,\n",
       "   'bounds': [[1.56073, 104.11475], [1.16, 103.502]],\n",
       "   'attribution': '![](https://docs.onemap.sg/maps/images/oneMap64-01.png) New OneMap | Map data (C) contributors, Singapore Land Authority',\n",
       "   'name': 'OneMapSG.Night'},\n",
       "  'Original': {'url': 'https://maps-{s}.onemap.sg/v3/{variant}/{z}/{x}/{y}.png',\n",
       "   'variant': 'Original',\n",
       "   'min_zoom': 11,\n",
       "   'max_zoom': 18,\n",
       "   'bounds': [[1.56073, 104.11475], [1.16, 103.502]],\n",
       "   'attribution': '![](https://docs.onemap.sg/maps/images/oneMap64-01.png) New OneMap | Map data (C) contributors, Singapore Land Authority',\n",
       "   'name': 'OneMapSG.Original'},\n",
       "  'Grey': {'url': 'https://maps-{s}.onemap.sg/v3/{variant}/{z}/{x}/{y}.png',\n",
       "   'variant': 'Grey',\n",
       "   'min_zoom': 11,\n",
       "   'max_zoom': 18,\n",
       "   'bounds': [[1.56073, 104.11475], [1.16, 103.502]],\n",
       "   'attribution': '![](https://docs.onemap.sg/maps/images/oneMap64-01.png) New OneMap | Map data (C) contributors, Singapore Land Authority',\n",
       "   'name': 'OneMapSG.Grey'},\n",
       "  'LandLot': {'url': 'https://maps-{s}.onemap.sg/v3/{variant}/{z}/{x}/{y}.png',\n",
       "   'variant': 'LandLot',\n",
       "   'min_zoom': 11,\n",
       "   'max_zoom': 18,\n",
       "   'bounds': [[1.56073, 104.11475], [1.16, 103.502]],\n",
       "   'attribution': '![](https://docs.onemap.sg/maps/images/oneMap64-01.png) New OneMap | Map data (C) contributors, Singapore Land Authority',\n",
       "   'name': 'OneMapSG.LandLot'}}}"
      ]
     },
     "execution_count": 136,
     "metadata": {},
     "output_type": "execute_result"
    }
   ],
   "source": [
    "ctx.providers"
   ]
  },
  {
   "cell_type": "code",
   "execution_count": 137,
   "metadata": {
    "colab": {
     "base_uri": "https://localhost:8080/",
     "height": 34
    },
    "colab_type": "code",
    "id": "iTCvsW3EkjFg",
    "outputId": "0b7620be-4d7f-4dba-977c-f009e59583a5"
   },
   "outputs": [
    {
     "name": "stderr",
     "output_type": "stream",
     "text": [
      "/opt/conda/lib/python3.7/site-packages/ipykernel_launcher.py:2: FutureWarning: The \"contextily.tile_providers\" module is deprecated and will be removed in contextily v1.1. Please use \"contextily.providers\" instead.\n",
      "  \n"
     ]
    },
    {
     "data": {
      "text/plain": [
       "'http://tile.stamen.com/toner-background/{z}/{x}/{y}.png'"
      ]
     },
     "execution_count": 137,
     "metadata": {},
     "output_type": "execute_result"
    }
   ],
   "source": [
    "# we can get the urls for the different backgrounds using:\n",
    "getattr(ctx.sources,'ST_TONER_BACKGROUND')\n",
    "# we'll pass this into the add_basemap function in the url argument"
   ]
  },
  {
   "cell_type": "code",
   "execution_count": 138,
   "metadata": {
    "colab": {
     "base_uri": "https://localhost:8080/",
     "height": 381
    },
    "colab_type": "code",
    "id": "pknCTknLucvf",
    "outputId": "03bd2a95-42ee-4c63-f158-ebdf76e28131"
   },
   "outputs": [
    {
     "name": "stderr",
     "output_type": "stream",
     "text": [
      "/opt/conda/lib/python3.7/site-packages/ipykernel_launcher.py:2: FutureWarning: The \"contextily.tile_providers\" module is deprecated and will be removed in contextily v1.1. Please use \"contextily.providers\" instead.\n",
      "  \n",
      "/opt/conda/lib/python3.7/site-packages/ipykernel_launcher.py:2: FutureWarning: The \"url\" option is deprecated. Please use the \"source\" argument instead.\n",
      "  \n"
     ]
    },
    {
     "data": {
      "image/png": "[encoded data removed]",
      "text/plain": [
       "<Figure size 720x360 with 1 Axes>"
      ]
     },
     "metadata": {
      "needs_background": "light"
     },
     "output_type": "display_data"
    }
   ],
   "source": [
    "ax = data.to_crs(epsg=3857).plot(figsize=(10,5), alpha=0.6, cmap='Set2')\n",
    "ctx.add_basemap(ax, url=getattr(ctx.sources,'ST_TONER_BACKGROUND'))"
   ]
  },
  {
   "cell_type": "code",
   "execution_count": 181,
   "metadata": {
    "colab": {
     "base_uri": "https://localhost:8080/",
     "height": 54
    },
    "colab_type": "code",
    "id": "Ilaceib1vFFh",
    "outputId": "23c7fd83-5e0e-4a02-96d2-b04a73e7d75b"
   },
   "outputs": [
    {
     "data": {
      "text/plain": [
       "(-79.56737515199995, 8.442261236000036, -78.48675787199994, 9.030436516000066)"
      ]
     },
     "execution_count": 181,
     "metadata": {},
     "output_type": "execute_result"
    }
   ],
   "source": [
    "# we can download background tiles as images for quicker loading (don't need to keep redownloading)\n",
    "# let's use the bounds of one of the fish locations as an example\n",
    "w,s,e,n = data.loc[25,'geometry'].bounds\n",
    "data.loc[10,'geometry'].bounds"
   ]
  },
  {
   "cell_type": "markdown",
   "metadata": {
    "colab_type": "text",
    "id": "x2kZllDjv-iv"
   },
   "source": [
    "the function bounds2img takes coordinates and [zoom level](https://wiki.openstreetmap.org/wiki/Zoom_levels) and downloads the corresponding tiles of the map as images"
   ]
  },
  {
   "cell_type": "code",
   "execution_count": 182,
   "metadata": {
    "colab": {
     "base_uri": "https://localhost:8080/",
     "height": 317
    },
    "colab_type": "code",
    "id": "7_uaWWzFvuC1",
    "outputId": "12fcf339-0a80-4994-d66c-d9d218d5c1b2"
   },
   "outputs": [
    {
     "data": {
      "text/plain": [
       "[(2498442.0929655433, 2884399.3464440173),\n",
       " (-12544723.739110544, -12090944.453255981)]"
      ]
     },
     "execution_count": 182,
     "metadata": {},
     "output_type": "execute_result"
    },
    {
     "data": {
      "image/png": "[encoded data removed]",
      "text/plain": [
       "<Figure size 432x288 with 1 Axes>"
      ]
     },
     "metadata": {
      "needs_background": "light"
     },
     "output_type": "display_data"
    }
   ],
   "source": [
    "img, ext = ctx.bounds2img(w, s, e, n, 6, ll=True) #ll means coordinates are in lat-lon\n",
    "fig = plt.figure()\n",
    "ax = fig.add_subplot(1,1,1)\n",
    "ax.imshow(img, extent=ext)\n",
    "data.to_crs(epsg=3857).plot(ax=ax, cmap='Set3', alpha=0.8)\n",
    "ax_bounds = data.to_crs(epsg=3857).loc[25,'geometry'].bounds\n",
    "ax.set(xlim=[ax_bounds[0],ax_bounds[2]],ylim=[ax_bounds[1],ax_bounds[3]])\n"
   ]
  },
  {
   "cell_type": "markdown",
   "metadata": {
    "colab_type": "text",
    "id": "AxVlRjR8qoHm"
   },
   "source": [
    "## Writing to a shapefile\n",
    "\n",
    "First we'll make a directory for outputting data to. We use the `mkdir` command which makes an empty folder. The `-p` option will skip it if the directory already exists"
   ]
  },
  {
   "cell_type": "code",
   "execution_count": 154,
   "metadata": {
    "colab": {},
    "colab_type": "code",
    "id": "mTujtJbZqTB2"
   },
   "outputs": [],
   "source": [
    "!mkdir output_data -p"
   ]
  },
  {
   "cell_type": "code",
   "execution_count": 155,
   "metadata": {
    "colab": {},
    "colab_type": "code",
    "id": "ElvvoSQHql4T"
   },
   "outputs": [],
   "source": [
    "# let's write the first 50 rows of the shapefile to a new file\n",
    "outfp = \"output_data/DAMSELFISH_distributions_SELECTION.shp\"\n",
    "\n",
    "# Select first 50 rows\n",
    "selection = data[0:50]\n",
    "\n",
    "# Write those rows into a new Shapefile (the default output file format is Shapefile)\n",
    "selection.to_file(outfp)"
   ]
  },
  {
   "cell_type": "code",
   "execution_count": 156,
   "metadata": {},
   "outputs": [
    {
     "data": {
      "text/plain": [
       "{'AeronavFAA': 'r',\n",
       " 'ARCGEN': 'r',\n",
       " 'BNA': 'raw',\n",
       " 'DXF': 'raw',\n",
       " 'CSV': 'raw',\n",
       " 'OpenFileGDB': 'r',\n",
       " 'ESRIJSON': 'r',\n",
       " 'ESRI Shapefile': 'raw',\n",
       " 'GeoJSON': 'rw',\n",
       " 'GeoJSONSeq': 'rw',\n",
       " 'GPKG': 'rw',\n",
       " 'GML': 'raw',\n",
       " 'GPX': 'raw',\n",
       " 'GPSTrackMaker': 'raw',\n",
       " 'Idrisi': 'r',\n",
       " 'MapInfo File': 'raw',\n",
       " 'DGN': 'raw',\n",
       " 'PCIDSK': 'r',\n",
       " 'S57': 'r',\n",
       " 'SEGY': 'r',\n",
       " 'SUA': 'r',\n",
       " 'TopoJSON': 'r'}"
      ]
     },
     "execution_count": 156,
     "metadata": {},
     "output_type": "execute_result"
    }
   ],
   "source": [
    "fiona.supported_drivers"
   ]
  },
  {
   "cell_type": "markdown",
   "metadata": {
    "colab_type": "text",
    "id": "3n7QVWo9tAuV"
   },
   "source": [
    "## Converting shapes to GeoDataFrames\n",
    "You can use Shapely geometric objects to create a GeoDataFrame from scratch. "
   ]
  },
  {
   "cell_type": "code",
   "execution_count": 157,
   "metadata": {
    "colab": {
     "base_uri": "https://localhost:8080/",
     "height": 69
    },
    "colab_type": "code",
    "id": "r6xTzsiltNiR",
    "outputId": "7e686899-7e11-4812-9a42-fe6a14778341"
   },
   "outputs": [
    {
     "name": "stdout",
     "output_type": "stream",
     "text": [
      "Empty GeoDataFrame\n",
      "Columns: [geometry]\n",
      "Index: []\n"
     ]
    }
   ],
   "source": [
    "# Create an empty geopandas GeoDataFrame\n",
    "newdata = gpd.GeoDataFrame()\n",
    "\n",
    "# add a geometry column (necessary for shapefile)\n",
    "newdata['geometry'] = None\n",
    "\n",
    "# Let's see what we have at the moment\n",
    "print(newdata)"
   ]
  },
  {
   "cell_type": "code",
   "execution_count": 158,
   "metadata": {
    "colab": {
     "base_uri": "https://localhost:8080/",
     "height": 121
    },
    "colab_type": "code",
    "id": "c9fD5asutOlQ",
    "outputId": "5957bc05-4dde-4ef1-eee9-8323a169b0c9"
   },
   "outputs": [
    {
     "data": {
      "image/svg+xml": [
       "<svg xmlns=\"http://www.w3.org/2000/svg\" xmlns:xlink=\"http://www.w3.org/1999/xlink\" width=\"100.0\" height=\"100.0\" viewBox=\"-71.09526932 42.35702068 0.015695639999989908 0.006144640000002255\" preserveAspectRatio=\"xMinYMin meet\"><g transform=\"matrix(1,0,0,-1,0,84.720186)\"><path fill-rule=\"evenodd\" fill=\"#66cc99\" stroke=\"#555555\" stroke-width=\"0.00031391279999979814\" opacity=\"0.6\" d=\"M -71.092562,42.357602 L -71.080155,42.361553 L -71.089817,42.362584 L -71.094688,42.360198 L -71.092562,42.357602 z\" /></g></svg>"
      ],
      "text/plain": [
       "<shapely.geometry.polygon.Polygon at 0x7fd8ebeaa910>"
      ]
     },
     "execution_count": 158,
     "metadata": {},
     "output_type": "execute_result"
    }
   ],
   "source": [
    "# Coordinates of the MIT main campus in Decimal Degrees\n",
    "coordinates = [(-71.092562, 42.357602), ( -71.080155, 42.361553), ( -71.089817, 42.362584), (-71.094688, 42.360198)]\n",
    "\n",
    "# Create a Shapely polygon from the coordinate-tuple list\n",
    "poly = Polygon(coordinates)\n",
    "\n",
    "# Let's see what we have\n",
    "poly"
   ]
  },
  {
   "cell_type": "markdown",
   "metadata": {
    "colab_type": "text",
    "id": "_6QiacpteEaW"
   },
   "source": [
    "Quick checkpoint! Find the coordinates of the corners of a place that has significant meaning to you. Just like we did above, make a Shapely polygon from the coordinate-tuple list of the corners of your personal landmark.\n",
    "Display it! It can be as big as you want. If you want, share out with the class the place and why it is significant to you.  "
   ]
  },
  {
   "cell_type": "code",
   "execution_count": 159,
   "metadata": {
    "colab": {},
    "colab_type": "code",
    "id": "ZWa6VwO5gP56"
   },
   "outputs": [
    {
     "data": {
      "image/svg+xml": [
       "<svg xmlns=\"http://www.w3.org/2000/svg\" xmlns:xlink=\"http://www.w3.org/1999/xlink\" width=\"100.0\" height=\"100.0\" viewBox=\"-77.44004748 38.65176952 0.0040899600000017244 0.003434959999999876\" preserveAspectRatio=\"xMinYMin meet\"><g transform=\"matrix(1,0,0,-1,0,77.306974)\"><path fill-rule=\"evenodd\" fill=\"#66cc99\" stroke=\"#555555\" stroke-width=\"8.179920000003449e-05\" opacity=\"0.6\" d=\"M -77.439896,38.65494 L -77.437396,38.655053 L -77.436109,38.652234 L -77.438445,38.651921 L -77.439896,38.65494 z\" /></g></svg>"
      ],
      "text/plain": [
       "<shapely.geometry.polygon.Polygon at 0x7fd8ec3e7210>"
      ]
     },
     "execution_count": 159,
     "metadata": {},
     "output_type": "execute_result"
    }
   ],
   "source": [
    "# Coordinates of place of signficance in Decimal Degrees\n",
    "coordinates_personal =[(-77.439896, 38.654940), (-77.437396, 38.655053), (-77.436109, 38.652234), (-77.438445, 38.651921)]\n",
    "\n",
    "# Create a Shapely polygon from the coordinate-tuple list\n",
    "poly_personal =Polygon(coordinates_personal)\n",
    "\n",
    "#Show the place and share out its significance if you want\n",
    "poly_personal"
   ]
  },
  {
   "cell_type": "code",
   "execution_count": 160,
   "metadata": {
    "colab": {
     "base_uri": "https://localhost:8080/",
     "height": 81
    },
    "colab_type": "code",
    "id": "B3-61iLVt_N5",
    "outputId": "52ff4839-275c-4cd4-a588-0a64a1a1e889"
   },
   "outputs": [
    {
     "data": {
      "text/html": [
       "<div>\n",
       "<style scoped>\n",
       "    .dataframe tbody tr th:only-of-type {\n",
       "        vertical-align: middle;\n",
       "    }\n",
       "\n",
       "    .dataframe tbody tr th {\n",
       "        vertical-align: top;\n",
       "    }\n",
       "\n",
       "    .dataframe thead th {\n",
       "        text-align: right;\n",
       "    }\n",
       "</style>\n",
       "<table border=\"1\" class=\"dataframe\">\n",
       "  <thead>\n",
       "    <tr style=\"text-align: right;\">\n",
       "      <th></th>\n",
       "      <th>geometry</th>\n",
       "    </tr>\n",
       "  </thead>\n",
       "  <tbody>\n",
       "    <tr>\n",
       "      <th>0</th>\n",
       "      <td>POLYGON ((-71.09256 42.35760, -71.08016 42.361...</td>\n",
       "    </tr>\n",
       "    <tr>\n",
       "      <th>1</th>\n",
       "      <td>POLYGON ((-77.43990 38.65494, -77.43740 38.655...</td>\n",
       "    </tr>\n",
       "  </tbody>\n",
       "</table>\n",
       "</div>"
      ],
      "text/plain": [
       "                                            geometry\n",
       "0  POLYGON ((-71.09256 42.35760, -71.08016 42.361...\n",
       "1  POLYGON ((-77.43990 38.65494, -77.43740 38.655..."
      ]
     },
     "execution_count": 160,
     "metadata": {},
     "output_type": "execute_result"
    }
   ],
   "source": [
    "# Insert the polygon into 'geometry' -column at index 0\n",
    "newdata.loc[0, 'geometry'] = poly\n",
    "newdata.loc[1, 'geometry'] = poly_personal\n",
    "newdata"
   ]
  },
  {
   "cell_type": "code",
   "execution_count": 161,
   "metadata": {
    "colab": {
     "base_uri": "https://localhost:8080/",
     "height": 81
    },
    "colab_type": "code",
    "id": "D-5voz3YwU7x",
    "outputId": "58fcce49-588b-4404-ca43-6239e38e37b6"
   },
   "outputs": [
    {
     "data": {
      "text/html": [
       "<div>\n",
       "<style scoped>\n",
       "    .dataframe tbody tr th:only-of-type {\n",
       "        vertical-align: middle;\n",
       "    }\n",
       "\n",
       "    .dataframe tbody tr th {\n",
       "        vertical-align: top;\n",
       "    }\n",
       "\n",
       "    .dataframe thead th {\n",
       "        text-align: right;\n",
       "    }\n",
       "</style>\n",
       "<table border=\"1\" class=\"dataframe\">\n",
       "  <thead>\n",
       "    <tr style=\"text-align: right;\">\n",
       "      <th></th>\n",
       "      <th>geometry</th>\n",
       "      <th>location</th>\n",
       "    </tr>\n",
       "  </thead>\n",
       "  <tbody>\n",
       "    <tr>\n",
       "      <th>0</th>\n",
       "      <td>POLYGON ((-71.09256 42.35760, -71.08016 42.361...</td>\n",
       "      <td>MIT main campus</td>\n",
       "    </tr>\n",
       "    <tr>\n",
       "      <th>1</th>\n",
       "      <td>POLYGON ((-77.43990 38.65494, -77.43740 38.655...</td>\n",
       "      <td>High School</td>\n",
       "    </tr>\n",
       "  </tbody>\n",
       "</table>\n",
       "</div>"
      ],
      "text/plain": [
       "                                            geometry         location\n",
       "0  POLYGON ((-71.09256 42.35760, -71.08016 42.361...  MIT main campus\n",
       "1  POLYGON ((-77.43990 38.65494, -77.43740 38.655...      High School"
      ]
     },
     "execution_count": 161,
     "metadata": {},
     "output_type": "execute_result"
    }
   ],
   "source": [
    "newdata.loc[0, 'location'] = 'MIT main campus'\n",
    "newdata.loc[1, 'location'] = 'High School'\n",
    "newdata"
   ]
  },
  {
   "cell_type": "markdown",
   "metadata": {
    "colab_type": "text",
    "id": "WnCD6scxweE9"
   },
   "source": [
    "Before exporting the data it is necessary to set the coordinate reference system (projection) for the GeoDataFrame. \n",
    "\n",
    "We will set the crs using a function from `fiona`, another GIS library integrated with geopandas. "
   ]
  },
  {
   "cell_type": "code",
   "execution_count": 162,
   "metadata": {
    "colab": {
     "base_uri": "https://localhost:8080/",
     "height": 34
    },
    "colab_type": "code",
    "id": "tflAvQZ8w-Cr",
    "outputId": "7b9be928-f905-4894-86f2-5c636d0b8f1d"
   },
   "outputs": [
    {
     "name": "stdout",
     "output_type": "stream",
     "text": [
      "+init=epsg:4326 +no_defs +type=crs\n"
     ]
    },
    {
     "name": "stderr",
     "output_type": "stream",
     "text": [
      "/opt/conda/lib/python3.7/site-packages/pyproj/crs/crs.py:53: FutureWarning: '+init=<authority>:<code>' syntax is deprecated. '<authority>:<code>' is the preferred initialization method. When making the change, be mindful of axis order changes: https://pyproj4.github.io/pyproj/stable/gotchas.html#axis-order-changes-in-proj-6\n",
      "  return _prepare_from_string(\" \".join(pjargs))\n"
     ]
    }
   ],
   "source": [
    "from fiona.crs import from_epsg\n",
    "\n",
    "# Set the GeoDataFrame's coordinate system to WGS84 (i.e. epsg code 4326)\n",
    "newdata.crs = from_epsg(4326)\n",
    "\n",
    "# Let's see how the crs definition looks like\n",
    "print(newdata.crs)"
   ]
  },
  {
   "cell_type": "code",
   "execution_count": 163,
   "metadata": {},
   "outputs": [
    {
     "data": {
      "text/plain": [
       "<matplotlib.axes._subplots.AxesSubplot at 0x7fd8ebf981d0>"
      ]
     },
     "execution_count": 163,
     "metadata": {},
     "output_type": "execute_result"
    },
    {
     "data": {
      "image/png": "[encoded data removed]",
      "text/plain": [
       "<Figure size 432x288 with 1 Axes>"
      ]
     },
     "metadata": {
      "needs_background": "light"
     },
     "output_type": "display_data"
    }
   ],
   "source": [
    "op = gpd.read_file('map.geojson', driver = 'GeoJSON')\n",
    "op.plot()"
   ]
  },
  {
   "cell_type": "code",
   "execution_count": 164,
   "metadata": {
    "colab": {},
    "colab_type": "code",
    "id": "el0ujZVAxhp6"
   },
   "outputs": [],
   "source": [
    "outfp = \"output_data/MIT_campus.shp\"\n",
    "\n",
    "# Write the data into that Shapefile\n",
    "newdata.to_file(outfp)"
   ]
  },
  {
   "cell_type": "code",
   "execution_count": 165,
   "metadata": {},
   "outputs": [
    {
     "data": {
      "text/plain": [
       "<matplotlib.axes._subplots.AxesSubplot at 0x7fd8ec91fc90>"
      ]
     },
     "execution_count": 165,
     "metadata": {},
     "output_type": "execute_result"
    },
    {
     "data": {
      "image/png": "[encoded data removed]",
      "text/plain": [
       "<Figure size 432x288 with 1 Axes>"
      ]
     },
     "metadata": {
      "needs_background": "light"
     },
     "output_type": "display_data"
    }
   ],
   "source": [
    "op = gpd.read_file('map.geojson', driver = 'GeoJSON')\n",
    "op.plot()"
   ]
  },
  {
   "cell_type": "code",
   "execution_count": 166,
   "metadata": {
    "colab": {
     "base_uri": "https://localhost:8080/",
     "height": 343
    },
    "colab_type": "code",
    "id": "6K9ob7oAyeIo",
    "outputId": "01887b54-cd30-4d4b-842c-30b7096fee39"
   },
   "outputs": [
    {
     "name": "stderr",
     "output_type": "stream",
     "text": [
      "/opt/conda/lib/python3.7/site-packages/contextily/tile.py:629: UserWarning: The inferred zoom level of 19 is not valid for the current tile provider (valid zooms: 0 - 18).\n",
      "  warnings.warn(msg)\n"
     ]
    },
    {
     "ename": "HTTPError",
     "evalue": "Tile URL resulted in a 404 error. Double-check your tile url:\nhttps://stamen-tiles-a.a.ssl.fastly.net/terrain/18/74674/100406.png",
     "output_type": "error",
     "traceback": [
      "\u001b[0;31m---------------------------------------------------------------------------\u001b[0m",
      "\u001b[0;31mHTTPError\u001b[0m                                 Traceback (most recent call last)",
      "\u001b[0;32m/opt/conda/lib/python3.7/site-packages/contextily/tile.py\u001b[0m in \u001b[0;36m_retryer\u001b[0;34m(tile_url, wait, max_retries)\u001b[0m\n\u001b[1;32m    443\u001b[0m         \u001b[0mrequest\u001b[0m \u001b[0;34m=\u001b[0m \u001b[0mrequests\u001b[0m\u001b[0;34m.\u001b[0m\u001b[0mget\u001b[0m\u001b[0;34m(\u001b[0m\u001b[0mtile_url\u001b[0m\u001b[0;34m,\u001b[0m \u001b[0mheaders\u001b[0m\u001b[0;34m=\u001b[0m\u001b[0;34m{\u001b[0m\u001b[0;34m\"user-agent\"\u001b[0m\u001b[0;34m:\u001b[0m \u001b[0mUSER_AGENT\u001b[0m\u001b[0;34m}\u001b[0m\u001b[0;34m)\u001b[0m\u001b[0;34m\u001b[0m\u001b[0;34m\u001b[0m\u001b[0m\n\u001b[0;32m--> 444\u001b[0;31m         \u001b[0mrequest\u001b[0m\u001b[0;34m.\u001b[0m\u001b[0mraise_for_status\u001b[0m\u001b[0;34m(\u001b[0m\u001b[0;34m)\u001b[0m\u001b[0;34m\u001b[0m\u001b[0;34m\u001b[0m\u001b[0m\n\u001b[0m\u001b[1;32m    445\u001b[0m     \u001b[0;32mexcept\u001b[0m \u001b[0mrequests\u001b[0m\u001b[0;34m.\u001b[0m\u001b[0mHTTPError\u001b[0m\u001b[0;34m:\u001b[0m\u001b[0;34m\u001b[0m\u001b[0;34m\u001b[0m\u001b[0m\n",
      "\u001b[0;32m/opt/conda/lib/python3.7/site-packages/requests/models.py\u001b[0m in \u001b[0;36mraise_for_status\u001b[0;34m(self)\u001b[0m\n\u001b[1;32m    940\u001b[0m         \u001b[0;32mif\u001b[0m \u001b[0mhttp_error_msg\u001b[0m\u001b[0;34m:\u001b[0m\u001b[0;34m\u001b[0m\u001b[0;34m\u001b[0m\u001b[0m\n\u001b[0;32m--> 941\u001b[0;31m             \u001b[0;32mraise\u001b[0m \u001b[0mHTTPError\u001b[0m\u001b[0;34m(\u001b[0m\u001b[0mhttp_error_msg\u001b[0m\u001b[0;34m,\u001b[0m \u001b[0mresponse\u001b[0m\u001b[0;34m=\u001b[0m\u001b[0mself\u001b[0m\u001b[0;34m)\u001b[0m\u001b[0;34m\u001b[0m\u001b[0;34m\u001b[0m\u001b[0m\n\u001b[0m\u001b[1;32m    942\u001b[0m \u001b[0;34m\u001b[0m\u001b[0m\n",
      "\u001b[0;31mHTTPError\u001b[0m: 404 Client Error: Not Found for url: https://stamen-tiles-a.a.ssl.fastly.net/terrain/18/74674/100406.png",
      "\nDuring handling of the above exception, another exception occurred:\n",
      "\u001b[0;31mHTTPError\u001b[0m                                 Traceback (most recent call last)",
      "\u001b[0;32m<ipython-input-166-9a64ba4fa271>\u001b[0m in \u001b[0;36m<module>\u001b[0;34m\u001b[0m\n\u001b[1;32m      1\u001b[0m \u001b[0;31m# Let's plot it\u001b[0m\u001b[0;34m\u001b[0m\u001b[0;34m\u001b[0m\u001b[0;34m\u001b[0m\u001b[0m\n\u001b[1;32m      2\u001b[0m \u001b[0max\u001b[0m \u001b[0;34m=\u001b[0m \u001b[0mop\u001b[0m\u001b[0;34m.\u001b[0m\u001b[0mto_crs\u001b[0m\u001b[0;34m(\u001b[0m\u001b[0mepsg\u001b[0m\u001b[0;34m=\u001b[0m\u001b[0;36m3857\u001b[0m\u001b[0;34m)\u001b[0m\u001b[0;34m.\u001b[0m\u001b[0mplot\u001b[0m\u001b[0;34m(\u001b[0m\u001b[0mfigsize\u001b[0m\u001b[0;34m=\u001b[0m\u001b[0;34m(\u001b[0m\u001b[0;36m10\u001b[0m\u001b[0;34m,\u001b[0m\u001b[0;36m5\u001b[0m\u001b[0;34m)\u001b[0m\u001b[0;34m,\u001b[0m\u001b[0malpha\u001b[0m \u001b[0;34m=\u001b[0m \u001b[0;36m0.5\u001b[0m\u001b[0;34m,\u001b[0m \u001b[0mcolor\u001b[0m\u001b[0;34m=\u001b[0m\u001b[0;34m'#FF55FF'\u001b[0m\u001b[0;34m)\u001b[0m\u001b[0;34m\u001b[0m\u001b[0;34m\u001b[0m\u001b[0m\n\u001b[0;32m----> 3\u001b[0;31m \u001b[0mctx\u001b[0m\u001b[0;34m.\u001b[0m\u001b[0madd_basemap\u001b[0m\u001b[0;34m(\u001b[0m\u001b[0max\u001b[0m\u001b[0;34m)\u001b[0m\u001b[0;34m\u001b[0m\u001b[0;34m\u001b[0m\u001b[0m\n\u001b[0m\u001b[1;32m      4\u001b[0m \u001b[0max\u001b[0m\u001b[0;34m.\u001b[0m\u001b[0mset_axis_off\u001b[0m\u001b[0;34m(\u001b[0m\u001b[0;34m)\u001b[0m \u001b[0;31m# remove the x-y axes\u001b[0m\u001b[0;34m\u001b[0m\u001b[0;34m\u001b[0m\u001b[0m\n",
      "\u001b[0;32m/opt/conda/lib/python3.7/site-packages/contextily/plotting.py\u001b[0m in \u001b[0;36madd_basemap\u001b[0;34m(ax, zoom, source, interpolation, attribution, attribution_size, reset_extent, crs, resampling, url, **extra_imshow_args)\u001b[0m\n\u001b[1;32m    142\u001b[0m         \u001b[0;31m# Download image\u001b[0m\u001b[0;34m\u001b[0m\u001b[0;34m\u001b[0m\u001b[0;34m\u001b[0m\u001b[0m\n\u001b[1;32m    143\u001b[0m         image, extent = bounds2img(\n\u001b[0;32m--> 144\u001b[0;31m             \u001b[0mleft\u001b[0m\u001b[0;34m,\u001b[0m \u001b[0mbottom\u001b[0m\u001b[0;34m,\u001b[0m \u001b[0mright\u001b[0m\u001b[0;34m,\u001b[0m \u001b[0mtop\u001b[0m\u001b[0;34m,\u001b[0m \u001b[0mzoom\u001b[0m\u001b[0;34m=\u001b[0m\u001b[0mzoom\u001b[0m\u001b[0;34m,\u001b[0m \u001b[0msource\u001b[0m\u001b[0;34m=\u001b[0m\u001b[0msource\u001b[0m\u001b[0;34m,\u001b[0m \u001b[0mll\u001b[0m\u001b[0;34m=\u001b[0m\u001b[0;32mFalse\u001b[0m\u001b[0;34m\u001b[0m\u001b[0;34m\u001b[0m\u001b[0m\n\u001b[0m\u001b[1;32m    145\u001b[0m         )\n\u001b[1;32m    146\u001b[0m         \u001b[0;31m# Warping\u001b[0m\u001b[0;34m\u001b[0m\u001b[0;34m\u001b[0m\u001b[0;34m\u001b[0m\u001b[0m\n",
      "\u001b[0;32m/opt/conda/lib/python3.7/site-packages/contextily/tile.py\u001b[0m in \u001b[0;36mbounds2img\u001b[0;34m(w, s, e, n, zoom, source, ll, wait, max_retries, url)\u001b[0m\n\u001b[1;32m    246\u001b[0m         \u001b[0mx\u001b[0m\u001b[0;34m,\u001b[0m \u001b[0my\u001b[0m\u001b[0;34m,\u001b[0m \u001b[0mz\u001b[0m \u001b[0;34m=\u001b[0m \u001b[0mt\u001b[0m\u001b[0;34m.\u001b[0m\u001b[0mx\u001b[0m\u001b[0;34m,\u001b[0m \u001b[0mt\u001b[0m\u001b[0;34m.\u001b[0m\u001b[0my\u001b[0m\u001b[0;34m,\u001b[0m \u001b[0mt\u001b[0m\u001b[0;34m.\u001b[0m\u001b[0mz\u001b[0m\u001b[0;34m\u001b[0m\u001b[0;34m\u001b[0m\u001b[0m\n\u001b[1;32m    247\u001b[0m         \u001b[0mtile_url\u001b[0m \u001b[0;34m=\u001b[0m \u001b[0m_construct_tile_url\u001b[0m\u001b[0;34m(\u001b[0m\u001b[0mprovider\u001b[0m\u001b[0;34m,\u001b[0m \u001b[0mx\u001b[0m\u001b[0;34m,\u001b[0m \u001b[0my\u001b[0m\u001b[0;34m,\u001b[0m \u001b[0mz\u001b[0m\u001b[0;34m)\u001b[0m\u001b[0;34m\u001b[0m\u001b[0;34m\u001b[0m\u001b[0m\n\u001b[0;32m--> 248\u001b[0;31m         \u001b[0mimage\u001b[0m \u001b[0;34m=\u001b[0m \u001b[0m_fetch_tile\u001b[0m\u001b[0;34m(\u001b[0m\u001b[0mtile_url\u001b[0m\u001b[0;34m,\u001b[0m \u001b[0mwait\u001b[0m\u001b[0;34m,\u001b[0m \u001b[0mmax_retries\u001b[0m\u001b[0;34m)\u001b[0m\u001b[0;34m\u001b[0m\u001b[0;34m\u001b[0m\u001b[0m\n\u001b[0m\u001b[1;32m    249\u001b[0m         \u001b[0mtiles\u001b[0m\u001b[0;34m.\u001b[0m\u001b[0mappend\u001b[0m\u001b[0;34m(\u001b[0m\u001b[0mt\u001b[0m\u001b[0;34m)\u001b[0m\u001b[0;34m\u001b[0m\u001b[0;34m\u001b[0m\u001b[0m\n\u001b[1;32m    250\u001b[0m         \u001b[0marrays\u001b[0m\u001b[0;34m.\u001b[0m\u001b[0mappend\u001b[0m\u001b[0;34m(\u001b[0m\u001b[0mimage\u001b[0m\u001b[0;34m)\u001b[0m\u001b[0;34m\u001b[0m\u001b[0;34m\u001b[0m\u001b[0m\n",
      "\u001b[0;32m/opt/conda/lib/python3.7/site-packages/joblib/memory.py\u001b[0m in \u001b[0;36m__call__\u001b[0;34m(self, *args, **kwargs)\u001b[0m\n\u001b[1;32m    563\u001b[0m \u001b[0;34m\u001b[0m\u001b[0m\n\u001b[1;32m    564\u001b[0m     \u001b[0;32mdef\u001b[0m \u001b[0m__call__\u001b[0m\u001b[0;34m(\u001b[0m\u001b[0mself\u001b[0m\u001b[0;34m,\u001b[0m \u001b[0;34m*\u001b[0m\u001b[0margs\u001b[0m\u001b[0;34m,\u001b[0m \u001b[0;34m**\u001b[0m\u001b[0mkwargs\u001b[0m\u001b[0;34m)\u001b[0m\u001b[0;34m:\u001b[0m\u001b[0;34m\u001b[0m\u001b[0;34m\u001b[0m\u001b[0m\n\u001b[0;32m--> 565\u001b[0;31m         \u001b[0;32mreturn\u001b[0m \u001b[0mself\u001b[0m\u001b[0;34m.\u001b[0m\u001b[0m_cached_call\u001b[0m\u001b[0;34m(\u001b[0m\u001b[0margs\u001b[0m\u001b[0;34m,\u001b[0m \u001b[0mkwargs\u001b[0m\u001b[0;34m)\u001b[0m\u001b[0;34m[\u001b[0m\u001b[0;36m0\u001b[0m\u001b[0;34m]\u001b[0m\u001b[0;34m\u001b[0m\u001b[0;34m\u001b[0m\u001b[0m\n\u001b[0m\u001b[1;32m    566\u001b[0m \u001b[0;34m\u001b[0m\u001b[0m\n\u001b[1;32m    567\u001b[0m     \u001b[0;32mdef\u001b[0m \u001b[0m__getstate__\u001b[0m\u001b[0;34m(\u001b[0m\u001b[0mself\u001b[0m\u001b[0;34m)\u001b[0m\u001b[0;34m:\u001b[0m\u001b[0;34m\u001b[0m\u001b[0;34m\u001b[0m\u001b[0m\n",
      "\u001b[0;32m/opt/conda/lib/python3.7/site-packages/joblib/memory.py\u001b[0m in \u001b[0;36m_cached_call\u001b[0;34m(self, args, kwargs, shelving)\u001b[0m\n\u001b[1;32m    529\u001b[0m \u001b[0;34m\u001b[0m\u001b[0m\n\u001b[1;32m    530\u001b[0m         \u001b[0;32mif\u001b[0m \u001b[0mmust_call\u001b[0m\u001b[0;34m:\u001b[0m\u001b[0;34m\u001b[0m\u001b[0;34m\u001b[0m\u001b[0m\n\u001b[0;32m--> 531\u001b[0;31m             \u001b[0mout\u001b[0m\u001b[0;34m,\u001b[0m \u001b[0mmetadata\u001b[0m \u001b[0;34m=\u001b[0m \u001b[0mself\u001b[0m\u001b[0;34m.\u001b[0m\u001b[0mcall\u001b[0m\u001b[0;34m(\u001b[0m\u001b[0;34m*\u001b[0m\u001b[0margs\u001b[0m\u001b[0;34m,\u001b[0m \u001b[0;34m**\u001b[0m\u001b[0mkwargs\u001b[0m\u001b[0;34m)\u001b[0m\u001b[0;34m\u001b[0m\u001b[0;34m\u001b[0m\u001b[0m\n\u001b[0m\u001b[1;32m    532\u001b[0m             \u001b[0;32mif\u001b[0m \u001b[0mself\u001b[0m\u001b[0;34m.\u001b[0m\u001b[0mmmap_mode\u001b[0m \u001b[0;32mis\u001b[0m \u001b[0;32mnot\u001b[0m \u001b[0;32mNone\u001b[0m\u001b[0;34m:\u001b[0m\u001b[0;34m\u001b[0m\u001b[0;34m\u001b[0m\u001b[0m\n\u001b[1;32m    533\u001b[0m                 \u001b[0;31m# Memmap the output at the first call to be consistent with\u001b[0m\u001b[0;34m\u001b[0m\u001b[0;34m\u001b[0m\u001b[0;34m\u001b[0m\u001b[0m\n",
      "\u001b[0;32m/opt/conda/lib/python3.7/site-packages/joblib/memory.py\u001b[0m in \u001b[0;36mcall\u001b[0;34m(self, *args, **kwargs)\u001b[0m\n\u001b[1;32m    725\u001b[0m         \u001b[0;32mif\u001b[0m \u001b[0mself\u001b[0m\u001b[0;34m.\u001b[0m\u001b[0m_verbose\u001b[0m \u001b[0;34m>\u001b[0m \u001b[0;36m0\u001b[0m\u001b[0;34m:\u001b[0m\u001b[0;34m\u001b[0m\u001b[0;34m\u001b[0m\u001b[0m\n\u001b[1;32m    726\u001b[0m             \u001b[0mprint\u001b[0m\u001b[0;34m(\u001b[0m\u001b[0mformat_call\u001b[0m\u001b[0;34m(\u001b[0m\u001b[0mself\u001b[0m\u001b[0;34m.\u001b[0m\u001b[0mfunc\u001b[0m\u001b[0;34m,\u001b[0m \u001b[0margs\u001b[0m\u001b[0;34m,\u001b[0m \u001b[0mkwargs\u001b[0m\u001b[0;34m)\u001b[0m\u001b[0;34m)\u001b[0m\u001b[0;34m\u001b[0m\u001b[0;34m\u001b[0m\u001b[0m\n\u001b[0;32m--> 727\u001b[0;31m         \u001b[0moutput\u001b[0m \u001b[0;34m=\u001b[0m \u001b[0mself\u001b[0m\u001b[0;34m.\u001b[0m\u001b[0mfunc\u001b[0m\u001b[0;34m(\u001b[0m\u001b[0;34m*\u001b[0m\u001b[0margs\u001b[0m\u001b[0;34m,\u001b[0m \u001b[0;34m**\u001b[0m\u001b[0mkwargs\u001b[0m\u001b[0;34m)\u001b[0m\u001b[0;34m\u001b[0m\u001b[0;34m\u001b[0m\u001b[0m\n\u001b[0m\u001b[1;32m    728\u001b[0m         self.store_backend.dump_item(\n\u001b[1;32m    729\u001b[0m             [func_id, args_id], output, verbose=self._verbose)\n",
      "\u001b[0;32m/opt/conda/lib/python3.7/site-packages/contextily/tile.py\u001b[0m in \u001b[0;36m_fetch_tile\u001b[0;34m(tile_url, wait, max_retries)\u001b[0m\n\u001b[1;32m    301\u001b[0m \u001b[0;34m@\u001b[0m\u001b[0mmemory\u001b[0m\u001b[0;34m.\u001b[0m\u001b[0mcache\u001b[0m\u001b[0;34m\u001b[0m\u001b[0;34m\u001b[0m\u001b[0m\n\u001b[1;32m    302\u001b[0m \u001b[0;32mdef\u001b[0m \u001b[0m_fetch_tile\u001b[0m\u001b[0;34m(\u001b[0m\u001b[0mtile_url\u001b[0m\u001b[0;34m,\u001b[0m \u001b[0mwait\u001b[0m\u001b[0;34m,\u001b[0m \u001b[0mmax_retries\u001b[0m\u001b[0;34m)\u001b[0m\u001b[0;34m:\u001b[0m\u001b[0;34m\u001b[0m\u001b[0;34m\u001b[0m\u001b[0m\n\u001b[0;32m--> 303\u001b[0;31m     \u001b[0mrequest\u001b[0m \u001b[0;34m=\u001b[0m \u001b[0m_retryer\u001b[0m\u001b[0;34m(\u001b[0m\u001b[0mtile_url\u001b[0m\u001b[0;34m,\u001b[0m \u001b[0mwait\u001b[0m\u001b[0;34m,\u001b[0m \u001b[0mmax_retries\u001b[0m\u001b[0;34m)\u001b[0m\u001b[0;34m\u001b[0m\u001b[0;34m\u001b[0m\u001b[0m\n\u001b[0m\u001b[1;32m    304\u001b[0m     \u001b[0;32mwith\u001b[0m \u001b[0mio\u001b[0m\u001b[0;34m.\u001b[0m\u001b[0mBytesIO\u001b[0m\u001b[0;34m(\u001b[0m\u001b[0mrequest\u001b[0m\u001b[0;34m.\u001b[0m\u001b[0mcontent\u001b[0m\u001b[0;34m)\u001b[0m \u001b[0;32mas\u001b[0m \u001b[0mimage_stream\u001b[0m\u001b[0;34m:\u001b[0m\u001b[0;34m\u001b[0m\u001b[0;34m\u001b[0m\u001b[0m\n\u001b[1;32m    305\u001b[0m         \u001b[0mimage\u001b[0m \u001b[0;34m=\u001b[0m \u001b[0mImage\u001b[0m\u001b[0;34m.\u001b[0m\u001b[0mopen\u001b[0m\u001b[0;34m(\u001b[0m\u001b[0mimage_stream\u001b[0m\u001b[0;34m)\u001b[0m\u001b[0;34m.\u001b[0m\u001b[0mconvert\u001b[0m\u001b[0;34m(\u001b[0m\u001b[0;34m\"RGB\"\u001b[0m\u001b[0;34m)\u001b[0m\u001b[0;34m\u001b[0m\u001b[0;34m\u001b[0m\u001b[0m\n",
      "\u001b[0;32m/opt/conda/lib/python3.7/site-packages/contextily/tile.py\u001b[0m in \u001b[0;36m_retryer\u001b[0;34m(tile_url, wait, max_retries)\u001b[0m\n\u001b[1;32m    447\u001b[0m             raise requests.HTTPError(\n\u001b[1;32m    448\u001b[0m                 \u001b[0;34m\"Tile URL resulted in a 404 error. \"\u001b[0m\u001b[0;34m\u001b[0m\u001b[0;34m\u001b[0m\u001b[0m\n\u001b[0;32m--> 449\u001b[0;31m                 \u001b[0;34m\"Double-check your tile url:\\n{}\"\u001b[0m\u001b[0;34m.\u001b[0m\u001b[0mformat\u001b[0m\u001b[0;34m(\u001b[0m\u001b[0mtile_url\u001b[0m\u001b[0;34m)\u001b[0m\u001b[0;34m\u001b[0m\u001b[0;34m\u001b[0m\u001b[0m\n\u001b[0m\u001b[1;32m    450\u001b[0m             )\n\u001b[1;32m    451\u001b[0m         \u001b[0;32melif\u001b[0m \u001b[0mrequest\u001b[0m\u001b[0;34m.\u001b[0m\u001b[0mstatus_code\u001b[0m \u001b[0;34m==\u001b[0m \u001b[0;36m104\u001b[0m\u001b[0;34m:\u001b[0m\u001b[0;34m\u001b[0m\u001b[0;34m\u001b[0m\u001b[0m\n",
      "\u001b[0;31mHTTPError\u001b[0m: Tile URL resulted in a 404 error. Double-check your tile url:\nhttps://stamen-tiles-a.a.ssl.fastly.net/terrain/18/74674/100406.png"
     ]
    },
    {
     "data": {
      "image/png": "[encoded data removed]",
      "text/plain": [
       "<Figure size 720x360 with 1 Axes>"
      ]
     },
     "metadata": {
      "needs_background": "light"
     },
     "output_type": "display_data"
    }
   ],
   "source": [
    "# Let's plot it\n",
    "ax = op.to_crs(epsg=3857).plot(figsize=(10,5),alpha = 0.5, color='#FF55FF')\n",
    "ctx.add_basemap(ax)\n",
    "ax.set_axis_off() # remove the x-y axes"
   ]
  },
  {
   "cell_type": "markdown",
   "metadata": {
    "colab_type": "text",
    "id": "MCNXf-5K2DDx"
   },
   "source": [
    "# Exercise\n",
    "Find an interesting GIS dataset and:\n",
    "- visualize some raw data\n",
    "- ask an interesting analysis question about it:\n",
    "  - intersections, sizes, quantities\n",
    "  - relationships\n",
    "  - e.g. which latitudes contain the most endangered species? what countries have the most ports per km of coastline?\n",
    "- Visualize some of your analysis\n",
    "\n",
    "As per usual, we'll ask a few volunteers to present their results.\n",
    "\n",
    "Here are some resources to look for GIS datasets:\n",
    "- Cambridge, MA GIS data: http://cambridgegis.github.io/gisdata.html\n",
    "- Free GIS data: https://freegisdata.rtwilson.com/\n",
    "- Data.gov: https://www.data.gov/"
   ]
  },
  {
   "cell_type": "code",
   "execution_count": 180,
   "metadata": {
    "colab": {},
    "colab_type": "code",
    "id": "RhKrcnw27-p8"
   },
   "outputs": [
    {
     "data": {
      "text/plain": [
       "<matplotlib.axes._subplots.AxesSubplot at 0x7fd8ec21e7d0>"
      ]
     },
     "execution_count": 180,
     "metadata": {},
     "output_type": "execute_result"
    },
    {
     "data": {
      "image/png": "[encoded data removed]",
      "text/plain": [
       "<Figure size 432x288 with 1 Axes>"
      ]
     },
     "metadata": {
      "needs_background": "light"
     },
     "output_type": "display_data"
    }
   ],
   "source": [
    "# path to shapefile\n",
    "filepath = \"Data/DAMSELFISH_distributions.shp\"\n",
    "\n",
    "# Read file using gpd.read_file()\n",
    "data = gpd.read_file(filepath)\n",
    "data.plot()"
   ]
  },
  {
   "cell_type": "code",
   "execution_count": 183,
   "metadata": {},
   "outputs": [
    {
     "data": {
      "image/png": "[encoded data removed]",
      "text/plain": [
       "<Figure size 720x360 with 1 Axes>"
      ]
     },
     "metadata": {
      "needs_background": "light"
     },
     "output_type": "display_data"
    }
   ],
   "source": [
    "ax = data.plot(figsize=(10,5), alpha=0.6, cmap='Set2', column='CATEGORY', legend=True)"
   ]
  },
  {
   "cell_type": "code",
   "execution_count": 191,
   "metadata": {},
   "outputs": [
    {
     "data": {
      "text/html": [
       "<div>\n",
       "<style scoped>\n",
       "    .dataframe tbody tr th:only-of-type {\n",
       "        vertical-align: middle;\n",
       "    }\n",
       "\n",
       "    .dataframe tbody tr th {\n",
       "        vertical-align: top;\n",
       "    }\n",
       "\n",
       "    .dataframe thead th {\n",
       "        text-align: right;\n",
       "    }\n",
       "</style>\n",
       "<table border=\"1\" class=\"dataframe\">\n",
       "  <thead>\n",
       "    <tr style=\"text-align: right;\">\n",
       "      <th></th>\n",
       "      <th>ID_NO</th>\n",
       "      <th>BINOMIAL</th>\n",
       "      <th>ORIGIN</th>\n",
       "      <th>COMPILER</th>\n",
       "      <th>YEAR</th>\n",
       "      <th>CITATION</th>\n",
       "      <th>SOURCE</th>\n",
       "      <th>DIST_COMM</th>\n",
       "      <th>ISLAND</th>\n",
       "      <th>SUBSPECIES</th>\n",
       "      <th>...</th>\n",
       "      <th>KINGDOM_NA</th>\n",
       "      <th>PHYLUM_NAM</th>\n",
       "      <th>CLASS_NAME</th>\n",
       "      <th>ORDER_NAME</th>\n",
       "      <th>FAMILY_NAM</th>\n",
       "      <th>GENUS_NAME</th>\n",
       "      <th>SPECIES_NA</th>\n",
       "      <th>CATEGORY</th>\n",
       "      <th>geometry</th>\n",
       "      <th>area</th>\n",
       "    </tr>\n",
       "  </thead>\n",
       "  <tbody>\n",
       "    <tr>\n",
       "      <th>0</th>\n",
       "      <td>183963.0</td>\n",
       "      <td>Stegastes leucorus</td>\n",
       "      <td>1</td>\n",
       "      <td>IUCN</td>\n",
       "      <td>2010</td>\n",
       "      <td>International Union for Conservation of Nature...</td>\n",
       "      <td>None</td>\n",
       "      <td>None</td>\n",
       "      <td>None</td>\n",
       "      <td>None</td>\n",
       "      <td>...</td>\n",
       "      <td>ANIMALIA</td>\n",
       "      <td>CHORDATA</td>\n",
       "      <td>ACTINOPTERYGII</td>\n",
       "      <td>PERCIFORMES</td>\n",
       "      <td>POMACENTRIDAE</td>\n",
       "      <td>Stegastes</td>\n",
       "      <td>leucorus</td>\n",
       "      <td>VU</td>\n",
       "      <td>POLYGON ((-12873402.854 3466829.752, -12870297...</td>\n",
       "      <td>19.396254</td>\n",
       "    </tr>\n",
       "    <tr>\n",
       "      <th>1</th>\n",
       "      <td>183963.0</td>\n",
       "      <td>Stegastes leucorus</td>\n",
       "      <td>1</td>\n",
       "      <td>IUCN</td>\n",
       "      <td>2010</td>\n",
       "      <td>International Union for Conservation of Nature...</td>\n",
       "      <td>None</td>\n",
       "      <td>None</td>\n",
       "      <td>None</td>\n",
       "      <td>None</td>\n",
       "      <td>...</td>\n",
       "      <td>ANIMALIA</td>\n",
       "      <td>CHORDATA</td>\n",
       "      <td>ACTINOPTERYGII</td>\n",
       "      <td>PERCIFORMES</td>\n",
       "      <td>POMACENTRIDAE</td>\n",
       "      <td>Stegastes</td>\n",
       "      <td>leucorus</td>\n",
       "      <td>VU</td>\n",
       "      <td>POLYGON ((-11754219.545 2498731.223, -11751422...</td>\n",
       "      <td>6.145902</td>\n",
       "    </tr>\n",
       "    <tr>\n",
       "      <th>2</th>\n",
       "      <td>183963.0</td>\n",
       "      <td>Stegastes leucorus</td>\n",
       "      <td>1</td>\n",
       "      <td>IUCN</td>\n",
       "      <td>2010</td>\n",
       "      <td>International Union for Conservation of Nature...</td>\n",
       "      <td>None</td>\n",
       "      <td>None</td>\n",
       "      <td>None</td>\n",
       "      <td>None</td>\n",
       "      <td>...</td>\n",
       "      <td>ANIMALIA</td>\n",
       "      <td>CHORDATA</td>\n",
       "      <td>ACTINOPTERYGII</td>\n",
       "      <td>PERCIFORMES</td>\n",
       "      <td>POMACENTRIDAE</td>\n",
       "      <td>Stegastes</td>\n",
       "      <td>leucorus</td>\n",
       "      <td>VU</td>\n",
       "      <td>POLYGON ((-12374232.121 2156743.950, -12374216...</td>\n",
       "      <td>2.697207</td>\n",
       "    </tr>\n",
       "    <tr>\n",
       "      <th>3</th>\n",
       "      <td>183793.0</td>\n",
       "      <td>Chromis intercrusma</td>\n",
       "      <td>1</td>\n",
       "      <td>IUCN</td>\n",
       "      <td>2010</td>\n",
       "      <td>International Union for Conservation of Nature...</td>\n",
       "      <td>None</td>\n",
       "      <td>None</td>\n",
       "      <td>None</td>\n",
       "      <td>None</td>\n",
       "      <td>...</td>\n",
       "      <td>ANIMALIA</td>\n",
       "      <td>CHORDATA</td>\n",
       "      <td>ACTINOPTERYGII</td>\n",
       "      <td>PERCIFORMES</td>\n",
       "      <td>POMACENTRIDAE</td>\n",
       "      <td>Chromis</td>\n",
       "      <td>intercrusma</td>\n",
       "      <td>LC</td>\n",
       "      <td>POLYGON ((-9001850.879 -86714.423, -8990083.61...</td>\n",
       "      <td>87.460621</td>\n",
       "    </tr>\n",
       "    <tr>\n",
       "      <th>4</th>\n",
       "      <td>183793.0</td>\n",
       "      <td>Chromis intercrusma</td>\n",
       "      <td>1</td>\n",
       "      <td>IUCN</td>\n",
       "      <td>2010</td>\n",
       "      <td>International Union for Conservation of Nature...</td>\n",
       "      <td>None</td>\n",
       "      <td>None</td>\n",
       "      <td>None</td>\n",
       "      <td>None</td>\n",
       "      <td>...</td>\n",
       "      <td>ANIMALIA</td>\n",
       "      <td>CHORDATA</td>\n",
       "      <td>ACTINOPTERYGII</td>\n",
       "      <td>PERCIFORMES</td>\n",
       "      <td>POMACENTRIDAE</td>\n",
       "      <td>Chromis</td>\n",
       "      <td>intercrusma</td>\n",
       "      <td>LC</td>\n",
       "      <td>POLYGON ((-7496167.932 -7494205.268, -7495982....</td>\n",
       "      <td>0.000918</td>\n",
       "    </tr>\n",
       "    <tr>\n",
       "      <th>...</th>\n",
       "      <td>...</td>\n",
       "      <td>...</td>\n",
       "      <td>...</td>\n",
       "      <td>...</td>\n",
       "      <td>...</td>\n",
       "      <td>...</td>\n",
       "      <td>...</td>\n",
       "      <td>...</td>\n",
       "      <td>...</td>\n",
       "      <td>...</td>\n",
       "      <td>...</td>\n",
       "      <td>...</td>\n",
       "      <td>...</td>\n",
       "      <td>...</td>\n",
       "      <td>...</td>\n",
       "      <td>...</td>\n",
       "      <td>...</td>\n",
       "      <td>...</td>\n",
       "      <td>...</td>\n",
       "      <td>...</td>\n",
       "      <td>...</td>\n",
       "    </tr>\n",
       "    <tr>\n",
       "      <th>226</th>\n",
       "      <td>183774.0</td>\n",
       "      <td>Azurina hirundo</td>\n",
       "      <td>1</td>\n",
       "      <td>IUCN</td>\n",
       "      <td>2010</td>\n",
       "      <td>International Union for Conservation of Nature...</td>\n",
       "      <td>None</td>\n",
       "      <td>None</td>\n",
       "      <td>None</td>\n",
       "      <td>None</td>\n",
       "      <td>...</td>\n",
       "      <td>ANIMALIA</td>\n",
       "      <td>CHORDATA</td>\n",
       "      <td>ACTINOPTERYGII</td>\n",
       "      <td>PERCIFORMES</td>\n",
       "      <td>POMACENTRIDAE</td>\n",
       "      <td>Azurina</td>\n",
       "      <td>hirundo</td>\n",
       "      <td>NT</td>\n",
       "      <td>POLYGON ((-13371506.447 4092469.862, -13370029...</td>\n",
       "      <td>5.990467</td>\n",
       "    </tr>\n",
       "    <tr>\n",
       "      <th>227</th>\n",
       "      <td>183774.0</td>\n",
       "      <td>Azurina hirundo</td>\n",
       "      <td>1</td>\n",
       "      <td>IUCN</td>\n",
       "      <td>2010</td>\n",
       "      <td>International Union for Conservation of Nature...</td>\n",
       "      <td>None</td>\n",
       "      <td>None</td>\n",
       "      <td>None</td>\n",
       "      <td>None</td>\n",
       "      <td>...</td>\n",
       "      <td>ANIMALIA</td>\n",
       "      <td>CHORDATA</td>\n",
       "      <td>ACTINOPTERYGII</td>\n",
       "      <td>PERCIFORMES</td>\n",
       "      <td>POMACENTRIDAE</td>\n",
       "      <td>Azurina</td>\n",
       "      <td>hirundo</td>\n",
       "      <td>NT</td>\n",
       "      <td>POLYGON ((-13070425.753 3399625.971, -13069908...</td>\n",
       "      <td>3.638651</td>\n",
       "    </tr>\n",
       "    <tr>\n",
       "      <th>228</th>\n",
       "      <td>183774.0</td>\n",
       "      <td>Azurina hirundo</td>\n",
       "      <td>1</td>\n",
       "      <td>IUCN</td>\n",
       "      <td>2010</td>\n",
       "      <td>International Union for Conservation of Nature...</td>\n",
       "      <td>None</td>\n",
       "      <td>None</td>\n",
       "      <td>None</td>\n",
       "      <td>None</td>\n",
       "      <td>...</td>\n",
       "      <td>ANIMALIA</td>\n",
       "      <td>CHORDATA</td>\n",
       "      <td>ACTINOPTERYGII</td>\n",
       "      <td>PERCIFORMES</td>\n",
       "      <td>POMACENTRIDAE</td>\n",
       "      <td>Azurina</td>\n",
       "      <td>hirundo</td>\n",
       "      <td>NT</td>\n",
       "      <td>POLYGON ((-12761486.943 3298243.563, -12761288...</td>\n",
       "      <td>2.849025</td>\n",
       "    </tr>\n",
       "    <tr>\n",
       "      <th>229</th>\n",
       "      <td>183774.0</td>\n",
       "      <td>Azurina hirundo</td>\n",
       "      <td>1</td>\n",
       "      <td>IUCN</td>\n",
       "      <td>2010</td>\n",
       "      <td>International Union for Conservation of Nature...</td>\n",
       "      <td>None</td>\n",
       "      <td>None</td>\n",
       "      <td>None</td>\n",
       "      <td>None</td>\n",
       "      <td>...</td>\n",
       "      <td>ANIMALIA</td>\n",
       "      <td>CHORDATA</td>\n",
       "      <td>ACTINOPTERYGII</td>\n",
       "      <td>PERCIFORMES</td>\n",
       "      <td>POMACENTRIDAE</td>\n",
       "      <td>Azurina</td>\n",
       "      <td>hirundo</td>\n",
       "      <td>NT</td>\n",
       "      <td>POLYGON ((-12374232.121 2156743.950, -12374216...</td>\n",
       "      <td>2.697207</td>\n",
       "    </tr>\n",
       "    <tr>\n",
       "      <th>230</th>\n",
       "      <td>183774.0</td>\n",
       "      <td>Azurina hirundo</td>\n",
       "      <td>1</td>\n",
       "      <td>IUCN</td>\n",
       "      <td>2010</td>\n",
       "      <td>International Union for Conservation of Nature...</td>\n",
       "      <td>None</td>\n",
       "      <td>None</td>\n",
       "      <td>None</td>\n",
       "      <td>None</td>\n",
       "      <td>...</td>\n",
       "      <td>ANIMALIA</td>\n",
       "      <td>CHORDATA</td>\n",
       "      <td>ACTINOPTERYGII</td>\n",
       "      <td>PERCIFORMES</td>\n",
       "      <td>POMACENTRIDAE</td>\n",
       "      <td>Azurina</td>\n",
       "      <td>hirundo</td>\n",
       "      <td>NT</td>\n",
       "      <td>POLYGON ((-12717615.384 2597148.051, -12718049...</td>\n",
       "      <td>2.237186</td>\n",
       "    </tr>\n",
       "  </tbody>\n",
       "</table>\n",
       "<p>231 rows × 25 columns</p>\n",
       "</div>"
      ],
      "text/plain": [
       "        ID_NO             BINOMIAL  ORIGIN COMPILER  YEAR  \\\n",
       "0    183963.0   Stegastes leucorus       1     IUCN  2010   \n",
       "1    183963.0   Stegastes leucorus       1     IUCN  2010   \n",
       "2    183963.0   Stegastes leucorus       1     IUCN  2010   \n",
       "3    183793.0  Chromis intercrusma       1     IUCN  2010   \n",
       "4    183793.0  Chromis intercrusma       1     IUCN  2010   \n",
       "..        ...                  ...     ...      ...   ...   \n",
       "226  183774.0      Azurina hirundo       1     IUCN  2010   \n",
       "227  183774.0      Azurina hirundo       1     IUCN  2010   \n",
       "228  183774.0      Azurina hirundo       1     IUCN  2010   \n",
       "229  183774.0      Azurina hirundo       1     IUCN  2010   \n",
       "230  183774.0      Azurina hirundo       1     IUCN  2010   \n",
       "\n",
       "                                              CITATION SOURCE DIST_COMM  \\\n",
       "0    International Union for Conservation of Nature...   None      None   \n",
       "1    International Union for Conservation of Nature...   None      None   \n",
       "2    International Union for Conservation of Nature...   None      None   \n",
       "3    International Union for Conservation of Nature...   None      None   \n",
       "4    International Union for Conservation of Nature...   None      None   \n",
       "..                                                 ...    ...       ...   \n",
       "226  International Union for Conservation of Nature...   None      None   \n",
       "227  International Union for Conservation of Nature...   None      None   \n",
       "228  International Union for Conservation of Nature...   None      None   \n",
       "229  International Union for Conservation of Nature...   None      None   \n",
       "230  International Union for Conservation of Nature...   None      None   \n",
       "\n",
       "    ISLAND SUBSPECIES  ... KINGDOM_NA PHYLUM_NAM      CLASS_NAME   ORDER_NAME  \\\n",
       "0     None       None  ...   ANIMALIA   CHORDATA  ACTINOPTERYGII  PERCIFORMES   \n",
       "1     None       None  ...   ANIMALIA   CHORDATA  ACTINOPTERYGII  PERCIFORMES   \n",
       "2     None       None  ...   ANIMALIA   CHORDATA  ACTINOPTERYGII  PERCIFORMES   \n",
       "3     None       None  ...   ANIMALIA   CHORDATA  ACTINOPTERYGII  PERCIFORMES   \n",
       "4     None       None  ...   ANIMALIA   CHORDATA  ACTINOPTERYGII  PERCIFORMES   \n",
       "..     ...        ...  ...        ...        ...             ...          ...   \n",
       "226   None       None  ...   ANIMALIA   CHORDATA  ACTINOPTERYGII  PERCIFORMES   \n",
       "227   None       None  ...   ANIMALIA   CHORDATA  ACTINOPTERYGII  PERCIFORMES   \n",
       "228   None       None  ...   ANIMALIA   CHORDATA  ACTINOPTERYGII  PERCIFORMES   \n",
       "229   None       None  ...   ANIMALIA   CHORDATA  ACTINOPTERYGII  PERCIFORMES   \n",
       "230   None       None  ...   ANIMALIA   CHORDATA  ACTINOPTERYGII  PERCIFORMES   \n",
       "\n",
       "        FAMILY_NAM GENUS_NAME   SPECIES_NA CATEGORY  \\\n",
       "0    POMACENTRIDAE  Stegastes     leucorus       VU   \n",
       "1    POMACENTRIDAE  Stegastes     leucorus       VU   \n",
       "2    POMACENTRIDAE  Stegastes     leucorus       VU   \n",
       "3    POMACENTRIDAE    Chromis  intercrusma       LC   \n",
       "4    POMACENTRIDAE    Chromis  intercrusma       LC   \n",
       "..             ...        ...          ...      ...   \n",
       "226  POMACENTRIDAE    Azurina      hirundo       NT   \n",
       "227  POMACENTRIDAE    Azurina      hirundo       NT   \n",
       "228  POMACENTRIDAE    Azurina      hirundo       NT   \n",
       "229  POMACENTRIDAE    Azurina      hirundo       NT   \n",
       "230  POMACENTRIDAE    Azurina      hirundo       NT   \n",
       "\n",
       "                                              geometry       area  \n",
       "0    POLYGON ((-12873402.854 3466829.752, -12870297...  19.396254  \n",
       "1    POLYGON ((-11754219.545 2498731.223, -11751422...   6.145902  \n",
       "2    POLYGON ((-12374232.121 2156743.950, -12374216...   2.697207  \n",
       "3    POLYGON ((-9001850.879 -86714.423, -8990083.61...  87.460621  \n",
       "4    POLYGON ((-7496167.932 -7494205.268, -7495982....   0.000918  \n",
       "..                                                 ...        ...  \n",
       "226  POLYGON ((-13371506.447 4092469.862, -13370029...   5.990467  \n",
       "227  POLYGON ((-13070425.753 3399625.971, -13069908...   3.638651  \n",
       "228  POLYGON ((-12761486.943 3298243.563, -12761288...   2.849025  \n",
       "229  POLYGON ((-12374232.121 2156743.950, -12374216...   2.697207  \n",
       "230  POLYGON ((-12717615.384 2597148.051, -12718049...   2.237186  \n",
       "\n",
       "[231 rows x 25 columns]"
      ]
     },
     "execution_count": 191,
     "metadata": {},
     "output_type": "execute_result"
    }
   ],
   "source": [
    "data.to_crs(epsg=3857)"
   ]
  },
  {
   "cell_type": "code",
   "execution_count": 204,
   "metadata": {},
   "outputs": [
    {
     "name": "stderr",
     "output_type": "stream",
     "text": [
      "/opt/conda/lib/python3.7/site-packages/ipykernel_launcher.py:1: UserWarning: Geometry is in a geographic CRS. Results from 'area' are likely incorrect. Use 'GeoSeries.to_crs()' to re-project geometries to a projected CRS before this operation.\n",
      "\n",
      "  \"\"\"Entry point for launching an IPython kernel.\n"
     ]
    },
    {
     "ename": "KeyError",
     "evalue": "False",
     "output_type": "error",
     "traceback": [
      "\u001b[0;31m---------------------------------------------------------------------------\u001b[0m",
      "\u001b[0;31mKeyError\u001b[0m                                  Traceback (most recent call last)",
      "\u001b[0;32m/opt/conda/lib/python3.7/site-packages/pandas/core/indexes/base.py\u001b[0m in \u001b[0;36mget_loc\u001b[0;34m(self, key, method, tolerance)\u001b[0m\n\u001b[1;32m   2645\u001b[0m             \u001b[0;32mtry\u001b[0m\u001b[0;34m:\u001b[0m\u001b[0;34m\u001b[0m\u001b[0;34m\u001b[0m\u001b[0m\n\u001b[0;32m-> 2646\u001b[0;31m                 \u001b[0;32mreturn\u001b[0m \u001b[0mself\u001b[0m\u001b[0;34m.\u001b[0m\u001b[0m_engine\u001b[0m\u001b[0;34m.\u001b[0m\u001b[0mget_loc\u001b[0m\u001b[0;34m(\u001b[0m\u001b[0mkey\u001b[0m\u001b[0;34m)\u001b[0m\u001b[0;34m\u001b[0m\u001b[0;34m\u001b[0m\u001b[0m\n\u001b[0m\u001b[1;32m   2647\u001b[0m             \u001b[0;32mexcept\u001b[0m \u001b[0mKeyError\u001b[0m\u001b[0;34m:\u001b[0m\u001b[0;34m\u001b[0m\u001b[0;34m\u001b[0m\u001b[0m\n",
      "\u001b[0;32mpandas/_libs/index.pyx\u001b[0m in \u001b[0;36mpandas._libs.index.IndexEngine.get_loc\u001b[0;34m()\u001b[0m\n",
      "\u001b[0;32mpandas/_libs/index.pyx\u001b[0m in \u001b[0;36mpandas._libs.index.IndexEngine.get_loc\u001b[0;34m()\u001b[0m\n",
      "\u001b[0;32mpandas/_libs/hashtable_class_helper.pxi\u001b[0m in \u001b[0;36mpandas._libs.hashtable.PyObjectHashTable.get_item\u001b[0;34m()\u001b[0m\n",
      "\u001b[0;32mpandas/_libs/hashtable_class_helper.pxi\u001b[0m in \u001b[0;36mpandas._libs.hashtable.PyObjectHashTable.get_item\u001b[0;34m()\u001b[0m\n",
      "\u001b[0;31mKeyError\u001b[0m: False",
      "\nDuring handling of the above exception, another exception occurred:\n",
      "\u001b[0;31mKeyError\u001b[0m                                  Traceback (most recent call last)",
      "\u001b[0;32m<ipython-input-204-923a2e6c1e53>\u001b[0m in \u001b[0;36m<module>\u001b[0;34m\u001b[0m\n\u001b[1;32m     10\u001b[0m                          \u001b[0;31m#'Q3':[up_quart],\u001b[0m\u001b[0;34m\u001b[0m\u001b[0;34m\u001b[0m\u001b[0;34m\u001b[0m\u001b[0m\n\u001b[1;32m     11\u001b[0m                          \u001b[0;31m#'Q1':[lo_quart]})\u001b[0m\u001b[0;34m\u001b[0m\u001b[0;34m\u001b[0m\u001b[0;34m\u001b[0m\u001b[0m\n\u001b[0;32m---> 12\u001b[0;31m \u001b[0mfrac_area\u001b[0m \u001b[0;34m=\u001b[0m \u001b[0;34m(\u001b[0m\u001b[0mlen\u001b[0m\u001b[0;34m(\u001b[0m\u001b[0mdata\u001b[0m\u001b[0;34m.\u001b[0m\u001b[0mloc\u001b[0m\u001b[0;34m[\u001b[0m\u001b[0mdata\u001b[0m\u001b[0;34m[\u001b[0m\u001b[0;34m'Category'\u001b[0m \u001b[0;34m==\u001b[0m \u001b[0;34m'EN'\u001b[0m\u001b[0;34m]\u001b[0m \u001b[0;34m>\u001b[0m \u001b[0;36m5\u001b[0m\u001b[0;34m,\u001b[0m \u001b[0;34m'KINGDOM_NA'\u001b[0m\u001b[0;34m]\u001b[0m\u001b[0;34m)\u001b[0m \u001b[0;34m/\u001b[0m \u001b[0mlen\u001b[0m\u001b[0;34m(\u001b[0m\u001b[0mdata\u001b[0m\u001b[0;34m[\u001b[0m\u001b[0mdata\u001b[0m\u001b[0;34m[\u001b[0m\u001b[0;34m'KINGDOM_NA'\u001b[0m\u001b[0;34m]\u001b[0m\u001b[0;34m]\u001b[0m\u001b[0;34m)\u001b[0m\u001b[0;34m)\u001b[0m \u001b[0;34m*\u001b[0m \u001b[0;36m100\u001b[0m\u001b[0;34m\u001b[0m\u001b[0;34m\u001b[0m\u001b[0m\n\u001b[0m\u001b[1;32m     13\u001b[0m \u001b[0;31m#data.loc[data['Category' == 'EN'] > 5, 'KINGDOM_NA']\u001b[0m\u001b[0;34m\u001b[0m\u001b[0;34m\u001b[0m\u001b[0;34m\u001b[0m\u001b[0m\n\u001b[1;32m     14\u001b[0m \u001b[0mmax_area_all\u001b[0m \u001b[0;34m=\u001b[0m \u001b[0mdata\u001b[0m\u001b[0;34m.\u001b[0m\u001b[0mloc\u001b[0m\u001b[0;34m[\u001b[0m\u001b[0mdata\u001b[0m\u001b[0;34m[\u001b[0m\u001b[0;34m'area'\u001b[0m\u001b[0;34m]\u001b[0m\u001b[0;34m.\u001b[0m\u001b[0midxmax\u001b[0m\u001b[0;34m(\u001b[0m\u001b[0;34m)\u001b[0m\u001b[0;34m,\u001b[0m \u001b[0;34m'BINOMIAL'\u001b[0m\u001b[0;34m]\u001b[0m\u001b[0;34m\u001b[0m\u001b[0;34m\u001b[0m\u001b[0m\n",
      "\u001b[0;32m/opt/conda/lib/python3.7/site-packages/geopandas/geodataframe.py\u001b[0m in \u001b[0;36m__getitem__\u001b[0;34m(self, key)\u001b[0m\n\u001b[1;32m    804\u001b[0m         \u001b[0mGeoDataFrame\u001b[0m\u001b[0;34m.\u001b[0m\u001b[0;34m\u001b[0m\u001b[0;34m\u001b[0m\u001b[0m\n\u001b[1;32m    805\u001b[0m         \"\"\"\n\u001b[0;32m--> 806\u001b[0;31m         \u001b[0mresult\u001b[0m \u001b[0;34m=\u001b[0m \u001b[0msuper\u001b[0m\u001b[0;34m(\u001b[0m\u001b[0mGeoDataFrame\u001b[0m\u001b[0;34m,\u001b[0m \u001b[0mself\u001b[0m\u001b[0;34m)\u001b[0m\u001b[0;34m.\u001b[0m\u001b[0m__getitem__\u001b[0m\u001b[0;34m(\u001b[0m\u001b[0mkey\u001b[0m\u001b[0;34m)\u001b[0m\u001b[0;34m\u001b[0m\u001b[0;34m\u001b[0m\u001b[0m\n\u001b[0m\u001b[1;32m    807\u001b[0m         \u001b[0mgeo_col\u001b[0m \u001b[0;34m=\u001b[0m \u001b[0mself\u001b[0m\u001b[0;34m.\u001b[0m\u001b[0m_geometry_column_name\u001b[0m\u001b[0;34m\u001b[0m\u001b[0;34m\u001b[0m\u001b[0m\n\u001b[1;32m    808\u001b[0m         \u001b[0;32mif\u001b[0m \u001b[0misinstance\u001b[0m\u001b[0;34m(\u001b[0m\u001b[0mresult\u001b[0m\u001b[0;34m,\u001b[0m \u001b[0mSeries\u001b[0m\u001b[0;34m)\u001b[0m \u001b[0;32mand\u001b[0m \u001b[0misinstance\u001b[0m\u001b[0;34m(\u001b[0m\u001b[0mresult\u001b[0m\u001b[0;34m.\u001b[0m\u001b[0mdtype\u001b[0m\u001b[0;34m,\u001b[0m \u001b[0mGeometryDtype\u001b[0m\u001b[0;34m)\u001b[0m\u001b[0;34m:\u001b[0m\u001b[0;34m\u001b[0m\u001b[0;34m\u001b[0m\u001b[0m\n",
      "\u001b[0;32m/opt/conda/lib/python3.7/site-packages/pandas/core/frame.py\u001b[0m in \u001b[0;36m__getitem__\u001b[0;34m(self, key)\u001b[0m\n\u001b[1;32m   2798\u001b[0m             \u001b[0;32mif\u001b[0m \u001b[0mself\u001b[0m\u001b[0;34m.\u001b[0m\u001b[0mcolumns\u001b[0m\u001b[0;34m.\u001b[0m\u001b[0mnlevels\u001b[0m \u001b[0;34m>\u001b[0m \u001b[0;36m1\u001b[0m\u001b[0;34m:\u001b[0m\u001b[0;34m\u001b[0m\u001b[0;34m\u001b[0m\u001b[0m\n\u001b[1;32m   2799\u001b[0m                 \u001b[0;32mreturn\u001b[0m \u001b[0mself\u001b[0m\u001b[0;34m.\u001b[0m\u001b[0m_getitem_multilevel\u001b[0m\u001b[0;34m(\u001b[0m\u001b[0mkey\u001b[0m\u001b[0;34m)\u001b[0m\u001b[0;34m\u001b[0m\u001b[0;34m\u001b[0m\u001b[0m\n\u001b[0;32m-> 2800\u001b[0;31m             \u001b[0mindexer\u001b[0m \u001b[0;34m=\u001b[0m \u001b[0mself\u001b[0m\u001b[0;34m.\u001b[0m\u001b[0mcolumns\u001b[0m\u001b[0;34m.\u001b[0m\u001b[0mget_loc\u001b[0m\u001b[0;34m(\u001b[0m\u001b[0mkey\u001b[0m\u001b[0;34m)\u001b[0m\u001b[0;34m\u001b[0m\u001b[0;34m\u001b[0m\u001b[0m\n\u001b[0m\u001b[1;32m   2801\u001b[0m             \u001b[0;32mif\u001b[0m \u001b[0mis_integer\u001b[0m\u001b[0;34m(\u001b[0m\u001b[0mindexer\u001b[0m\u001b[0;34m)\u001b[0m\u001b[0;34m:\u001b[0m\u001b[0;34m\u001b[0m\u001b[0;34m\u001b[0m\u001b[0m\n\u001b[1;32m   2802\u001b[0m                 \u001b[0mindexer\u001b[0m \u001b[0;34m=\u001b[0m \u001b[0;34m[\u001b[0m\u001b[0mindexer\u001b[0m\u001b[0;34m]\u001b[0m\u001b[0;34m\u001b[0m\u001b[0;34m\u001b[0m\u001b[0m\n",
      "\u001b[0;32m/opt/conda/lib/python3.7/site-packages/pandas/core/indexes/base.py\u001b[0m in \u001b[0;36mget_loc\u001b[0;34m(self, key, method, tolerance)\u001b[0m\n\u001b[1;32m   2646\u001b[0m                 \u001b[0;32mreturn\u001b[0m \u001b[0mself\u001b[0m\u001b[0;34m.\u001b[0m\u001b[0m_engine\u001b[0m\u001b[0;34m.\u001b[0m\u001b[0mget_loc\u001b[0m\u001b[0;34m(\u001b[0m\u001b[0mkey\u001b[0m\u001b[0;34m)\u001b[0m\u001b[0;34m\u001b[0m\u001b[0;34m\u001b[0m\u001b[0m\n\u001b[1;32m   2647\u001b[0m             \u001b[0;32mexcept\u001b[0m \u001b[0mKeyError\u001b[0m\u001b[0;34m:\u001b[0m\u001b[0;34m\u001b[0m\u001b[0;34m\u001b[0m\u001b[0m\n\u001b[0;32m-> 2648\u001b[0;31m                 \u001b[0;32mreturn\u001b[0m \u001b[0mself\u001b[0m\u001b[0;34m.\u001b[0m\u001b[0m_engine\u001b[0m\u001b[0;34m.\u001b[0m\u001b[0mget_loc\u001b[0m\u001b[0;34m(\u001b[0m\u001b[0mself\u001b[0m\u001b[0;34m.\u001b[0m\u001b[0m_maybe_cast_indexer\u001b[0m\u001b[0;34m(\u001b[0m\u001b[0mkey\u001b[0m\u001b[0;34m)\u001b[0m\u001b[0;34m)\u001b[0m\u001b[0;34m\u001b[0m\u001b[0;34m\u001b[0m\u001b[0m\n\u001b[0m\u001b[1;32m   2649\u001b[0m         \u001b[0mindexer\u001b[0m \u001b[0;34m=\u001b[0m \u001b[0mself\u001b[0m\u001b[0;34m.\u001b[0m\u001b[0mget_indexer\u001b[0m\u001b[0;34m(\u001b[0m\u001b[0;34m[\u001b[0m\u001b[0mkey\u001b[0m\u001b[0;34m]\u001b[0m\u001b[0;34m,\u001b[0m \u001b[0mmethod\u001b[0m\u001b[0;34m=\u001b[0m\u001b[0mmethod\u001b[0m\u001b[0;34m,\u001b[0m \u001b[0mtolerance\u001b[0m\u001b[0;34m=\u001b[0m\u001b[0mtolerance\u001b[0m\u001b[0;34m)\u001b[0m\u001b[0;34m\u001b[0m\u001b[0;34m\u001b[0m\u001b[0m\n\u001b[1;32m   2650\u001b[0m         \u001b[0;32mif\u001b[0m \u001b[0mindexer\u001b[0m\u001b[0;34m.\u001b[0m\u001b[0mndim\u001b[0m \u001b[0;34m>\u001b[0m \u001b[0;36m1\u001b[0m \u001b[0;32mor\u001b[0m \u001b[0mindexer\u001b[0m\u001b[0;34m.\u001b[0m\u001b[0msize\u001b[0m \u001b[0;34m>\u001b[0m \u001b[0;36m1\u001b[0m\u001b[0;34m:\u001b[0m\u001b[0;34m\u001b[0m\u001b[0;34m\u001b[0m\u001b[0m\n",
      "\u001b[0;32mpandas/_libs/index.pyx\u001b[0m in \u001b[0;36mpandas._libs.index.IndexEngine.get_loc\u001b[0;34m()\u001b[0m\n",
      "\u001b[0;32mpandas/_libs/index.pyx\u001b[0m in \u001b[0;36mpandas._libs.index.IndexEngine.get_loc\u001b[0;34m()\u001b[0m\n",
      "\u001b[0;32mpandas/_libs/hashtable_class_helper.pxi\u001b[0m in \u001b[0;36mpandas._libs.hashtable.PyObjectHashTable.get_item\u001b[0;34m()\u001b[0m\n",
      "\u001b[0;32mpandas/_libs/hashtable_class_helper.pxi\u001b[0m in \u001b[0;36mpandas._libs.hashtable.PyObjectHashTable.get_item\u001b[0;34m()\u001b[0m\n",
      "\u001b[0;31mKeyError\u001b[0m: False"
     ]
    }
   ],
   "source": [
    "data['area'] = data.area\n",
    "max_area = data['area'].max()\n",
    "min_area = data['area'].min()\n",
    "med_area = data['area'].median()\n",
    "up_quart = (max_area + med_area) / 2\n",
    "lo_quart = (min_area + med_area) / 2\n",
    "#stat_area = pd.DataFrame({'Max':[max_area],\n",
    "                       #'Min':[min_area],\n",
    "                         #'Med':[med_area],\n",
    "                         #'Q3':[up_quart],\n",
    "                         #'Q1':[lo_quart]})\n",
    "frac_area = (len(data.loc[data['Category' == 'EN'] > 5, 'KINGDOM_NA']) / len(data[data['KINGDOM_NA']])) * 100\n",
    "#data.loc[data['Category' == 'EN'] > 5, 'KINGDOM_NA']\n",
    "max_area_all = data.loc[data['area'].idxmax(), 'BINOMIAL']\n",
    "print(max_area_all)"
   ]
  },
  {
   "cell_type": "code",
   "execution_count": 205,
   "metadata": {},
   "outputs": [
    {
     "ename": "DriverError",
     "evalue": "'INFRADrainage.geojson' not recognized as a supported file format.",
     "output_type": "error",
     "traceback": [
      "\u001b[0;31m---------------------------------------------------------------------------\u001b[0m",
      "\u001b[0;31mCPLE_OpenFailedError\u001b[0m                      Traceback (most recent call last)",
      "\u001b[0;32mfiona/_shim.pyx\u001b[0m in \u001b[0;36mfiona._shim.gdal_open_vector\u001b[0;34m()\u001b[0m\n",
      "\u001b[0;32mfiona/_err.pyx\u001b[0m in \u001b[0;36mfiona._err.exc_wrap_pointer\u001b[0;34m()\u001b[0m\n",
      "\u001b[0;31mCPLE_OpenFailedError\u001b[0m: 'INFRADrainage.geojson' not recognized as a supported file format.",
      "\nDuring handling of the above exception, another exception occurred:\n",
      "\u001b[0;31mDriverError\u001b[0m                               Traceback (most recent call last)",
      "\u001b[0;32m<ipython-input-205-c88b866f41a2>\u001b[0m in \u001b[0;36m<module>\u001b[0;34m\u001b[0m\n\u001b[1;32m      3\u001b[0m \u001b[0;34m\u001b[0m\u001b[0m\n\u001b[1;32m      4\u001b[0m \u001b[0;31m# Read file using gpd.read_file()\u001b[0m\u001b[0;34m\u001b[0m\u001b[0;34m\u001b[0m\u001b[0;34m\u001b[0m\u001b[0m\n\u001b[0;32m----> 5\u001b[0;31m \u001b[0mdata\u001b[0m \u001b[0;34m=\u001b[0m \u001b[0mgpd\u001b[0m\u001b[0;34m.\u001b[0m\u001b[0mread_file\u001b[0m\u001b[0;34m(\u001b[0m\u001b[0mfilepath\u001b[0m\u001b[0;34m,\u001b[0m \u001b[0mdriver\u001b[0m\u001b[0;34m=\u001b[0m\u001b[0;34m'GeoJSON'\u001b[0m\u001b[0;34m)\u001b[0m\u001b[0;34m\u001b[0m\u001b[0;34m\u001b[0m\u001b[0m\n\u001b[0m\u001b[1;32m      6\u001b[0m \u001b[0mdata\u001b[0m\u001b[0;34m.\u001b[0m\u001b[0mplot\u001b[0m\u001b[0;34m(\u001b[0m\u001b[0;34m)\u001b[0m\u001b[0;34m\u001b[0m\u001b[0;34m\u001b[0m\u001b[0m\n",
      "\u001b[0;32m/opt/conda/lib/python3.7/site-packages/geopandas/io/file.py\u001b[0m in \u001b[0;36m_read_file\u001b[0;34m(filename, bbox, mask, rows, **kwargs)\u001b[0m\n\u001b[1;32m     94\u001b[0m \u001b[0;34m\u001b[0m\u001b[0m\n\u001b[1;32m     95\u001b[0m     \u001b[0;32mwith\u001b[0m \u001b[0mfiona_env\u001b[0m\u001b[0;34m(\u001b[0m\u001b[0;34m)\u001b[0m\u001b[0;34m:\u001b[0m\u001b[0;34m\u001b[0m\u001b[0;34m\u001b[0m\u001b[0m\n\u001b[0;32m---> 96\u001b[0;31m         \u001b[0;32mwith\u001b[0m \u001b[0mreader\u001b[0m\u001b[0;34m(\u001b[0m\u001b[0mpath_or_bytes\u001b[0m\u001b[0;34m,\u001b[0m \u001b[0;34m**\u001b[0m\u001b[0mkwargs\u001b[0m\u001b[0;34m)\u001b[0m \u001b[0;32mas\u001b[0m \u001b[0mfeatures\u001b[0m\u001b[0;34m:\u001b[0m\u001b[0;34m\u001b[0m\u001b[0;34m\u001b[0m\u001b[0m\n\u001b[0m\u001b[1;32m     97\u001b[0m \u001b[0;34m\u001b[0m\u001b[0m\n\u001b[1;32m     98\u001b[0m             \u001b[0;31m# In a future Fiona release the crs attribute of features will\u001b[0m\u001b[0;34m\u001b[0m\u001b[0;34m\u001b[0m\u001b[0;34m\u001b[0m\u001b[0m\n",
      "\u001b[0;32m/opt/conda/lib/python3.7/site-packages/fiona/env.py\u001b[0m in \u001b[0;36mwrapper\u001b[0;34m(*args, **kwargs)\u001b[0m\n\u001b[1;32m    396\u001b[0m     \u001b[0;32mdef\u001b[0m \u001b[0mwrapper\u001b[0m\u001b[0;34m(\u001b[0m\u001b[0;34m*\u001b[0m\u001b[0margs\u001b[0m\u001b[0;34m,\u001b[0m \u001b[0;34m**\u001b[0m\u001b[0mkwargs\u001b[0m\u001b[0;34m)\u001b[0m\u001b[0;34m:\u001b[0m\u001b[0;34m\u001b[0m\u001b[0;34m\u001b[0m\u001b[0m\n\u001b[1;32m    397\u001b[0m         \u001b[0;32mif\u001b[0m \u001b[0mlocal\u001b[0m\u001b[0;34m.\u001b[0m\u001b[0m_env\u001b[0m\u001b[0;34m:\u001b[0m\u001b[0;34m\u001b[0m\u001b[0;34m\u001b[0m\u001b[0m\n\u001b[0;32m--> 398\u001b[0;31m             \u001b[0;32mreturn\u001b[0m \u001b[0mf\u001b[0m\u001b[0;34m(\u001b[0m\u001b[0;34m*\u001b[0m\u001b[0margs\u001b[0m\u001b[0;34m,\u001b[0m \u001b[0;34m**\u001b[0m\u001b[0mkwargs\u001b[0m\u001b[0;34m)\u001b[0m\u001b[0;34m\u001b[0m\u001b[0;34m\u001b[0m\u001b[0m\n\u001b[0m\u001b[1;32m    399\u001b[0m         \u001b[0;32melse\u001b[0m\u001b[0;34m:\u001b[0m\u001b[0;34m\u001b[0m\u001b[0;34m\u001b[0m\u001b[0m\n\u001b[1;32m    400\u001b[0m             \u001b[0;32mif\u001b[0m \u001b[0misinstance\u001b[0m\u001b[0;34m(\u001b[0m\u001b[0margs\u001b[0m\u001b[0;34m[\u001b[0m\u001b[0;36m0\u001b[0m\u001b[0;34m]\u001b[0m\u001b[0;34m,\u001b[0m \u001b[0mstr\u001b[0m\u001b[0;34m)\u001b[0m\u001b[0;34m:\u001b[0m\u001b[0;34m\u001b[0m\u001b[0;34m\u001b[0m\u001b[0m\n",
      "\u001b[0;32m/opt/conda/lib/python3.7/site-packages/fiona/__init__.py\u001b[0m in \u001b[0;36mopen\u001b[0;34m(fp, mode, driver, schema, crs, encoding, layer, vfs, enabled_drivers, crs_wkt, **kwargs)\u001b[0m\n\u001b[1;32m    252\u001b[0m         \u001b[0;32mif\u001b[0m \u001b[0mmode\u001b[0m \u001b[0;32min\u001b[0m \u001b[0;34m(\u001b[0m\u001b[0;34m'a'\u001b[0m\u001b[0;34m,\u001b[0m \u001b[0;34m'r'\u001b[0m\u001b[0;34m)\u001b[0m\u001b[0;34m:\u001b[0m\u001b[0;34m\u001b[0m\u001b[0;34m\u001b[0m\u001b[0m\n\u001b[1;32m    253\u001b[0m             c = Collection(path, mode, driver=driver, encoding=encoding,\n\u001b[0;32m--> 254\u001b[0;31m                            layer=layer, enabled_drivers=enabled_drivers, **kwargs)\n\u001b[0m\u001b[1;32m    255\u001b[0m         \u001b[0;32melif\u001b[0m \u001b[0mmode\u001b[0m \u001b[0;34m==\u001b[0m \u001b[0;34m'w'\u001b[0m\u001b[0;34m:\u001b[0m\u001b[0;34m\u001b[0m\u001b[0;34m\u001b[0m\u001b[0m\n\u001b[1;32m    256\u001b[0m             \u001b[0;32mif\u001b[0m \u001b[0mschema\u001b[0m\u001b[0;34m:\u001b[0m\u001b[0;34m\u001b[0m\u001b[0;34m\u001b[0m\u001b[0m\n",
      "\u001b[0;32m/opt/conda/lib/python3.7/site-packages/fiona/collection.py\u001b[0m in \u001b[0;36m__init__\u001b[0;34m(self, path, mode, driver, schema, crs, encoding, layer, vsi, archive, enabled_drivers, crs_wkt, ignore_fields, ignore_geometry, **kwargs)\u001b[0m\n\u001b[1;32m    152\u001b[0m             \u001b[0;32mif\u001b[0m \u001b[0mself\u001b[0m\u001b[0;34m.\u001b[0m\u001b[0mmode\u001b[0m \u001b[0;34m==\u001b[0m \u001b[0;34m'r'\u001b[0m\u001b[0;34m:\u001b[0m\u001b[0;34m\u001b[0m\u001b[0;34m\u001b[0m\u001b[0m\n\u001b[1;32m    153\u001b[0m                 \u001b[0mself\u001b[0m\u001b[0;34m.\u001b[0m\u001b[0msession\u001b[0m \u001b[0;34m=\u001b[0m \u001b[0mSession\u001b[0m\u001b[0;34m(\u001b[0m\u001b[0;34m)\u001b[0m\u001b[0;34m\u001b[0m\u001b[0;34m\u001b[0m\u001b[0m\n\u001b[0;32m--> 154\u001b[0;31m                 \u001b[0mself\u001b[0m\u001b[0;34m.\u001b[0m\u001b[0msession\u001b[0m\u001b[0;34m.\u001b[0m\u001b[0mstart\u001b[0m\u001b[0;34m(\u001b[0m\u001b[0mself\u001b[0m\u001b[0;34m,\u001b[0m \u001b[0;34m**\u001b[0m\u001b[0mkwargs\u001b[0m\u001b[0;34m)\u001b[0m\u001b[0;34m\u001b[0m\u001b[0;34m\u001b[0m\u001b[0m\n\u001b[0m\u001b[1;32m    155\u001b[0m             \u001b[0;32melif\u001b[0m \u001b[0mself\u001b[0m\u001b[0;34m.\u001b[0m\u001b[0mmode\u001b[0m \u001b[0;32min\u001b[0m \u001b[0;34m(\u001b[0m\u001b[0;34m'a'\u001b[0m\u001b[0;34m,\u001b[0m \u001b[0;34m'w'\u001b[0m\u001b[0;34m)\u001b[0m\u001b[0;34m:\u001b[0m\u001b[0;34m\u001b[0m\u001b[0;34m\u001b[0m\u001b[0m\n\u001b[1;32m    156\u001b[0m                 \u001b[0mself\u001b[0m\u001b[0;34m.\u001b[0m\u001b[0msession\u001b[0m \u001b[0;34m=\u001b[0m \u001b[0mWritingSession\u001b[0m\u001b[0;34m(\u001b[0m\u001b[0;34m)\u001b[0m\u001b[0;34m\u001b[0m\u001b[0;34m\u001b[0m\u001b[0m\n",
      "\u001b[0;32mfiona/ogrext.pyx\u001b[0m in \u001b[0;36mfiona.ogrext.Session.start\u001b[0;34m()\u001b[0m\n",
      "\u001b[0;32mfiona/_shim.pyx\u001b[0m in \u001b[0;36mfiona._shim.gdal_open_vector\u001b[0;34m()\u001b[0m\n",
      "\u001b[0;31mDriverError\u001b[0m: 'INFRADrainage.geojson' not recognized as a supported file format."
     ]
    }
   ],
   "source": [
    "# path to shapefile\n",
    "filepath = \"INFRADrainage.geojson\"\n",
    "\n",
    "# Read file using gpd.read_file()\n",
    "data = gpd.read_file(filepath, driver='GeoJSON')\n",
    "data.plot()"
   ]
  },
  {
   "cell_type": "markdown",
   "metadata": {
    "colab_type": "text",
    "id": "gfJNj0A9Kd2C"
   },
   "source": [
    "An important part responsibility of GIS engineers during the pandemic is to visualize spread and case intensity during the pandemic. Using datasets from the following sources:\n",
    "\n",
    "\n",
    "*   Visualize raw data collected from sources around the world about the state of the pandemic\n",
    "*   Explore connections between various factors and come up with a hypothesis for your research. Some ideas could be connecting COVID data in different counties to socioeconomy, age, or building architecture data. Remember, mapping data speaks louder than graphs or datasets.\n",
    "*   Present your findings to the rest of the class and come up with a possible solution to the problem or connection that you explored\n",
    "\n",
    "COVID-19 Datasets:\n",
    "* COVID-19 Dataset (Kaggle): www.kaggle.com/imdevskp/corona-virus-report\n",
    "* New York Times Dataset: https://github.com/nytimes/covid-19-data\n",
    "* JHU Dataset: https://github.com/CSSEGISandData/COVID-19/tree/master/csse_covid_19_data\n",
    "*  Feel free to explore more area specific datasets or datasets which outline other conditions. These are just suggestions.\n",
    "\n",
    "To make your research connections, be sure to explore population and demographic datasets of different counties around the country. Be creative with your research!"
   ]
  },
  {
   "cell_type": "code",
   "execution_count": null,
   "metadata": {
    "colab": {},
    "colab_type": "code",
    "id": "2HCkn3e3Koxq"
   },
   "outputs": [],
   "source": []
  },
  {
   "cell_type": "markdown",
   "metadata": {
    "colab_type": "text",
    "id": "v1UdgmMbKpGz"
   },
   "source": [
    "Map a shape of your hometown onto the map. Similar to how we mapped the coordinates of the MIT campus on a map, map the coordinates of your hometown onto a map. It doesn't have to exact, but just take a couple rough coordinates and visualize your place on the map. The TAs will try to map these shapes onto a full map so that we can get an idea of where everyone is from and visualize how geographically diverse our class is."
   ]
  },
  {
   "cell_type": "code",
   "execution_count": null,
   "metadata": {
    "colab": {},
    "colab_type": "code",
    "id": "lhXWI3j7KsmK"
   },
   "outputs": [],
   "source": []
  }
 ],
 "metadata": {
  "colab": {
   "collapsed_sections": [],
   "name": "03_Intro_to_GIS.ipynb",
   "provenance": []
  },
  "kernelspec": {
   "display_name": "Python 3",
   "language": "python",
   "name": "python3"
  },
  "language_info": {
   "codemirror_mode": {
    "name": "ipython",
    "version": 3
   },
   "file_extension": ".py",
   "mimetype": "text/x-python",
   "name": "python",
   "nbconvert_exporter": "python",
   "pygments_lexer": "ipython3",
   "version": "3.7.6"
  }
 },
 "nbformat": 4,
 "nbformat_minor": 4
}
